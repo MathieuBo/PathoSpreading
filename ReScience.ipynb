{
 "cells": [
  {
   "cell_type": "markdown",
   "metadata": {},
   "source": [
    "# ReScience"
   ]
  },
  {
   "cell_type": "markdown",
   "metadata": {},
   "source": [
    "This JupyterNotebook was created to produce the brain sections from Figure 2D, 2E and 3 from the article **[Re] Spread of alpha-synuclein pathology through the brain connectome is modulated by selective vulnerability and predicted by network analysis** submitted to ReScience.\n",
    "\n",
    "\n",
    "*Requirements*: The Input directory must be the directory from the repository. \n",
    "The algorithm first needs to be runned to predict the spread after the initiation in the iPir and the iSN. (Figure3)\n",
    "The output path can be modified."
   ]
  },
  {
   "cell_type": "markdown",
   "metadata": {},
   "source": [
    "### Imports"
   ]
  },
  {
   "cell_type": "code",
   "execution_count": 74,
   "metadata": {},
   "outputs": [],
   "source": [
    "# Brainrender librairy\n",
    "from vedo import embedWindow\n",
    "embedWindow(None)\n",
    "# from brainrender import Scene, atlas\n",
    "# import brainrender\n",
    "\n",
    "import pandas as pd\n",
    "import matplotlib.pyplot as plt\n",
    "import numpy as np\n",
    "from tqdm import tqdm\n",
    "\n",
    "from matplotlib.colors import LinearSegmentedColormap\n",
    "import matplotlib\n",
    "import matplotlib.pyplot as plt\n",
    "from matplotlib import colors\n",
    "from mpl_toolkits.axes_grid1 import AxesGrid\n",
    "\n",
    "from PIL import Image\n",
    "import os"
   ]
  },
  {
   "cell_type": "markdown",
   "metadata": {},
   "source": [
    "### Function"
   ]
  },
  {
   "cell_type": "code",
   "execution_count": 73,
   "metadata": {},
   "outputs": [],
   "source": [
    "### Definition of the function used to create the colormap\n",
    "def shiftedColorMap(cmap, start=0, midpoint=0.5, stop=1.0, name=\"ternary_centered\"):\n",
    "    \"\"\"\n",
    "    Function to offset the “center” of a colormap. Useful for\n",
    "    data with a negative min and positive max and you want the\n",
    "    middle of the colormap’s dynamic range to be at zero\n",
    "    Input\n",
    "    -----\n",
    "      cmap : The matplotlib colormap to be altered\n",
    "      start : Offset from lowest point in the colormap’s range.\n",
    "          Defaults to 0.0 (no lower ofset). Should be between\n",
    "          0.0 and `midpoint`.\n",
    "      midpoint : The new center of the colormap. Defaults to\n",
    "          0.5 (no shift). Should be between 0.0 and 1.0. In\n",
    "          general, this should be  1 - vmax/(vmax + abs(vmin))\n",
    "          For example if your data range from -15.0 to +5.0 and\n",
    "          you want the center of the colormap at 0.0, `midpoint`\n",
    "          should be set to  1 - 5/(5 + 15)) or 0.75\n",
    "      stop : Offset from highets point in the colormap’s range.\n",
    "          Defaults to 1.0 (no upper ofset). Should be between\n",
    "          `midpoint` and 1.0.\"\"\"\n",
    "    cdict = {\n",
    "        \"red\": [],\n",
    "        \"green\": [],\n",
    "        \"blue\": [],\n",
    "        \"alpha\": []\n",
    "    }\n",
    "    # regular index to compute the colors\n",
    "    reg_index = np.linspace(start, stop, 257)\n",
    "    # shifted index to match the data\n",
    "    shift_index = np.hstack([\n",
    "        np.linspace(start, midpoint, 128, endpoint=False),\n",
    "        np.linspace(midpoint, stop, 129, endpoint=True)\n",
    "    ])\n",
    "    for ri, si in zip(reg_index, shift_index):\n",
    "        r, g, b, a = cmap(ri)\n",
    "        cdict[\"red\"].append((si, r, r))\n",
    "        cdict[\"green\"].append((si, g, g))\n",
    "        cdict[\"blue\"].append((si, b, b))\n",
    "        cdict[\"alpha\"].append((si, a, a))\n",
    "    newcmap = colors.LinearSegmentedColormap(name, cdict)\n",
    "    return newcmap"
   ]
  },
  {
   "cell_type": "markdown",
   "metadata": {},
   "source": [
    "### Directories"
   ]
  },
  {
   "cell_type": "markdown",
   "metadata": {},
   "source": [
    "#### Input"
   ]
  },
  {
   "cell_type": "markdown",
   "metadata": {},
   "source": [
    "The input directory must be the main folder extracted in GitHub (PathoSpreading)"
   ]
  },
  {
   "cell_type": "markdown",
   "metadata": {},
   "source": [
    "#### Output"
   ]
  },
  {
   "cell_type": "code",
   "execution_count": 66,
   "metadata": {},
   "outputs": [],
   "source": [
    "# Output directories creation\n",
    "output_directory = \"./output\"\n",
    "folders_figures = [\"PIR_MPIs\", \"SN_MPIs\", \"Colormaps\",\n",
    "               \"Residuals_Mean_MPIs\",\"SNCA_exp\"]\n",
    "for folder in folders_figures:\n",
    "    os.makedirs(\"{}/ReScience_Figures/{}\".format(output_directory, folder), exist_ok=True)"
   ]
  },
  {
   "cell_type": "markdown",
   "metadata": {},
   "source": [
    "## Figure 3"
   ]
  },
  {
   "cell_type": "markdown",
   "metadata": {},
   "source": [
    "#### A)  Piriform"
   ]
  },
  {
   "cell_type": "code",
   "execution_count": null,
   "metadata": {},
   "outputs": [],
   "source": [
    "# Loading the data\n",
    "cmap= plt.get_cmap(\"Reds\") # Red colormap\n",
    "data_pir = pd.read_csv('./output/_iPir/Tables/predicted_pathology_iPir.csv') # Prediction after simulation in the iPir\n",
    "reg_names = pd.read_csv('./Data83018/BrainR_ROInames.csv') # Conversion table to match the brain regions used by Henderson et al. with those available in BrainRender\n",
    "\n",
    "# Matching ROInames with BrainRender\n",
    "for r in data_pir.index:\n",
    "    \n",
    "    names = reg_names[reg_names['ROInames'] == data_pir.loc[r, 'regions']]['BrainR']\n",
    "    \n",
    "    if len(names) > 1:\n",
    "         data_pir.loc[r, 'br_regions'] = list(names)[0]\n",
    "    elif len(names) == 1:    \n",
    "        data_pir.loc[r, 'br_regions'] = names.values\n",
    "        \n",
    "for r in data_pir.index:\n",
    "    \n",
    "    if data_pir.loc[r, 'regions'][0] == 'i':\n",
    "        data_pir.loc[r, 'hem'] = 'right'\n",
    "    elif data_pir.loc[r, 'regions'][0] == 'c':\n",
    "        data_pir.loc[r, 'hem'] = 'left' \n",
    "        \n",
    "# Normalization\n",
    "max_Pir= np.max(data_pir['MPI6'])\n",
    "min_Pir = np.min(data_pir['MPI1'])\n",
    "\n",
    "data_pir['MPI6'] = (data_pir['MPI6'] - min_Pir) / (max_Pir - min_Pir)\n",
    "data_pir['MPI3'] = (data_pir['MPI3'] - min_Pir) / (max_Pir - min_Pir)\n",
    "data_pir['MPI1'] = (data_pir['MPI1'] - min_Pir) / (max_Pir - min_Pir)\n",
    "data_pir = data_pir.dropna()\n",
    "\n",
    "# Iterative variables\n",
    "list_coor = [-2100, -1080, +1360, +2820, +4500] # Bregma corresponding coordinates\n",
    "timepoints = [1,3,6]\n",
    "\n",
    "\n",
    "# Creation of the sections\n",
    "for t in tqdm(timepoints):\n",
    "    for section in list_coor:\n",
    "        bregma = np.array([5400,  # AP    \n",
    "              0,  # DV    \n",
    "              5700,]) # ML\n",
    "\n",
    "        bregma[0] = bregma[0] + section\n",
    "\n",
    "        # Create a brainrender scene\n",
    "        scene = Scene(inset=False,screenshots_folder=\"{}/ReScience_Figures/PIR_MPIs\".format(output_directory))\n",
    "        frontal_camera = {\n",
    "             'pos': (-19781, 3777, -5832),\n",
    "             'viewup': (0, -1, 0),\n",
    "             'clippingRange': (24465, 26836),\n",
    "            'focalPoint': (5705, 3991, -5691),\n",
    "             'distance': 25487}\n",
    "\n",
    "        # Add brain regions\n",
    "        for r in data_pir.index:\n",
    "\n",
    "            region_to_plot = data_pir.loc[r, \"br_regions\"]\n",
    "            color = cmap(100*data_pir.loc[r, 'MPI{}'.format(t)])[:3]\n",
    "            alpha =  cmap(data_pir.loc[r, 'MPI{}'.format(t)])[:3]\n",
    "            scene.add_brain_region(region_to_plot, color=color, alpha=1, hemisphere=data_pir.loc[r, 'hem'], silhouette=True) #alpha=data_cpu.loc[r, 'MPI{}'.format(t)]\n",
    "        \n",
    "        # Sectionning the 3D brain into slices\n",
    "        plane_1 = scene.atlas.get_plane(pos=bregma+50, plane=\"frontal\", norm=(-1, 0, 0), alpha=1, color=\"white\") # Thickness: 150 um\n",
    "        plane_2 = scene.atlas.get_plane(pos=bregma-50, plane=\"frontal\", norm=(1, 0, 0), alpha=1, color=\"white\")\n",
    "        scene.slice(plane_1, close_actors=True)\n",
    "        scene.slice(plane_2, close_actors=True)\n",
    "\n",
    "        # Rendering parameters\n",
    "        brainrender.settings.SHADER_STYLE = \"cartoon\" #[metallic, plastic, shiny, glossy]\n",
    "        brainrender.settings.ROOT_ALPHA = 0.17\n",
    "        brainrender.settings.LW =2.4\n",
    "        brainrender.settings.ROOT_COLOR  = [0.5019, 0.5019, 0.5019]\n",
    "        brainrender.settings.OFFSCREEN = True\n",
    "        brainrender.settings.SHOW_AXES = False\n",
    "        brainrender.settings.BACKGROUND_COLOR = \"white\"\n",
    "        scene.render(atlas_name='allen_mouse_50um', camera= frontal_camera, zoom=1.5)\n",
    "        scene.screenshot(name=\"50um_Pir_MPI{}_Breg_{}_mm\".format(t,-section/1000), scale = 3)\n",
    "        scene.close()"
   ]
  },
  {
   "cell_type": "markdown",
   "metadata": {},
   "source": [
    "####     $\\color{green}{B)  Substantia Nigra}$"
   ]
  },
  {
   "cell_type": "code",
   "execution_count": 4,
   "metadata": {},
   "outputs": [
    {
     "name": "stderr",
     "output_type": "stream",
     "text": [
      "  0%|          | 0/3 [00:00<?, ?it/s]"
     ]
    },
    {
     "data": {
      "text/html": [
       "<pre style=\"white-space:pre;overflow-x:auto;line-height:normal;font-family:Menlo,'DejaVu Sans Mono',consolas,'Courier New',monospace\">\n",
       "Saving new screenshot at 50um_SNc_MPI1_Breg_-<span style=\"color: #000080; font-weight: bold\">2.</span>1_mm.png\n",
       "\n",
       "</pre>\n"
      ]
     },
     "metadata": {},
     "output_type": "display_data"
    },
    {
     "data": {
      "text/html": [
       "<pre style=\"white-space:pre;overflow-x:auto;line-height:normal;font-family:Menlo,'DejaVu Sans Mono',consolas,'Courier New',monospace\">\n",
       "Saving new screenshot at 50um_SNc_MPI1_Breg_-<span style=\"color: #000080; font-weight: bold\">1.</span>08_mm.png\n",
       "\n",
       "</pre>\n"
      ]
     },
     "metadata": {},
     "output_type": "display_data"
    },
    {
     "data": {
      "text/html": [
       "<pre style=\"white-space:pre;overflow-x:auto;line-height:normal;font-family:Menlo,'DejaVu Sans Mono',consolas,'Courier New',monospace\">\n",
       "Saving new screenshot at 50um_SNc_MPI1_Breg_1.36_mm.png\n",
       "\n",
       "</pre>\n"
      ]
     },
     "metadata": {},
     "output_type": "display_data"
    },
    {
     "data": {
      "text/html": [
       "<pre style=\"white-space:pre;overflow-x:auto;line-height:normal;font-family:Menlo,'DejaVu Sans Mono',consolas,'Courier New',monospace\">\n",
       "Saving new screenshot at 50um_SNc_MPI1_Breg_2.82_mm.png\n",
       "\n",
       "</pre>\n"
      ]
     },
     "metadata": {},
     "output_type": "display_data"
    },
    {
     "data": {
      "text/html": [
       "<pre style=\"white-space:pre;overflow-x:auto;line-height:normal;font-family:Menlo,'DejaVu Sans Mono',consolas,'Courier New',monospace\">\n",
       "Saving new screenshot at 50um_SNc_MPI1_Breg_4.5_mm.png\n",
       "\n",
       "</pre>\n"
      ]
     },
     "metadata": {},
     "output_type": "display_data"
    },
    {
     "name": "stderr",
     "output_type": "stream",
     "text": [
      " 33%|███▎      | 1/3 [00:54<01:48, 54.43s/it]"
     ]
    },
    {
     "data": {
      "text/html": [
       "<pre style=\"white-space:pre;overflow-x:auto;line-height:normal;font-family:Menlo,'DejaVu Sans Mono',consolas,'Courier New',monospace\">\n",
       "Saving new screenshot at 50um_SNc_MPI3_Breg_-<span style=\"color: #000080; font-weight: bold\">2.</span>1_mm.png\n",
       "\n",
       "</pre>\n"
      ]
     },
     "metadata": {},
     "output_type": "display_data"
    },
    {
     "data": {
      "text/html": [
       "<pre style=\"white-space:pre;overflow-x:auto;line-height:normal;font-family:Menlo,'DejaVu Sans Mono',consolas,'Courier New',monospace\">\n",
       "Saving new screenshot at 50um_SNc_MPI3_Breg_-<span style=\"color: #000080; font-weight: bold\">1.</span>08_mm.png\n",
       "\n",
       "</pre>\n"
      ]
     },
     "metadata": {},
     "output_type": "display_data"
    },
    {
     "data": {
      "text/html": [
       "<pre style=\"white-space:pre;overflow-x:auto;line-height:normal;font-family:Menlo,'DejaVu Sans Mono',consolas,'Courier New',monospace\">\n",
       "Saving new screenshot at 50um_SNc_MPI3_Breg_1.36_mm.png\n",
       "\n",
       "</pre>\n"
      ]
     },
     "metadata": {},
     "output_type": "display_data"
    },
    {
     "data": {
      "text/html": [
       "<pre style=\"white-space:pre;overflow-x:auto;line-height:normal;font-family:Menlo,'DejaVu Sans Mono',consolas,'Courier New',monospace\">\n",
       "Saving new screenshot at 50um_SNc_MPI3_Breg_2.82_mm.png\n",
       "\n",
       "</pre>\n"
      ]
     },
     "metadata": {},
     "output_type": "display_data"
    },
    {
     "data": {
      "text/html": [
       "<pre style=\"white-space:pre;overflow-x:auto;line-height:normal;font-family:Menlo,'DejaVu Sans Mono',consolas,'Courier New',monospace\">\n",
       "Saving new screenshot at 50um_SNc_MPI3_Breg_4.5_mm.png\n",
       "\n",
       "</pre>\n"
      ]
     },
     "metadata": {},
     "output_type": "display_data"
    },
    {
     "name": "stderr",
     "output_type": "stream",
     "text": [
      " 67%|██████▋   | 2/3 [01:53<00:55, 55.76s/it]"
     ]
    },
    {
     "data": {
      "text/html": [
       "<pre style=\"white-space:pre;overflow-x:auto;line-height:normal;font-family:Menlo,'DejaVu Sans Mono',consolas,'Courier New',monospace\">\n",
       "Saving new screenshot at 50um_SNc_MPI6_Breg_-<span style=\"color: #000080; font-weight: bold\">2.</span>1_mm.png\n",
       "\n",
       "</pre>\n"
      ]
     },
     "metadata": {},
     "output_type": "display_data"
    },
    {
     "data": {
      "text/html": [
       "<pre style=\"white-space:pre;overflow-x:auto;line-height:normal;font-family:Menlo,'DejaVu Sans Mono',consolas,'Courier New',monospace\">\n",
       "Saving new screenshot at 50um_SNc_MPI6_Breg_-<span style=\"color: #000080; font-weight: bold\">1.</span>08_mm.png\n",
       "\n",
       "</pre>\n"
      ]
     },
     "metadata": {},
     "output_type": "display_data"
    },
    {
     "data": {
      "text/html": [
       "<pre style=\"white-space:pre;overflow-x:auto;line-height:normal;font-family:Menlo,'DejaVu Sans Mono',consolas,'Courier New',monospace\">\n",
       "Saving new screenshot at 50um_SNc_MPI6_Breg_1.36_mm.png\n",
       "\n",
       "</pre>\n"
      ]
     },
     "metadata": {},
     "output_type": "display_data"
    },
    {
     "data": {
      "text/html": [
       "<pre style=\"white-space:pre;overflow-x:auto;line-height:normal;font-family:Menlo,'DejaVu Sans Mono',consolas,'Courier New',monospace\">\n",
       "Saving new screenshot at 50um_SNc_MPI6_Breg_2.82_mm.png\n",
       "\n",
       "</pre>\n"
      ]
     },
     "metadata": {},
     "output_type": "display_data"
    },
    {
     "data": {
      "text/html": [
       "<pre style=\"white-space:pre;overflow-x:auto;line-height:normal;font-family:Menlo,'DejaVu Sans Mono',consolas,'Courier New',monospace\">\n",
       "Saving new screenshot at 50um_SNc_MPI6_Breg_4.5_mm.png\n",
       "\n",
       "</pre>\n"
      ]
     },
     "metadata": {},
     "output_type": "display_data"
    },
    {
     "name": "stderr",
     "output_type": "stream",
     "text": [
      "100%|██████████| 3/3 [02:51<00:00, 57.16s/it]\n"
     ]
    }
   ],
   "source": [
    "# Loading the data\n",
    "cmap = plt.get_cmap('Reds') # Red colormap\n",
    "data_sn = pd.read_csv('./output/_iSN/Tables/predicted_pathology_iSN.csv') # Prediction after simulation in the iSN\n",
    "reg_names = pd.read_csv('./Data83018/BrainR_ROInames.csv') # Conversion table to match the brain regions used by Henderson et al. with those available in BrainRender\n",
    "\n",
    "# Matching ROInames with BrainRender\n",
    "for r in data_sn.index:\n",
    "    \n",
    "    names = reg_names[reg_names['ROInames'] == data_sn.loc[r, 'regions']]['BrainR']\n",
    "    \n",
    "    if len(names) > 1:\n",
    "         data_sn.loc[r, 'br_regions'] = list(names)[0]\n",
    "    elif len(names) == 1:    \n",
    "        data_sn.loc[r, 'br_regions'] = names.values\n",
    "        \n",
    "for r in data_sn.index:\n",
    "    \n",
    "    if data_sn.loc[r, 'regions'][0] == 'i':\n",
    "        data_sn.loc[r, 'hem'] = 'right'\n",
    "    elif data_sn.loc[r, 'regions'][0] == 'c':\n",
    "        data_sn.loc[r, 'hem'] = 'left' \n",
    "        \n",
    "# Normalization\n",
    "max_SN= np.max(data_sn['MPI6'])\n",
    "min_SN = np.min(data_sn['MPI1'])\n",
    "\n",
    "data_sn['MPI6'] = (data_sn['MPI6'] - min_SN) / (max_SN - min_SN)\n",
    "data_sn['MPI3'] = (data_sn['MPI3'] - min_SN) / (max_SN - min_SN)\n",
    "data_sn['MPI1'] = (data_sn['MPI1'] - min_SN) / (max_SN - min_SN)\n",
    "data_sn = data_sn.dropna()\n",
    "\n",
    "# Iterative variables\n",
    "list_coor = [-2100, -1080, +1360, +2820, +4500] # Bregma corresponding coordinates\n",
    "timepoints = [1,3,6]\n",
    "\n",
    "\n",
    "# Creation of the sections\n",
    "for t in tqdm(timepoints):\n",
    "    for section in list_coor:\n",
    "        bregma = np.array([5400,  # AP    \n",
    "              0,  # DV    \n",
    "              5700,]) # ML\n",
    "\n",
    "        bregma[0] = bregma[0] + section\n",
    "\n",
    "        # Create a brainrender scene\n",
    "        scene = Scene(inset=False,screenshots_folder=\"{}/ReScience_Figures/SN_MPIs\".format(output_directory))\n",
    "        frontal_camera = {\n",
    "             'pos': (-19781, 3777, -5832),\n",
    "             'viewup': (0, -1, 0),\n",
    "             'clippingRange': (25465, 26836),\n",
    "            'focalPoint': (5705, 3991, -5691),\n",
    "             'distance': 25487}\n",
    "\n",
    "        # Add brain regions\n",
    "        for r in data_sn.index:\n",
    "\n",
    "            region_to_plot = data_sn.loc[r, \"br_regions\"]\n",
    "            color = cmap(data_sn.loc[r, 'MPI{}'.format(t)])[:3]\n",
    "            alpha =  cmap(data_sn.loc[r, 'MPI{}'.format(t)])[:3]\n",
    "            scene.add_brain_region(region_to_plot, color=color, alpha=1, hemisphere=data_sn.loc[r, 'hem'], silhouette=True) #alpha=data_cpu.loc[r, 'MPI{}'.format(t)]\n",
    "\n",
    "        # Sectionning the 3D brain into slices\n",
    "        plane_1 = scene.atlas.get_plane(pos=bregma+50, plane=\"frontal\", norm=(-1, 0, 0), alpha=1, color=\"white\") # Thickness: 150 um\n",
    "        plane_2 = scene.atlas.get_plane(pos=bregma-50, plane=\"frontal\", norm=(1, 0, 0), alpha=1, color=\"white\")\n",
    "        scene.slice(plane_1, close_actors=True)\n",
    "        scene.slice(plane_2, close_actors=True)\n",
    "\n",
    "        # Rendering parameters\n",
    "        brainrender.settings.SHADER_STYLE = \"cartoon\" #[metallic, plastic, shiny, glossy]\n",
    "        brainrender.settings.ROOT_ALPHA = 0.17\n",
    "        brainrender.settings.LW =2.4\n",
    "        brainrender.settings.ROOT_COLOR  = [0.4, 0.4, 0.4]\n",
    "        brainrender.settings.OFFSCREEN = True\n",
    "        brainrender.settings.SHOW_AXES = False\n",
    "        brainrender.settings.BACKGROUND_COLOR = \"white\"\n",
    "        scene.render(atlas_name='allen_mouse_50um', camera= frontal_camera, zoom=1.5)\n",
    "        scene.screenshot(name=\"50um_SNc_MPI{}_Breg_{}_mm\".format(t,section/1000), scale = 3)\n",
    "        scene.close()"
   ]
  },
  {
   "cell_type": "markdown",
   "metadata": {},
   "source": [
    "####     $\\color{green}{C)  Color Map: Estimated percentage of area with \\alpha-synuclein pathology }$"
   ]
  },
  {
   "cell_type": "code",
   "execution_count": 69,
   "metadata": {},
   "outputs": [
    {
     "data": {
      "image/png": "[encoded data removed]"
     },
     "metadata": {
      "needs_background": "light"
     },
     "output_type": "display_data"
    }
   ],
   "source": [
    "cmap = plt.cm.get_cmap('Reds')\n",
    "colors = cmap(np.arange(cmap.N))\n",
    "plt.figure(figsize=(15,3))\n",
    "plt.imshow([colors], extent=[0, 10, 0, 1])\n",
    "plt.xticks([0, 2.5, 5, 7.5 ,10], ['0', '0.25', '0.5','0.75','1'], fontsize=30)\n",
    "plt.yticks([])\n",
    "plt.text(-0.8,1.1,'Estimated percentage of area with \\u03B1-synuclein pathology', fontsize=35)\n",
    "\n",
    "plt.savefig(\"{}/ReScience_Figures/Colormaps/colormap_fig3.pdf\".format(output_directory),dpi=300)\n"
   ]
  },
  {
   "cell_type": "markdown",
   "metadata": {},
   "source": [
    "## Figure 2"
   ]
  },
  {
   "cell_type": "markdown",
   "metadata": {},
   "source": [
    "#### A)  Figure 2 D: Heatmap of the residuals"
   ]
  },
  {
   "cell_type": "code",
   "execution_count": null,
   "metadata": {},
   "outputs": [],
   "source": [
    "# Loading of the outputs of the model\n",
    "resi_cpu1 = pd.read_csv('./output/_iCPu/Tables/model_output_MPI1_iCPu.csv')\n",
    "resi_cpu3 = pd.read_csv('./output/_iCPu/Tables/model_output_MPI3_iCPu.csv')\n",
    "resi_cpu6 = pd.read_csv('./output/_iCPu/Tables/model_output_MPI6_iCPu.csv')\n",
    "\n",
    "# Saving for each timepoint a table containing only residuals\n",
    "res1=pd.DataFrame(resi_cpu1[\"residual\"].values, index=[resi_cpu1[\"Unnamed: 0\"].values], columns=[\"MPI 1 residual\"])\n",
    "res3=pd.DataFrame(resi_cpu3[\"residual\"].values, index=[resi_cpu3[\"Unnamed: 0\"].values], columns=[\"MPI 3 residual\"])\n",
    "res6=pd.DataFrame(resi_cpu6[\"residual\"].values, index=[resi_cpu6[\"Unnamed: 0\"].values], columns=[\"MPI 6 residual\"])\n",
    "\n",
    "# Merging those tables in a table named \"residuals\"\n",
    "res1_3= pd.merge(res1,res3, right_index=True, left_index=True, how=\"outer\")\n",
    "residuals = pd.merge(res1_3, res6, right_index=True, left_index=True, how=\"outer\")\n",
    "\n",
    "# Computing the mean of the residuals and saving it on the file \"residuals\"\n",
    "mean_res= pd.DataFrame(np.nanmean(residuals.values, axis=1), columns=[\"Mean MPI Residuals\"]) # Computing the arithmetic mean along the axis 1, ignoring the NaN values\n",
    "reg_res= pd.DataFrame([i[0] for i in residuals.index.values], columns=[\"region\"])\n",
    "residuals = pd.merge(reg_res,mean_res, right_index=True, left_index=True, how=\"outer\")\n",
    "# print(residuals) # The table containings the mean of the residuals\n",
    "\n",
    "# Matching ROInames with BrainRender\n",
    "for r in residuals.index:\n",
    "    \n",
    "    names = reg_names[reg_names['ROInames'] == residuals.loc[r, 'region']]['BrainR']\n",
    "    \n",
    "    if len(names) > 1:\n",
    "        residuals.loc[r, 'br_regions'] = list(names)[0]\n",
    "    elif len(names) == 1:    \n",
    "        residuals.loc[r, 'br_regions'] = names.values\n",
    "        \n",
    "for r in residuals.index:\n",
    "    \n",
    "    if residuals.loc[r, 'region'][0] == 'i':\n",
    "        residuals.loc[r, 'hem'] = 'right'\n",
    "    elif residuals.loc[r, 'region'][0] == 'c':\n",
    "        residuals.loc[r, 'hem'] = 'left' \n",
    "        \n",
    "# Extraction of the midpoint to generate a colormap consequently shifted.\n",
    "max_resi_cpu = np.max(residuals[\"Mean MPI Residuals\"])\n",
    "min_resi_cpu = np.min(residuals[\"Mean MPI Residuals\"])\n",
    "mid_pt= 1 - (max_resi_cpu) / (max_resi_cpu + np.abs(min_resi_cpu))\n",
    "print(\"mid_pt is\",mid_pt)\n",
    "cmap = shiftedColorMap(cmap=plt.get_cmap(\"bwr\"), start=0.0, midpoint=mid_pt, stop=1.0, name=\"ternary_centered\")\n",
    "\n",
    "# Normalization\n",
    "residuals[\"Mean MPI Residuals\"]= (residuals[\"Mean MPI Residuals\"]- min_resi_cpu)/(max_resi_cpu-min_resi_cpu)\n",
    "residuals[\"Mean MPI Residuals\"]\n",
    "residuals = residuals.dropna() #Dropping the br_regions overlapping in brain render\n",
    "\n",
    "# Iterative variables\n",
    "list_coor = [-2100, -1080, +1360, +2820, +4500] # Bregma corresponding coordinates\n",
    "timepoints = [1,3,6]\n",
    "\n",
    "# Creation of the sections\n",
    "for section in tqdm(list_coor):\n",
    "    bregma = np.array([5400,  # AP    \n",
    "          0,  # DV    \n",
    "          5700,]) # ML\n",
    "\n",
    "    bregma[0] = bregma[0] + section\n",
    "\n",
    "    # Create a brainrender scene\n",
    "    scene = Scene(inset=False,screenshots_folder=\"{}/ReScience_Figures/Residuals_Mean_MPIs\".format(output_directory))\n",
    "    frontal_camera = {\n",
    "         'pos': (-19781, 3777, -5832),\n",
    "         'viewup': (0, -1, 0),\n",
    "         'clippingRange': (26465, 26836),\n",
    "        'focalPoint': (5705, 3991, -5691),\n",
    "         'distance': 25487}\n",
    "\n",
    "   # Add brain regions\n",
    "    for r in residuals.index:\n",
    "\n",
    "        region_to_plot = residuals.loc[r, \"br_regions\"]\n",
    "        color = cmap(residuals.loc[r, \"Mean MPI Residuals\"])[:3]\n",
    "\n",
    "        scene.add_brain_region(region_to_plot, color=color, alpha=1, hemisphere=residuals.loc[r, 'hem'], silhouette=True) \n",
    "\n",
    "    # Sectionning the 3D brain into slices\n",
    "    plane_1 = scene.atlas.get_plane(pos=bregma+50, plane=\"frontal\", norm=(-1, 0, 0), alpha=1, color=\"white\") # Thickness: 150 um\n",
    "    plane_2 = scene.atlas.get_plane(pos=bregma-50, plane=\"frontal\", norm=(1, 0, 0), alpha=1, color=\"white\")\n",
    "    plane_3 = scene.atlas.get_plane(plane=\"sagittal\", norm=(0,0,-1), alpha=1, color=\"white\")\n",
    "    scene.slice(plane_1, close_actors=True)\n",
    "    scene.slice(plane_2, close_actors=True)\n",
    "    scene.slice(plane_3, close_actors=True)\n",
    "\n",
    "    # Rendering parameters\n",
    "    brainrender.settings.SHADER_STYLE = \"cartoon\" #[metallic, plastic, shiny, glossy]\n",
    "    brainrender.settings.ROOT_ALPHA = 0.17\n",
    "    brainrender.settings.LW =2.4\n",
    "    brainrender.settings.ROOT_COLOR  = [0.4, 0.4, 0.4]\n",
    "    brainrender.settings.OFFSCREEN = True\n",
    "    brainrender.settings.SHOW_AXES = False\n",
    "    brainrender.settings.BACKGROUND_COLOR = \"white\"\n",
    "    scene.render(atlas_name='allen_mouse_50um', camera= frontal_camera, zoom=1.5)\n",
    "    scene.screenshot(name=\"50um_Mean_MPI_Breg_{}_mm\".format(-section/1000), scale = 3)\n",
    "    \n",
    "    # Tranposing the image\n",
    "    img_totranspose = Image.open(\"{}/ReScience_Figures/Residuals_Mean_MPIs/50um_Mean_MPI_Breg_{}_mm.png\".format(output_directory, -section/1000))\n",
    "    img_totranspose = img_totranspose.transpose(Image.FLIP_LEFT_RIGHT)\n",
    "    img_totranspose.save(\"{}/ReScience_Figures/Residuals_Mean_MPIs/50um_Mean_MPI_Breg_{}_mm.png\".format(output_directory, -section/1000))\n",
    "    scene.close()"
   ]
  },
  {
   "cell_type": "markdown",
   "metadata": {},
   "source": [
    "#### B)  Figure 2 E: Colormap of the relative vulnerability"
   ]
  },
  {
   "cell_type": "code",
   "execution_count": null,
   "metadata": {},
   "outputs": [],
   "source": [
    "cmap=shiftedColorMap(cmap=plt.get_cmap(\"bwr\"), start=0.0, midpoint=mid_pt, stop=1.0, name=\"ternary_centered\")\n",
    "cmap = plt.cm.get_cmap(cmap)\n",
    "colors = cmap(np.arange(cmap.N))\n",
    "plt.figure(figsize=(15,3))\n",
    "plt.imshow([colors], extent=[0, 10, 0, 1])\n",
    "plt.xticks([0, 2.5, 5, 7.5 ,10], ['0', '0.25', '0.5','0.75','1'], fontsize=30)\n",
    "plt.yticks([])\n",
    "plt.text(2.9,1.1,'Relative vulnerability', fontsize=35)\n",
    "\n",
    "plt.savefig(\"{}/ReScience_Figures/Colormaps/colormap_fig2D.pdf\".format(output_directory),dpi=300)"
   ]
  },
  {
   "cell_type": "markdown",
   "metadata": {},
   "source": [
    "#### C)  Figure 2 E: Heatmap of SNCA expression"
   ]
  },
  {
   "cell_type": "code",
   "execution_count": 48,
   "metadata": {},
   "outputs": [
    {
     "name": "stderr",
     "output_type": "stream",
     "text": [
      "  0%|          | 0/5 [00:00<?, ?it/s]"
     ]
    },
    {
     "data": {
      "text/html": [
       "<pre style=\"white-space:pre;overflow-x:auto;line-height:normal;font-family:Menlo,'DejaVu Sans Mono',consolas,'Courier New',monospace\">\n",
       "Saving new screenshot at SNCA_exp_Breg2.<span style=\"color: #000080; font-weight: bold\">1.</span>png\n",
       "\n",
       "</pre>\n"
      ]
     },
     "metadata": {},
     "output_type": "display_data"
    },
    {
     "name": "stderr",
     "output_type": "stream",
     "text": [
      " 20%|██        | 1/5 [00:16<01:04, 16.09s/it]"
     ]
    },
    {
     "data": {
      "text/html": [
       "<pre style=\"white-space:pre;overflow-x:auto;line-height:normal;font-family:Menlo,'DejaVu Sans Mono',consolas,'Courier New',monospace\">\n",
       "Saving new screenshot at SNCA_exp_Breg1.<span style=\"color: #000080; font-weight: bold\">08.</span>png\n",
       "\n",
       "</pre>\n"
      ]
     },
     "metadata": {},
     "output_type": "display_data"
    },
    {
     "name": "stderr",
     "output_type": "stream",
     "text": [
      " 40%|████      | 2/5 [00:32<00:48, 16.05s/it]"
     ]
    },
    {
     "data": {
      "text/html": [
       "<pre style=\"white-space:pre;overflow-x:auto;line-height:normal;font-family:Menlo,'DejaVu Sans Mono',consolas,'Courier New',monospace\">\n",
       "Saving new screenshot at SNCA_exp_Breg-<span style=\"color: #000080; font-weight: bold\">1.36</span>.png\n",
       "\n",
       "</pre>\n"
      ]
     },
     "metadata": {},
     "output_type": "display_data"
    },
    {
     "name": "stderr",
     "output_type": "stream",
     "text": [
      " 60%|██████    | 3/5 [00:48<00:32, 16.26s/it]"
     ]
    },
    {
     "data": {
      "text/html": [
       "<pre style=\"white-space:pre;overflow-x:auto;line-height:normal;font-family:Menlo,'DejaVu Sans Mono',consolas,'Courier New',monospace\">\n",
       "Saving new screenshot at SNCA_exp_Breg-<span style=\"color: #000080; font-weight: bold\">2.82</span>.png\n",
       "\n",
       "</pre>\n"
      ]
     },
     "metadata": {},
     "output_type": "display_data"
    },
    {
     "name": "stderr",
     "output_type": "stream",
     "text": [
      " 80%|████████  | 4/5 [01:07<00:16, 16.90s/it]"
     ]
    },
    {
     "data": {
      "text/html": [
       "<pre style=\"white-space:pre;overflow-x:auto;line-height:normal;font-family:Menlo,'DejaVu Sans Mono',consolas,'Courier New',monospace\">\n",
       "Saving new screenshot at SNCA_exp_Breg-<span style=\"color: #000080; font-weight: bold\">4.5</span>.png\n",
       "\n",
       "</pre>\n"
      ]
     },
     "metadata": {},
     "output_type": "display_data"
    },
    {
     "name": "stderr",
     "output_type": "stream",
     "text": [
      "100%|██████████| 5/5 [01:30<00:00, 18.03s/it]\n"
     ]
    }
   ],
   "source": [
    "# Loading the data\n",
    "reg_names = pd.read_csv('./Data83018/BrainR_ROInames.csv')\n",
    "snca_exp = pd.read_csv('./Data83018/SncaExpression.csv', header=None)\n",
    "snca_exp.columns= [\"Regions\",\"SNCA_val\"]\n",
    "cmap=plt.get_cmap(\"YlOrRd\")\n",
    "\n",
    "# Matching ROInames with BrainRender\n",
    "for r in snca_exp.index:\n",
    "    \n",
    "    names = reg_names[reg_names['ROInames'] == snca_exp.loc[r, 'Regions']]['BrainR']\n",
    "    \n",
    "    if len(names) > 1:\n",
    "         snca_exp.loc[r, 'br_regions'] = list(names)[0]\n",
    "    elif len(names) == 1:    \n",
    "        snca_exp.loc[r, 'br_regions'] = names.values   \n",
    "        \n",
    "for r in snca_exp.index:\n",
    "    \n",
    "    if snca_exp.loc[r, 'Regions'][0] == 'i':\n",
    "        snca_exp.loc[r, 'hem'] = 'right'\n",
    "    elif snca_exp.loc[r, 'Regions'][0] == 'c':\n",
    "        snca_exp.loc[r, 'hem'] = 'left'\n",
    "        \n",
    "snca_exp= snca_exp.dropna() #Dropping the br_regions overlapping in brain render\n",
    "max_val= np.max(snca_exp[\"SNCA_val\"].values)\n",
    "min_val= np.min(snca_exp[\"SNCA_val\"].values)\n",
    "\n",
    "# Normalization\n",
    "snca_exp[\"SNCA_val\"]=(snca_exp[\"SNCA_val\"] - min_val)/(max_val-min_val)\n",
    "\n",
    "# Iterative variables\n",
    "list_coor = [-2100, -1080, +1360, +2820, +4500] # Bregma corresponding coordinates\n",
    "timepoints = [1,3,6]\n",
    "\n",
    "# Creation of the sections\n",
    "for section in tqdm(list_coor):\n",
    "    bregma = np.array([5400,  # AP    \n",
    "          0,  # DV    \n",
    "          5700,]) # ML\n",
    "\n",
    "    bregma[0] = bregma[0] + section\n",
    "\n",
    "    # Create a brainrender scene\n",
    "    scene = Scene(inset=False,screenshots_folder=\"{}/ReScience_Figures/SNCA_exp\".format(output_directory))\n",
    "    frontal_camera = {\n",
    "         'pos': (-19781, 3777, -5832),\n",
    "         'viewup': (0, -1, 0),\n",
    "         'clippingRange': (26465, 26836),\n",
    "        'focalPoint': (5705, 3991, -5691),\n",
    "         'distance': 25487}\n",
    "\n",
    "   # Add brain regions\n",
    "    for r in snca_exp.index:\n",
    "\n",
    "        region_to_plot = snca_exp.loc[r, \"br_regions\"]\n",
    "        color = cmap(snca_exp.loc[r, 'SNCA_val'])[:3]\n",
    "\n",
    "        scene.add_brain_region(region_to_plot, color=color, alpha=1, hemisphere=snca_exp.loc[r, 'hem'], silhouette=True) #alpha=snca_exp.loc[r, 'SNCA_val'])\n",
    "\n",
    "    # Sectionning the 3D brain into slices\n",
    "    plane_1 = scene.atlas.get_plane(pos=bregma+50, plane=\"frontal\", norm=(-1, 0, 0), alpha=1, color=\"white\") # Thickness: 150 um\n",
    "    plane_2 = scene.atlas.get_plane(pos=bregma-50, plane=\"frontal\", norm=(1, 0, 0), alpha=1, color=\"white\")\n",
    "    plane_3 = scene.atlas.get_plane(plane=\"sagittal\", norm=(0,0,-1), alpha=1, color=\"white\")\n",
    "    scene.slice(plane_1, close_actors=True)\n",
    "    scene.slice(plane_2, close_actors=True)\n",
    "    scene.slice(plane_3, close_actors=True)\n",
    "\n",
    "    # Rendering parameters\n",
    "    brainrender.settings.SHADER_STYLE = \"cartoon\" #[metallic, plastic, shiny, glossy]\n",
    "    brainrender.settings.ROOT_ALPHA = 0.17\n",
    "    brainrender.settings.LW = 2.4\n",
    "    brainrender.settings.ROOT_COLOR  = [0.4, 0.4, 0.4]\n",
    "    brainrender.settings.OFFSCREEN = True\n",
    "    brainrender.settings.SHOW_AXES = False\n",
    "    brainrender.settings.BACKGROUND_COLOR = \"white\"\n",
    "    scene.render(atlas_name='allen_mouse_50um', camera= frontal_camera, zoom=1.5)\n",
    "    scene.screenshot(name=\"SNCA_exp_Breg{}.png\".format(-section/1000), scale = 3)\n",
    "    \n",
    "    # Tranposing the image\n",
    "    img_totranspose = Image.open(\"{}/ReScience_Figures/SNCA_exp/SNCA_exp_Breg{}.png\".format(output_directory, -section/1000))\n",
    "    img_totranspose = img_totranspose.transpose(Image.FLIP_LEFT_RIGHT)\n",
    "    img_totranspose.save(\"{}/ReScience_Figures/SNCA_exp/SNCA_exp_Breg{}.png\".format(output_directory, -section/1000))\n",
    "    scene.close()"
   ]
  },
  {
   "cell_type": "markdown",
   "metadata": {},
   "source": [
    "#### D)  Figure 2 E: Heatmap of SNCA expression"
   ]
  },
  {
   "cell_type": "code",
   "execution_count": 76,
   "metadata": {},
   "outputs": [
    {
     "data": {
      "image/png": "[encoded data removed]"
     },
     "metadata": {
      "needs_background": "light"
     },
     "output_type": "display_data"
    }
   ],
   "source": [
    "output_folder = \"./colormap_fig2E/\"\n",
    "\n",
    "cmap = plt.cm.get_cmap('YlOrRd')\n",
    "colors = cmap(np.arange(cmap.N))\n",
    "plt.figure(figsize=(15,3))\n",
    "plt.imshow([colors], extent=[0, 10, 0, 0.5])\n",
    "plt.xticks([0, 2.5, 5, 7.5 ,10], [\"0\", '0.25', '0.5','0.75','1'],fontsize=30)\n",
    "plt.yticks([])\n",
    "plt.text(3.1,0.6,'SNCA Expression',fontsize=35)\n",
    "\n",
    "plt.savefig(\"{}/ReScience_Figures/Colormaps/colormap_fig2E.pdf\".format(output_directory),dpi=300)\n"
   ]
  }
 ],
 "metadata": {
  "kernelspec": {
   "display_name": "render",
   "language": "python",
   "name": "render"
  },
  "language_info": {
   "codemirror_mode": {
    "name": "ipython",
    "version": 3
   },
   "file_extension": ".py",
   "mimetype": "text/x-python",
   "name": "python",
   "nbconvert_exporter": "python",
   "pygments_lexer": "ipython3",
   "version": "3.7.9"
  }
 },
 "nbformat": 4,
 "nbformat_minor": 4
}
