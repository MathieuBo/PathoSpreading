{
 "cells": [
  {
   "cell_type": "code",
   "execution_count": 1,
   "metadata": {},
   "outputs": [],
   "source": [
    "from vedo import embedWindow\n",
    "embedWindow(None)\n",
    "\n",
    "from brainrender import Scene\n",
    "import brainrender\n",
    "import os"
   ]
  },
  {
   "cell_type": "code",
   "execution_count": 2,
   "metadata": {},
   "outputs": [],
   "source": [
    "import pandas as pd\n",
    "import matplotlib.pyplot as plt\n",
    "import numpy as np"
   ]
  },
  {
   "cell_type": "code",
   "execution_count": 3,
   "metadata": {},
   "outputs": [
    {
     "data": {
      "text/html": [
       "<pre style=\"white-space:pre;overflow-x:auto;line-height:normal;font-family:Menlo,'DejaVu Sans Mono',consolas,'Courier New',monospace\"><span style=\"color: #008000\">'C:\\\\Users\\\\thoma\\\\Documents\\\\M1_Neurasmus\\\\NeuroBIM_M1\\\\Internship\\\\GitRepo\\\\PathoSpreading'</span>\n",
       "</pre>\n"
      ]
     },
     "metadata": {},
     "output_type": "display_data"
    }
   ],
   "source": [
    "os.getcwd()"
   ]
  },
  {
   "cell_type": "code",
   "execution_count": 4,
   "metadata": {},
   "outputs": [],
   "source": [
    "data_cpu = pd.read_csv('../output/predicted_pathology.csv')\n",
    "data_sn = pd.read_csv('../output/predicted_pathology_seedSN.csv')"
   ]
  },
  {
   "cell_type": "code",
   "execution_count": 5,
   "metadata": {},
   "outputs": [],
   "source": [
    "reg_names = pd.read_excel('./Data83018/BrainR_ROInames.xlsx')"
   ]
  },
  {
   "cell_type": "code",
   "execution_count": 6,
   "metadata": {},
   "outputs": [
    {
     "data": {
      "text/html": [
       "<div>\n",
       "<style scoped>\n",
       "    .dataframe tbody tr th:only-of-type {\n",
       "        vertical-align: middle;\n",
       "    }\n",
       "\n",
       "    .dataframe tbody tr th {\n",
       "        vertical-align: top;\n",
       "    }\n",
       "\n",
       "    .dataframe thead th {\n",
       "        text-align: right;\n",
       "    }\n",
       "</style>\n",
       "<table border=\"1\" class=\"dataframe\">\n",
       "  <thead>\n",
       "    <tr style=\"text-align: right;\">\n",
       "      <th></th>\n",
       "      <th>Unnamed: 0</th>\n",
       "      <th>MPI1</th>\n",
       "      <th>MPI3</th>\n",
       "      <th>MPI6</th>\n",
       "      <th>regions</th>\n",
       "    </tr>\n",
       "  </thead>\n",
       "  <tbody>\n",
       "    <tr>\n",
       "      <th>0</th>\n",
       "      <td>0</td>\n",
       "      <td>0.285313</td>\n",
       "      <td>0.354758</td>\n",
       "      <td>0.348739</td>\n",
       "      <td>iCg</td>\n",
       "    </tr>\n",
       "    <tr>\n",
       "      <th>1</th>\n",
       "      <td>1</td>\n",
       "      <td>0.012263</td>\n",
       "      <td>0.058409</td>\n",
       "      <td>0.128091</td>\n",
       "      <td>iAcb</td>\n",
       "    </tr>\n",
       "    <tr>\n",
       "      <th>2</th>\n",
       "      <td>2</td>\n",
       "      <td>0.013305</td>\n",
       "      <td>0.053030</td>\n",
       "      <td>0.100022</td>\n",
       "      <td>iTC</td>\n",
       "    </tr>\n",
       "    <tr>\n",
       "      <th>3</th>\n",
       "      <td>3</td>\n",
       "      <td>0.352187</td>\n",
       "      <td>0.395984</td>\n",
       "      <td>0.371742</td>\n",
       "      <td>iAI</td>\n",
       "    </tr>\n",
       "    <tr>\n",
       "      <th>4</th>\n",
       "      <td>4</td>\n",
       "      <td>0.250713</td>\n",
       "      <td>0.312540</td>\n",
       "      <td>0.317882</td>\n",
       "      <td>iAI-b</td>\n",
       "    </tr>\n",
       "  </tbody>\n",
       "</table>\n",
       "</div>"
      ]
     },
     "execution_count": 6,
     "metadata": {},
     "output_type": "execute_result"
    }
   ],
   "source": [
    "data_cpu.head()"
   ]
  },
  {
   "cell_type": "code",
   "execution_count": 7,
   "metadata": {},
   "outputs": [
    {
     "data": {
      "text/html": [
       "<div>\n",
       "<style scoped>\n",
       "    .dataframe tbody tr th:only-of-type {\n",
       "        vertical-align: middle;\n",
       "    }\n",
       "\n",
       "    .dataframe tbody tr th {\n",
       "        vertical-align: top;\n",
       "    }\n",
       "\n",
       "    .dataframe thead th {\n",
       "        text-align: right;\n",
       "    }\n",
       "</style>\n",
       "<table border=\"1\" class=\"dataframe\">\n",
       "  <thead>\n",
       "    <tr style=\"text-align: right;\">\n",
       "      <th></th>\n",
       "      <th>Unnamed: 0</th>\n",
       "      <th>MPI1</th>\n",
       "      <th>MPI3</th>\n",
       "      <th>MPI6</th>\n",
       "      <th>regions</th>\n",
       "    </tr>\n",
       "  </thead>\n",
       "  <tbody>\n",
       "    <tr>\n",
       "      <th>0</th>\n",
       "      <td>0</td>\n",
       "      <td>0.006276</td>\n",
       "      <td>0.008956</td>\n",
       "      <td>0.008896</td>\n",
       "      <td>iCg</td>\n",
       "    </tr>\n",
       "    <tr>\n",
       "      <th>1</th>\n",
       "      <td>1</td>\n",
       "      <td>0.005459</td>\n",
       "      <td>0.005018</td>\n",
       "      <td>0.004851</td>\n",
       "      <td>iAcb</td>\n",
       "    </tr>\n",
       "    <tr>\n",
       "      <th>2</th>\n",
       "      <td>2</td>\n",
       "      <td>0.000790</td>\n",
       "      <td>0.001940</td>\n",
       "      <td>0.003049</td>\n",
       "      <td>iTC</td>\n",
       "    </tr>\n",
       "    <tr>\n",
       "      <th>3</th>\n",
       "      <td>3</td>\n",
       "      <td>0.006451</td>\n",
       "      <td>0.009770</td>\n",
       "      <td>0.009329</td>\n",
       "      <td>iAI</td>\n",
       "    </tr>\n",
       "    <tr>\n",
       "      <th>4</th>\n",
       "      <td>4</td>\n",
       "      <td>0.006004</td>\n",
       "      <td>0.008185</td>\n",
       "      <td>0.008228</td>\n",
       "      <td>iAI-b</td>\n",
       "    </tr>\n",
       "  </tbody>\n",
       "</table>\n",
       "</div>"
      ]
     },
     "execution_count": 7,
     "metadata": {},
     "output_type": "execute_result"
    }
   ],
   "source": [
    "data_sn.head()"
   ]
  },
  {
   "cell_type": "code",
   "execution_count": 8,
   "metadata": {},
   "outputs": [
    {
     "data": {
      "text/html": [
       "<div>\n",
       "<style scoped>\n",
       "    .dataframe tbody tr th:only-of-type {\n",
       "        vertical-align: middle;\n",
       "    }\n",
       "\n",
       "    .dataframe tbody tr th {\n",
       "        vertical-align: top;\n",
       "    }\n",
       "\n",
       "    .dataframe thead th {\n",
       "        text-align: right;\n",
       "    }\n",
       "</style>\n",
       "<table border=\"1\" class=\"dataframe\">\n",
       "  <thead>\n",
       "    <tr style=\"text-align: right;\">\n",
       "      <th></th>\n",
       "      <th>BrainR</th>\n",
       "      <th>ROInames</th>\n",
       "      <th>Side</th>\n",
       "    </tr>\n",
       "  </thead>\n",
       "  <tbody>\n",
       "    <tr>\n",
       "      <th>0</th>\n",
       "      <td>ACA</td>\n",
       "      <td>iCg</td>\n",
       "      <td>ispi</td>\n",
       "    </tr>\n",
       "    <tr>\n",
       "      <th>1</th>\n",
       "      <td>ACB</td>\n",
       "      <td>iAcb</td>\n",
       "      <td>ispi</td>\n",
       "    </tr>\n",
       "    <tr>\n",
       "      <th>2</th>\n",
       "      <td>LHA</td>\n",
       "      <td>iTC</td>\n",
       "      <td>ispi</td>\n",
       "    </tr>\n",
       "    <tr>\n",
       "      <th>3</th>\n",
       "      <td>VMH</td>\n",
       "      <td>iTC</td>\n",
       "      <td>ispi</td>\n",
       "    </tr>\n",
       "    <tr>\n",
       "      <th>4</th>\n",
       "      <td>AHN</td>\n",
       "      <td>iTC</td>\n",
       "      <td>ispi</td>\n",
       "    </tr>\n",
       "  </tbody>\n",
       "</table>\n",
       "</div>"
      ]
     },
     "execution_count": 8,
     "metadata": {},
     "output_type": "execute_result"
    }
   ],
   "source": [
    "reg_names.head()"
   ]
  },
  {
   "cell_type": "markdown",
   "metadata": {},
   "source": [
    "# Matching Predicted Values and BrainRender name - Seed CPu"
   ]
  },
  {
   "cell_type": "code",
   "execution_count": 9,
   "metadata": {},
   "outputs": [],
   "source": [
    "for r in data_cpu.index:\n",
    "    \n",
    "    names = reg_names[reg_names['ROInames'] == data_cpu.loc[r, 'regions']]['BrainR']\n",
    "    \n",
    "    if len(names) > 1:\n",
    "         data_cpu.loc[r, 'br_regions'] = list(names)[0]\n",
    "    elif len(names) == 1:    \n",
    "        data_cpu.loc[r, 'br_regions'] = names.values"
   ]
  },
  {
   "cell_type": "code",
   "execution_count": 10,
   "metadata": {},
   "outputs": [],
   "source": [
    "for r in data_cpu.index:\n",
    "    \n",
    "    if data_cpu.loc[r, 'regions'][0] == 'i':\n",
    "        data_cpu.loc[r, 'hem'] = 'right'\n",
    "    elif data_cpu.loc[r, 'regions'][0] == 'c':\n",
    "        data_cpu.loc[r, 'hem'] = 'left' "
   ]
  },
  {
   "cell_type": "code",
   "execution_count": 11,
   "metadata": {},
   "outputs": [
    {
     "data": {
      "text/html": [
       "<div>\n",
       "<style scoped>\n",
       "    .dataframe tbody tr th:only-of-type {\n",
       "        vertical-align: middle;\n",
       "    }\n",
       "\n",
       "    .dataframe tbody tr th {\n",
       "        vertical-align: top;\n",
       "    }\n",
       "\n",
       "    .dataframe thead th {\n",
       "        text-align: right;\n",
       "    }\n",
       "</style>\n",
       "<table border=\"1\" class=\"dataframe\">\n",
       "  <thead>\n",
       "    <tr style=\"text-align: right;\">\n",
       "      <th></th>\n",
       "      <th>Unnamed: 0</th>\n",
       "      <th>MPI1</th>\n",
       "      <th>MPI3</th>\n",
       "      <th>MPI6</th>\n",
       "      <th>regions</th>\n",
       "      <th>br_regions</th>\n",
       "      <th>hem</th>\n",
       "    </tr>\n",
       "  </thead>\n",
       "  <tbody>\n",
       "    <tr>\n",
       "      <th>0</th>\n",
       "      <td>0</td>\n",
       "      <td>0.285313</td>\n",
       "      <td>0.354758</td>\n",
       "      <td>0.348739</td>\n",
       "      <td>iCg</td>\n",
       "      <td>ACA</td>\n",
       "      <td>right</td>\n",
       "    </tr>\n",
       "    <tr>\n",
       "      <th>1</th>\n",
       "      <td>1</td>\n",
       "      <td>0.012263</td>\n",
       "      <td>0.058409</td>\n",
       "      <td>0.128091</td>\n",
       "      <td>iAcb</td>\n",
       "      <td>ACB</td>\n",
       "      <td>right</td>\n",
       "    </tr>\n",
       "    <tr>\n",
       "      <th>2</th>\n",
       "      <td>2</td>\n",
       "      <td>0.013305</td>\n",
       "      <td>0.053030</td>\n",
       "      <td>0.100022</td>\n",
       "      <td>iTC</td>\n",
       "      <td>LHA</td>\n",
       "      <td>right</td>\n",
       "    </tr>\n",
       "    <tr>\n",
       "      <th>3</th>\n",
       "      <td>3</td>\n",
       "      <td>0.352187</td>\n",
       "      <td>0.395984</td>\n",
       "      <td>0.371742</td>\n",
       "      <td>iAI</td>\n",
       "      <td>AId</td>\n",
       "      <td>right</td>\n",
       "    </tr>\n",
       "    <tr>\n",
       "      <th>4</th>\n",
       "      <td>4</td>\n",
       "      <td>0.250713</td>\n",
       "      <td>0.312540</td>\n",
       "      <td>0.317882</td>\n",
       "      <td>iAI-b</td>\n",
       "      <td>GU</td>\n",
       "      <td>right</td>\n",
       "    </tr>\n",
       "  </tbody>\n",
       "</table>\n",
       "</div>"
      ]
     },
     "execution_count": 11,
     "metadata": {},
     "output_type": "execute_result"
    }
   ],
   "source": [
    "data_cpu.head()"
   ]
  },
  {
   "cell_type": "markdown",
   "metadata": {},
   "source": [
    "# Matching Predicted Values and BrainRender name - Seed SN"
   ]
  },
  {
   "cell_type": "code",
   "execution_count": 12,
   "metadata": {},
   "outputs": [],
   "source": [
    "for r in data_sn.index:\n",
    "    \n",
    "    names = reg_names[reg_names['ROInames'] == data_sn.loc[r, 'regions']]['BrainR']\n",
    "    \n",
    "    if len(names) > 1:\n",
    "         data_sn.loc[r, 'br_regions'] = list(names)[0]\n",
    "    elif len(names) == 1:    \n",
    "        data_sn.loc[r, 'br_regions'] = names.values   "
   ]
  },
  {
   "cell_type": "code",
   "execution_count": 13,
   "metadata": {},
   "outputs": [],
   "source": [
    "for r in data_sn.index:\n",
    "    \n",
    "    if data_sn.loc[r, 'regions'][0] == 'i':\n",
    "        data_sn.loc[r, 'hem'] = 'right'\n",
    "    elif data_sn.loc[r, 'regions'][0] == 'c':\n",
    "        data_sn.loc[r, 'hem'] = 'left'"
   ]
  },
  {
   "cell_type": "code",
   "execution_count": 14,
   "metadata": {},
   "outputs": [
    {
     "data": {
      "text/html": [
       "<div>\n",
       "<style scoped>\n",
       "    .dataframe tbody tr th:only-of-type {\n",
       "        vertical-align: middle;\n",
       "    }\n",
       "\n",
       "    .dataframe tbody tr th {\n",
       "        vertical-align: top;\n",
       "    }\n",
       "\n",
       "    .dataframe thead th {\n",
       "        text-align: right;\n",
       "    }\n",
       "</style>\n",
       "<table border=\"1\" class=\"dataframe\">\n",
       "  <thead>\n",
       "    <tr style=\"text-align: right;\">\n",
       "      <th></th>\n",
       "      <th>Unnamed: 0</th>\n",
       "      <th>MPI1</th>\n",
       "      <th>MPI3</th>\n",
       "      <th>MPI6</th>\n",
       "      <th>regions</th>\n",
       "      <th>br_regions</th>\n",
       "      <th>hem</th>\n",
       "    </tr>\n",
       "  </thead>\n",
       "  <tbody>\n",
       "    <tr>\n",
       "      <th>0</th>\n",
       "      <td>0</td>\n",
       "      <td>0.006276</td>\n",
       "      <td>0.008956</td>\n",
       "      <td>0.008896</td>\n",
       "      <td>iCg</td>\n",
       "      <td>ACA</td>\n",
       "      <td>right</td>\n",
       "    </tr>\n",
       "    <tr>\n",
       "      <th>1</th>\n",
       "      <td>1</td>\n",
       "      <td>0.005459</td>\n",
       "      <td>0.005018</td>\n",
       "      <td>0.004851</td>\n",
       "      <td>iAcb</td>\n",
       "      <td>ACB</td>\n",
       "      <td>right</td>\n",
       "    </tr>\n",
       "    <tr>\n",
       "      <th>2</th>\n",
       "      <td>2</td>\n",
       "      <td>0.000790</td>\n",
       "      <td>0.001940</td>\n",
       "      <td>0.003049</td>\n",
       "      <td>iTC</td>\n",
       "      <td>LHA</td>\n",
       "      <td>right</td>\n",
       "    </tr>\n",
       "    <tr>\n",
       "      <th>3</th>\n",
       "      <td>3</td>\n",
       "      <td>0.006451</td>\n",
       "      <td>0.009770</td>\n",
       "      <td>0.009329</td>\n",
       "      <td>iAI</td>\n",
       "      <td>AId</td>\n",
       "      <td>right</td>\n",
       "    </tr>\n",
       "    <tr>\n",
       "      <th>4</th>\n",
       "      <td>4</td>\n",
       "      <td>0.006004</td>\n",
       "      <td>0.008185</td>\n",
       "      <td>0.008228</td>\n",
       "      <td>iAI-b</td>\n",
       "      <td>GU</td>\n",
       "      <td>right</td>\n",
       "    </tr>\n",
       "  </tbody>\n",
       "</table>\n",
       "</div>"
      ]
     },
     "execution_count": 14,
     "metadata": {},
     "output_type": "execute_result"
    }
   ],
   "source": [
    "data_sn.head()"
   ]
  },
  {
   "cell_type": "markdown",
   "metadata": {},
   "source": [
    "# Normalization of the values"
   ]
  },
  {
   "cell_type": "code",
   "execution_count": 15,
   "metadata": {},
   "outputs": [],
   "source": [
    "# Normalization using MPI6 - Seed CPu\n",
    "data_cpu['MPI6'] = (data_cpu['MPI6'] - np.min(data_cpu['MPI6'])) / (np.max(data_cpu['MPI6']) - np.min(data_cpu['MPI6']))\n",
    "data_cpu['MPI3'] = (data_cpu['MPI3'] - np.min(data_cpu['MPI6'])) / (np.max(data_cpu['MPI6']) - np.min(data_cpu['MPI6']))\n",
    "data_cpu['MPI1'] = (data_cpu['MPI1'] - np.min(data_cpu['MPI6'])) / (np.max(data_cpu['MPI6']) - np.min(data_cpu['MPI6']))"
   ]
  },
  {
   "cell_type": "code",
   "execution_count": 16,
   "metadata": {},
   "outputs": [],
   "source": [
    "# Normalization using MPI6 - Seed SN\n",
    "data_sn['MPI6'] = (data_sn['MPI6'] - np.min(data_sn['MPI6'])) / (np.max(data_sn['MPI6']) - np.min(data_sn['MPI6']))\n",
    "data_sn['MPI3'] = (data_sn['MPI3'] - np.min(data_sn['MPI6'])) / (np.max(data_sn['MPI6']) - np.min(data_sn['MPI6']))\n",
    "data_sn['MPI1'] = (data_sn['MPI1'] - np.min(data_sn['MPI6'])) / (np.max(data_sn['MPI6']) - np.min(data_sn['MPI6']))"
   ]
  },
  {
   "cell_type": "code",
   "execution_count": 17,
   "metadata": {},
   "outputs": [],
   "source": [
    "data_cpu = data_cpu.dropna()\n",
    "data_sn = data_sn.dropna()"
   ]
  },
  {
   "cell_type": "markdown",
   "metadata": {},
   "source": [
    "# Brain Render - Videos"
   ]
  },
  {
   "cell_type": "code",
   "execution_count": 18,
   "metadata": {},
   "outputs": [],
   "source": [
    "cmap = plt.get_cmap('YlOrRd')"
   ]
  },
  {
   "cell_type": "code",
   "execution_count": 23,
   "metadata": {},
   "outputs": [
    {
     "name": "stdout",
     "output_type": "stream",
     "text": [
      "Requirement already satisfied: ffmpeg in c:\\users\\thoma\\anaconda3\\lib\\site-packages (1.4)\n",
      "Note: you may need to restart the kernel to use updated packages.\n"
     ]
    }
   ],
   "source": [
    "pip install ffmpeg"
   ]
  },
  {
   "cell_type": "code",
   "execution_count": 24,
   "metadata": {},
   "outputs": [
    {
     "data": {
      "text/html": [
       "<pre style=\"white-space:pre;overflow-x:auto;line-height:normal;font-family:Menlo,'DejaVu Sans Mono',consolas,'Courier New',monospace\">Generating frames <span style=\"color: #729c1f\">━━━━━━━━━━━━━━━━━━━━━━━━━━━━━━━━━━━━━━━━</span> <span style=\"color: #800080\">100%</span> <span style=\"color: #008080\">0:00:00</span>\n",
       "</pre>\n"
      ]
     },
     "metadata": {},
     "output_type": "display_data"
    },
    {
     "data": {
      "text/html": [
       "<pre style=\"white-space:pre;overflow-x:auto;line-height:normal;font-family:Menlo,'DejaVu Sans Mono',consolas,'Courier New',monospace\"><span style=\"color: #ffe082\">Saving video</span>\n",
       "</pre>\n"
      ]
     },
     "metadata": {},
     "output_type": "display_data"
    },
    {
     "data": {
      "text/html": [
       "<pre style=\"white-space:pre;overflow-x:auto;line-height:normal;font-family:Menlo,'DejaVu Sans Mono',consolas,'Courier New',monospace\"><span style=\"color: #ffa726; font-weight: bold\">ffmpeg returned an error while trying to save video with command:</span>\n",
       "<span style=\"color: #ffa726; font-weight: bold\">    </span><span style=\"color: #ff7043; font-weight: bold\">ffmpeg -hide_banner -loglevel panic -y -r </span><span style=\"color: #ff7043; font-weight: bold\">25</span><span style=\"color: #ff7043; font-weight: bold\"> -start_number </span><span style=\"color: #ff7043; font-weight: bold\">0</span><span style=\"color: #ff7043; font-weight: bold\"> -i </span>\n",
       "<span style=\"color: #ff7043; font-weight: bold\">C:\\Users\\thoma\\AppData\\Local\\Temp\\tmpu1c1h6dz\\%d.png -vcodec libx264 -crf </span><span style=\"color: #ff7043; font-weight: bold\">28</span><span style=\"color: #ff7043; font-weight: bold\"> -pix_fmt yuv420p</span>\n",
       "<span style=\"color: #ff7043; font-weight: bold\">-s 162</span><span style=\"color: #ff7043; font-weight: bold\">0x1050</span><span style=\"color: #ff7043; font-weight: bold\"> test.mp4</span>\n",
       "</pre>\n"
      ]
     },
     "metadata": {},
     "output_type": "display_data"
    },
    {
     "data": {
      "text/html": [
       "<pre style=\"white-space:pre;overflow-x:auto;line-height:normal;font-family:Menlo,'DejaVu Sans Mono',consolas,'Courier New',monospace\"><span style=\"color: #008000\">'..\\\\videos/test.mp4'</span>\n",
       "</pre>\n"
      ]
     },
     "metadata": {},
     "output_type": "display_data"
    }
   ],
   "source": [
    "#VIDEOS\n",
    "from brainrender import Scene\n",
    "from brainrender.video import VideoMaker\n",
    "from brainrender import Scene, Animation\n",
    "import ffmpeg\n",
    "\n",
    "# Create a scene\n",
    "scene = Scene(title=\"MPI6_Seed_CPu\", atlas_name='allen_mouse_25um', inset=False, screenshots_folder=None)\n",
    "for r in data_cpu.index:\n",
    "    \n",
    "    region_to_plot = data_cpu.loc[r, \"br_regions\"]\n",
    "    color = cmap(data_cpu.loc[r, 'MPI6'])[:3]\n",
    "    alpha =  cmap(data_cpu.loc[r, 'MPI6'])[:3]\n",
    "    \n",
    "    #scene.add_brain_region(region_to_plot, color=color, alpha=data_cpu.loc[r, 'MPI6']) \n",
    "    scene.add_brain_region(region_to_plot, color=color, alpha=data_cpu.loc[r, 'MPI6'], hemisphere=data_cpu.loc[r, 'hem'], silhouette=None) \n",
    "\n",
    "    \n",
    "# Make a custom make frame function\n",
    "def make_frame(scene, frame_number, *args, **kwargs):\n",
    "    alpha = scene.root.alpha()\n",
    "    if alpha < 0.5:\n",
    "        scene.root.alpha(1)\n",
    "    else:\n",
    "        scene.root.alpha(0.2)\n",
    "\n",
    "# Create an instance of video maker\n",
    "vm = VideoMaker(scene=scene,save_fld=\"../videos\",\n",
    "        name=\"test\",\n",
    "        fmt=\"mp4\",size=\"1620x1050\",make_frame_func=make_frame)\n",
    "# make a video with the custom make frame function\n",
    "# this just rotates the scene\n",
    "vm.make_video(elevation=2, duration=2, fps=25)"
   ]
  },
  {
   "cell_type": "code",
   "execution_count": 225,
   "metadata": {},
   "outputs": [
    {
     "data": {
      "text/html": [
       "<pre style=\"white-space:pre;overflow-x:auto;line-height:normal;font-family:Menlo,'DejaVu Sans Mono',consolas,'Courier New',monospace\">Generating frames... <span style=\"color: #729c1f\">━━━━━━━━━━━━━━━━━━━━━━━━━━━━━━━━━━━━━━━━</span> <span style=\"color: #800080\">100%</span> <span style=\"color: #008080\">0:00:00</span>\n",
       "</pre>\n"
      ]
     },
     "metadata": {},
     "output_type": "display_data"
    },
    {
     "data": {
      "text/html": [
       "<pre style=\"white-space:pre;overflow-x:auto;line-height:normal;font-family:Menlo,'DejaVu Sans Mono',consolas,'Courier New',monospace\"><span style=\"color: #ffe082\">Saving video</span>\n",
       "</pre>\n"
      ]
     },
     "metadata": {},
     "output_type": "display_data"
    },
    {
     "data": {
      "text/html": [
       "<pre style=\"white-space:pre;overflow-x:auto;line-height:normal;font-family:Menlo,'DejaVu Sans Mono',consolas,'Courier New',monospace\"><span style=\"color: #ffa726; font-weight: bold\">ffmpeg returned an error while trying to save video with command:</span>\n",
       "<span style=\"color: #ffa726; font-weight: bold\">    </span><span style=\"color: #ff7043; font-weight: bold\">ffmpeg -hide_banner -loglevel panic -y -r </span><span style=\"color: #ff7043; font-weight: bold\">10</span><span style=\"color: #ff7043; font-weight: bold\"> -start_number </span><span style=\"color: #ff7043; font-weight: bold\">0</span><span style=\"color: #ff7043; font-weight: bold\"> -i </span>\n",
       "<span style=\"color: #ff7043; font-weight: bold\">C:\\Users\\thoma\\AppData\\Local\\Temp\\tmpy6ysy4zs\\%d.png -vcodec libx264 -crf </span><span style=\"color: #ff7043; font-weight: bold\">28</span><span style=\"color: #ff7043; font-weight: bold\"> -pix_fmt yuv420p</span>\n",
       "<span style=\"color: #ff7043; font-weight: bold\">-s 162</span><span style=\"color: #ff7043; font-weight: bold\">0x1050</span><span style=\"color: #ff7043; font-weight: bold\"> vid3.mp4</span>\n",
       "</pre>\n"
      ]
     },
     "metadata": {},
     "output_type": "display_data"
    },
    {
     "data": {
      "text/html": [
       "<pre style=\"white-space:pre;overflow-x:auto;line-height:normal;font-family:Menlo,'DejaVu Sans Mono',consolas,'Courier New',monospace\"><span style=\"color: #008000\">'..\\\\videos/vid3.mp4'</span>\n",
       "</pre>\n"
      ]
     },
     "metadata": {},
     "output_type": "display_data"
    }
   ],
   "source": [
    "from brainrender import Scene, Animation    #####NOT WORKING YET\n",
    "# Create a brainrender scene\n",
    "scene = Scene(title=\"brain regions\", inset=False)\n",
    "\n",
    "# Add brain regions\n",
    "scene.add_brain_region(\"TH\")\n",
    "\n",
    "anim = Animation(scene, \"../videos\", \"vid3\")\n",
    "\n",
    "# Specify camera position and zoom at some key frames\n",
    "# each key frame defines the scene's state after n seconds have passed\n",
    "anim.add_keyframe(0, camera=\"top\", zoom=1.3)\n",
    "\n",
    "# Make videos\n",
    "anim.make_video(duration=3, fps=10)"
   ]
  },
  {
   "cell_type": "markdown",
   "metadata": {},
   "source": [
    "# Brain Render -Scenes"
   ]
  },
  {
   "cell_type": "code",
   "execution_count": 197,
   "metadata": {},
   "outputs": [
    {
     "data": {
      "text/html": [
       "<pre style=\"white-space:pre;overflow-x:auto;line-height:normal;font-family:Menlo,'DejaVu Sans Mono',consolas,'Courier New',monospace\">\n",
       "Saving new screenshot at brainrender_screenshot_20210302_161505.png\n",
       "\n",
       "</pre>\n"
      ]
     },
     "metadata": {},
     "output_type": "display_data"
    },
    {
     "data": {
      "text/html": [
       "<pre style=\"white-space:pre;overflow-x:auto;line-height:normal;font-family:Menlo,'DejaVu Sans Mono',consolas,'Courier New',monospace\">\n",
       "Saving new screenshot at brainrender_screenshot_20210302_161524.png\n",
       "\n",
       "</pre>\n"
      ]
     },
     "metadata": {},
     "output_type": "display_data"
    },
    {
     "data": {
      "text/html": [
       "<pre style=\"white-space:pre;overflow-x:auto;line-height:normal;font-family:Menlo,'DejaVu Sans Mono',consolas,'Courier New',monospace\">\n",
       "Saving new screenshot at brainrender_screenshot_20210302_161545.png\n",
       "\n",
       "</pre>\n"
      ]
     },
     "metadata": {},
     "output_type": "display_data"
    },
    {
     "data": {
      "text/html": [
       "<pre style=\"white-space:pre;overflow-x:auto;line-height:normal;font-family:Menlo,'DejaVu Sans Mono',consolas,'Courier New',monospace\">\n",
       "Saving new screenshot at brainrender_screenshot_20210302_161552.png\n",
       "\n",
       "</pre>\n"
      ]
     },
     "metadata": {},
     "output_type": "display_data"
    },
    {
     "data": {
      "text/html": [
       "<pre style=\"white-space:pre;overflow-x:auto;line-height:normal;font-family:Menlo,'DejaVu Sans Mono',consolas,'Courier New',monospace\">\n",
       "Saving new screenshot at brainrender_screenshot_20210302_161605.png\n",
       "\n",
       "</pre>\n"
      ]
     },
     "metadata": {},
     "output_type": "display_data"
    }
   ],
   "source": [
    "from brainrender import Scene\n",
    "from tqdm import tqdm\n",
    "\n",
    "# Create a brainrender scene\n",
    "scene = Scene(inset=False,screenshots_folder=\"../Screenshot_Brainrender\")\n",
    "brainrender.settings.SHOW_AXES = False\n",
    "\n",
    "\n",
    "# Add brain regions Scene 1\n",
    "for r in data_cpu.index:\n",
    "    \n",
    "    region_to_plot = data_cpu.loc[r, \"br_regions\"]\n",
    "    color = cmap(data_cpu.loc[r, 'MPI6'])[:3]\n",
    "    alpha =  cmap(data_cpu.loc[r, 'MPI6'])[:3]\n",
    "    \n",
    "    #scene.add_brain_region(region_to_plot, color=color, alpha=data_cpu.loc[r, 'MPI6']) \n",
    "    scene.add_brain_region(region_to_plot, color=color, alpha=data_cpu.loc[r, 'MPI6'], hemisphere=data_cpu.loc[r, 'hem'], silhouette=False) #Alpha varies according to values\n",
    "    \n",
    "\n",
    "brainrender.settings.SHADER_STYLE = \"plastic\" #[metallic, plastic, shiny, glossy]\n",
    "brainrender.settings.ROOT_ALPHA = 0.3 \n",
    "brainrender.settings.ROOT_COLOR  = [0.8, 0.8, 0.8]\n",
    "brainrender.settings.OFFSCREEN = False\n",
    "\n",
    "scene.render(atlas_name='allen_mouse_50um', zoom=1.5, silhouette=None)"
   ]
  },
  {
   "cell_type": "code",
   "execution_count": null,
   "metadata": {},
   "outputs": [],
   "source": [
    "# Different Shadering\n",
    "for shader in (\"plastic\", \"cartoon\"):\n",
    "    brainrender.settings.SHADER_STYLE = shader\n",
    "    scene = Scene(title=shader)\n",
    "    scene.render()"
   ]
  },
  {
   "cell_type": "markdown",
   "metadata": {},
   "source": [
    " # Brainrender - Sections & Screenshot"
   ]
  },
  {
   "cell_type": "code",
   "execution_count": null,
   "metadata": {},
   "outputs": [],
   "source": [
    "# Cameras\n",
    "sagittal_camera = {\n",
    "    \"pos\": (6514, -34, 36854),\n",
    "    \"viewup\": (0, -1, 0),\n",
    "    \"clippingRange\": (24098, 49971),\n",
    "}\n",
    "\n",
    "sagittal_camera2 = {\n",
    "    \"pos\": (9782, 1795, -40999),\n",
    "    \"viewup\": (0, -1, 0),\n",
    "    \"clippingRange\": (23256, 51031),\n",
    "}\n",
    "\n",
    "\n",
    "frontal_camera = {\n",
    "    \"pos\": (-19199, -1428, -5763),\n",
    "    \"viewup\": (0, -1, 0),\n",
    "    \"clippingRange\": (19531, 40903),\n",
    "}\n",
    "\n",
    "top_camera = {\n",
    "    \"pos\": (7760, -31645, -5943),\n",
    "    \"viewup\": (-1, 0, 0),\n",
    "    \"clippingRange\": (27262, 45988),\n",
    "}\n",
    "\n",
    "top_side_camera = {\n",
    "    \"pos\": (4405, -31597, -5411),\n",
    "    \"viewup\": (0, 0, -1),\n",
    "    \"clippingRange\": (26892, 46454),\n",
    "}\n",
    "\n",
    "three_quarters_camera = {\n",
    "    \"pos\": (-20169, -7298, 14832),\n",
    "    \"viewup\": (0, -1, 0),\n",
    "    \"clippingRange\": (16955, 58963),\n",
    "}\n",
    "\n",
    "cameras = dict(\n",
    "    sagittal=sagittal_camera,\n",
    "    sagittal2=sagittal_camera2,\n",
    "    frontal=frontal_camera,\n",
    "    top=top_camera,\n",
    "    top_side=top_side_camera,\n",
    "    three_quarters=three_quarters_camera,\n",
    ")\n",
    "\n"
   ]
  },
  {
   "cell_type": "code",
   "execution_count": null,
   "metadata": {},
   "outputs": [],
   "source": [
    "# Screenshot of Horizontal section\n",
    "#ATLAS 50 um, thickness 150um\n",
    "from brainrender import Scene, atlas\n",
    "from tqdm import tqdm\n",
    "cmap = plt.get_cmap('YlOrRd')\n",
    "\n",
    "scene = Scene(inset=False,screenshots_folder=\"../Screenshot_Brainrender\")\n",
    "top_side_camera = {\n",
    "    \"pos\": (4405, -31597, -5411),\n",
    "    \"viewup\": (0, 0, -1),\n",
    "    \"clippingRange\": (26892, 46454),\n",
    "}\n",
    "\n",
    "# Add brain regions\n",
    "for r in data_cpu.index:\n",
    "\n",
    "    region_to_plot = data_cpu.loc[r, \"br_regions\"]\n",
    "    color = cmap(data_cpu.loc[r, 'MPI6'])[:3]\n",
    "    #alpha =  cmap(data_cpu.loc[r, 'MPI6'])[:3]\n",
    "    scene.add_brain_region(region_to_plot, color=color, alpha=data_cpu.loc[r, 'MPI6'], hemisphere=data_cpu.loc[r, 'hem'], silhouette=True)\n",
    "\n",
    "cp = scene.atlas.get_region(\"CP\")\n",
    "plane = scene.atlas.get_plane(pos=cp.centerOfMass(), plane=\"horizontal\", norm=(0, 1, 0), alpha=1)\n",
    "scene.slice(plane=plane, close_actors=True)\n",
    "\n",
    "\n",
    "brainrender.settings.SHADER_STYLE = \"cartoon\" #[metallic, plastic, shiny, glossy]\n",
    "brainrender.settings.ROOT_ALPHA = 0.15\n",
    "brainrender.settings.ROOT_COLOR  = [0.8, 0.8, 0.8]\n",
    "brainrender.settings.OFFSCREEN = False\n",
    "brainrender.settings.SHOW_AXES = False\n",
    "brainrender.settings.BACKGROUND_COLOR = \"White\"\n",
    "scene.render(atlas_name='allen_mouse_50um', camera=top_side_camera, zoom=1.5)\n",
    "#scene.screenshot(name=\"TESThori\".format(section/1000), scale = 3)\n"
   ]
  },
  {
   "cell_type": "code",
   "execution_count": 40,
   "metadata": {},
   "outputs": [
    {
     "data": {
      "text/html": [
       "<pre style=\"white-space:pre;overflow-x:auto;line-height:normal;font-family:Menlo,'DejaVu Sans Mono',consolas,'Courier New',monospace\">\n",
       "Saving new screenshot at 100um_Coro_Breg_-<span style=\"color: #000080; font-weight: bold\">1.</span>7_mm.png\n",
       "\n",
       "</pre>\n"
      ]
     },
     "metadata": {},
     "output_type": "display_data"
    },
    {
     "data": {
      "text/html": [
       "<pre style=\"white-space:pre;overflow-x:auto;line-height:normal;font-family:Menlo,'DejaVu Sans Mono',consolas,'Courier New',monospace\">\n",
       "Saving new screenshot at 100um_Coro_Breg_0.0_mm.png\n",
       "\n",
       "</pre>\n"
      ]
     },
     "metadata": {},
     "output_type": "display_data"
    },
    {
     "data": {
      "text/html": [
       "<pre style=\"white-space:pre;overflow-x:auto;line-height:normal;font-family:Menlo,'DejaVu Sans Mono',consolas,'Courier New',monospace\">\n",
       "Saving new screenshot at 100um_Coro_Breg_3.0_mm.png\n",
       "\n",
       "</pre>\n"
      ]
     },
     "metadata": {},
     "output_type": "display_data"
    },
    {
     "data": {
      "text/html": [
       "<pre style=\"white-space:pre;overflow-x:auto;line-height:normal;font-family:Menlo,'DejaVu Sans Mono',consolas,'Courier New',monospace\">\n",
       "Saving new screenshot at 100um_Coro_Breg_4.04_mm.png\n",
       "\n",
       "</pre>\n"
      ]
     },
     "metadata": {},
     "output_type": "display_data"
    }
   ],
   "source": [
    "# Screenshot of sections \n",
    "\n",
    "#ATLAS 100 um, thickness 150um\n",
    "from brainrender import Scene, atlas\n",
    "from tqdm import tqdm\n",
    "\n",
    "list_coor = [-1700, 0, +3000, +4040] # Bregma corresponding coordinates\n",
    "\n",
    "for section in list_coor:\n",
    "    bregma = np.array([5400,  # AP    \n",
    "          0,  # DV    \n",
    "          5700,]) # ML\n",
    "\n",
    "    bregma[0] = bregma[0] + section\n",
    "    \n",
    "    # Create a brainrender scene\n",
    "    scene = Scene(title=\"-Atlas 100 um- Coronal section Bregma {} mm -150um thickness\".format(section/1000), inset=False,screenshots_folder=\"../Screenshot_Brainrender\")\n",
    "    frontal_camera = {\n",
    "         'pos': (-19781, 3777, -5832),\n",
    "         'viewup': (0, -1, 0),\n",
    "         'clippingRange': (24465, 26836),\n",
    "        'focalPoint': (5705, 3991, -5691),\n",
    "         'distance': 25487}\n",
    "\n",
    "    # Add brain regions\n",
    "    for r in data_cpu.index:\n",
    "\n",
    "        region_to_plot = data_cpu.loc[r, \"br_regions\"]\n",
    "        color = cmap(data_cpu.loc[r, 'MPI6'])[:3]\n",
    "        alpha =  cmap(data_cpu.loc[r, 'MPI6'])[:3]\n",
    "        scene.add_brain_region(region_to_plot, color=color, alpha=1, hemisphere=data_cpu.loc[r, 'hem'], silhouette=True)\n",
    "        \n",
    "\n",
    "    plane_1 = scene.atlas.get_plane(pos=bregma+75, plane=\"frontal\", norm=(-1, 0, 0), alpha=1, color=\"white\") # Thickness: 150 um\n",
    "    plane_2 = scene.atlas.get_plane(pos=bregma-75, plane=\"frontal\", norm=(1, 0, 0), alpha=1, color=\"white\")\n",
    "    scene.slice(plane_1, close_actors=True)\n",
    "    scene.slice(plane_2, close_actors=True)\n",
    "    \n",
    "    \n",
    "    brainrender.settings.SHADER_STYLE = \"cartoon\" #[metallic, plastic, shiny, glossy]\n",
    "    brainrender.settings.ROOT_ALPHA = 0.15\n",
    "    scaling_color = 0#(section/1000)\n",
    "    brainrender.settings.ROOT_COLOR  = [1 - scaling_color, 1 - scaling_color, 1 - scaling_color]\n",
    "    brainrender.settings.OFFSCREEN = True\n",
    "    brainrender.settings.SHOW_AXES = False\n",
    "    brainrender.settings.BACKGROUND_COLOR = \"white\"\n",
    "    scene.render(atlas_name='allen_mouse_100um', camera= frontal_camera, zoom=1.5)\n",
    "    scene.screenshot(name=\"100um_Coro_Breg_{}_mm\".format(section/1000), scale = 3)\n",
    "    "
   ]
  },
  {
   "cell_type": "code",
   "execution_count": 42,
   "metadata": {},
   "outputs": [
    {
     "data": {
      "text/html": [
       "<pre style=\"white-space:pre;overflow-x:auto;line-height:normal;font-family:Menlo,'DejaVu Sans Mono',consolas,'Courier New',monospace\">\n",
       "Saving new screenshot at 50um_Coro_Breg_-<span style=\"color: #000080; font-weight: bold\">1.</span>7_mm.png\n",
       "\n",
       "</pre>\n"
      ]
     },
     "metadata": {},
     "output_type": "display_data"
    },
    {
     "data": {
      "text/html": [
       "<pre style=\"white-space:pre;overflow-x:auto;line-height:normal;font-family:Menlo,'DejaVu Sans Mono',consolas,'Courier New',monospace\">\n",
       "Saving new screenshot at 50um_Coro_Breg_0.0_mm.png\n",
       "\n",
       "</pre>\n"
      ]
     },
     "metadata": {},
     "output_type": "display_data"
    },
    {
     "data": {
      "text/html": [
       "<pre style=\"white-space:pre;overflow-x:auto;line-height:normal;font-family:Menlo,'DejaVu Sans Mono',consolas,'Courier New',monospace\">\n",
       "Saving new screenshot at 50um_Coro_Breg_3.0_mm.png\n",
       "\n",
       "</pre>\n"
      ]
     },
     "metadata": {},
     "output_type": "display_data"
    },
    {
     "data": {
      "text/html": [
       "<pre style=\"white-space:pre;overflow-x:auto;line-height:normal;font-family:Menlo,'DejaVu Sans Mono',consolas,'Courier New',monospace\">\n",
       "Saving new screenshot at 50um_Coro_Breg_4.04_mm.png\n",
       "\n",
       "</pre>\n"
      ]
     },
     "metadata": {},
     "output_type": "display_data"
    }
   ],
   "source": [
    "#ATLAS 50 um, thickness 150um\n",
    "from brainrender import Scene, atlas\n",
    "from tqdm import tqdm\n",
    "\n",
    "list_coor = [-1700, 0, +3000, +4040] # Bregma corresponding coordinates\n",
    "\n",
    "for section in list_coor:\n",
    "    bregma = np.array([5400,  # AP    \n",
    "          0,  # DV    \n",
    "          5700,]) # ML\n",
    "\n",
    "    bregma[0] = bregma[0] + section\n",
    "    \n",
    "    # Create a brainrender scene\n",
    "    scene = Scene(title=\"-Atlas 50 um- Coronal section Bregma {} mm -150um thickness\".format(section/1000), inset=False,screenshots_folder=\"../Screenshot_Brainrender\")\n",
    "    frontal_camera = {\n",
    "         'pos': (-19781, 3777, -5832),\n",
    "         'viewup': (0, -1, 0),\n",
    "         'clippingRange': (24465, 26836),\n",
    "        'focalPoint': (5705, 3991, -5691),\n",
    "         'distance': 25487}\n",
    "\n",
    "    # Add brain regions\n",
    "    for r in data_cpu.index:\n",
    "\n",
    "        region_to_plot = data_cpu.loc[r, \"br_regions\"]\n",
    "        color = cmap(data_cpu.loc[r, 'MPI6'])[:3]\n",
    "        alpha =  cmap(data_cpu.loc[r, 'MPI6'])[:3]\n",
    "        scene.add_brain_region(region_to_plot, color=color, alpha=1, hemisphere=data_cpu.loc[r, 'hem'], silhouette=True)\n",
    "        \n",
    "\n",
    "    plane_1 = scene.atlas.get_plane(pos=bregma+75, plane=\"frontal\", norm=(-1, 0, 0), alpha=1, color=\"white\") # Thickness: 150 um\n",
    "    plane_2 = scene.atlas.get_plane(pos=bregma-75, plane=\"frontal\", norm=(1, 0, 0), alpha=1, color=\"white\")\n",
    "    scene.slice(plane_1, close_actors=True)\n",
    "    scene.slice(plane_2, close_actors=True)\n",
    "    \n",
    "    \n",
    "    brainrender.settings.SHADER_STYLE = \"cartoon\" #[metallic, plastic, shiny, glossy]\n",
    "    brainrender.settings.ROOT_ALPHA = 0.15\n",
    "    brainrender.settings.ROOT_COLOR  = [1, 1, 1]\n",
    "    brainrender.settings.OFFSCREEN = True\n",
    "    brainrender.settings.SHOW_AXES = False\n",
    "    brainrender.settings.BACKGROUND_COLOR = \"white\"\n",
    "    scene.render(atlas_name='allen_mouse_50um', camera= frontal_camera, zoom=1.5)\n",
    "    scene.screenshot(name=\"50um_Coro_Breg_{}_mm\".format(section/1000), scale = 3)\n",
    "    "
   ]
  },
  {
   "cell_type": "code",
   "execution_count": 43,
   "metadata": {},
   "outputs": [
    {
     "data": {
      "text/html": [
       "<pre style=\"white-space:pre;overflow-x:auto;line-height:normal;font-family:Menlo,'DejaVu Sans Mono',consolas,'Courier New',monospace\">\n",
       "Saving new screenshot at 25um_Coro_Breg_-<span style=\"color: #000080; font-weight: bold\">1.</span>7_mm.png\n",
       "\n",
       "</pre>\n"
      ]
     },
     "metadata": {},
     "output_type": "display_data"
    },
    {
     "data": {
      "text/html": [
       "<pre style=\"white-space:pre;overflow-x:auto;line-height:normal;font-family:Menlo,'DejaVu Sans Mono',consolas,'Courier New',monospace\">\n",
       "Saving new screenshot at 25um_Coro_Breg_0.0_mm.png\n",
       "\n",
       "</pre>\n"
      ]
     },
     "metadata": {},
     "output_type": "display_data"
    },
    {
     "data": {
      "text/html": [
       "<pre style=\"white-space:pre;overflow-x:auto;line-height:normal;font-family:Menlo,'DejaVu Sans Mono',consolas,'Courier New',monospace\">\n",
       "Saving new screenshot at 25um_Coro_Breg_3.0_mm.png\n",
       "\n",
       "</pre>\n"
      ]
     },
     "metadata": {},
     "output_type": "display_data"
    },
    {
     "data": {
      "text/html": [
       "<pre style=\"white-space:pre;overflow-x:auto;line-height:normal;font-family:Menlo,'DejaVu Sans Mono',consolas,'Courier New',monospace\">\n",
       "Saving new screenshot at 25um_Coro_Breg_4.04_mm.png\n",
       "\n",
       "</pre>\n"
      ]
     },
     "metadata": {},
     "output_type": "display_data"
    }
   ],
   "source": [
    "#ATLAS 25 um, thickness 150um\n",
    "from brainrender import Scene, atlas\n",
    "from tqdm import tqdm\n",
    "\n",
    "list_coor = [-1700, 0, +3000, +4040] # Bregma corresponding coordinates\n",
    "\n",
    "for section in list_coor:\n",
    "    bregma = np.array([5400,  # AP    \n",
    "          0,  # DV    \n",
    "          5700,]) # ML\n",
    "\n",
    "    bregma[0] = bregma[0] + section\n",
    "    \n",
    "    # Create a brainrender scene\n",
    "    scene = Scene(title=\"-Atlas 25 um- Coronal section Bregma {} mm -150um thickness\".format(section/1000), inset=False,screenshots_folder=\"../Screenshot_Brainrender\")\n",
    "    frontal_camera = {\n",
    "         'pos': (-19781, 3777, -5832),\n",
    "         'viewup': (0, -1, 0),\n",
    "         'clippingRange': (24465, 26836),\n",
    "        'focalPoint': (5705, 3991, -5691),\n",
    "         'distance': 25487}\n",
    "\n",
    "    # Add brain regions\n",
    "    for r in data_cpu.index:\n",
    "\n",
    "        region_to_plot = data_cpu.loc[r, \"br_regions\"]\n",
    "        color = cmap(data_cpu.loc[r, 'MPI6'])[:3]\n",
    "        alpha =  cmap(data_cpu.loc[r, 'MPI6'])[:3]\n",
    "        scene.add_brain_region(region_to_plot, color=color, alpha=1, hemisphere=data_cpu.loc[r, 'hem'], silhouette=True)\n",
    "        \n",
    "\n",
    "    plane_1 = scene.atlas.get_plane(pos=bregma+75, plane=\"frontal\", norm=(-1, 0, 0), alpha=1, color=\"white\") # Thickness: 150 um\n",
    "    plane_2 = scene.atlas.get_plane(pos=bregma-75, plane=\"frontal\", norm=(1, 0, 0), alpha=1, color=\"white\")\n",
    "    scene.slice(plane_1, close_actors=True)\n",
    "    scene.slice(plane_2, close_actors=True)\n",
    "    \n",
    "    \n",
    "    brainrender.settings.SHADER_STYLE = \"cartoon\" #[metallic, plastic, shiny, glossy]\n",
    "    brainrender.settings.ROOT_ALPHA = 0.15\n",
    "    brainrender.settings.ROOT_COLOR  = [1,1,1]\n",
    "    brainrender.settings.OFFSCREEN = True\n",
    "    brainrender.settings.SHOW_AXES = False\n",
    "    brainrender.settings.BACKGROUND_COLOR = \"white\"\n",
    "    scene.render(atlas_name='allen_mouse_25um', camera= frontal_camera, zoom=1.5)\n",
    "    scene.screenshot(name=\"25um_Coro_Breg_{}_mm\".format(section/1000), scale = 3)\n",
    "    "
   ]
  },
  {
   "cell_type": "code",
   "execution_count": null,
   "metadata": {},
   "outputs": [],
   "source": [
    "# Center of mass CPu & SN\n",
    "\n",
    "#ATLAS 50 um, thickness 150um\n",
    "from brainrender import Scene, atlas\n",
    "from tqdm import tqdm\n",
    "scene=Scene(atlas_name='allen_mouse_50um')\n",
    "cp = scene.atlas.get_region(\"CP\")\n",
    "sn = scene.atlas.get_region(\"SNc\")\n",
    "list_reg=[cp,sn]\n",
    "frontal_camera = {\n",
    "     'pos': (-19781, 3777, -5832),\n",
    "     'viewup': (0, -1, 0),\n",
    "     'clippingRange': (24465, 26836),\n",
    "    'focalPoint': (5705, 3991, -5691),\n",
    "     'distance': 25487}\n",
    "\n",
    "for i in list_reg: \n",
    "    if i == cp:\n",
    "        scene = Scene(atlas_name='allen_mouse_50um', title=\"-Atlas 50 um- Coronal section CPu  -50um thickness\", inset=False,screenshots_folder=\"../Screenshot_Brainrender\")\n",
    "        for r in data_cpu.index:\n",
    "            region_to_plot = data_cpu.loc[r, \"br_regions\"]\n",
    "            color = cmap(data_cpu.loc[r, 'MPI6'])[:3]\n",
    "            alpha =  cmap(data_cpu.loc[r, 'MPI6'])[:3]\n",
    "            scene.add_brain_region(region_to_plot, color=color, alpha=1, hemisphere=data_cpu.loc[r, 'hem'], silhouette=True)\n",
    "    else:\n",
    "        scene = Scene(atlas_name='allen_mouse_50um', title=\"-Atlas 50 um- Coronal section SN  -50um thickness\", inset=False,screenshots_folder=\"../Screenshot_Brainrender\")\n",
    "        for r in data_cpu.index:\n",
    "            region_to_plot = data_cpu.loc[r, \"br_regions\"]\n",
    "            color = cmap(data_cpu.loc[r, 'MPI6'])[:3]\n",
    "            alpha =  cmap(data_cpu.loc[r, 'MPI6'])[:3]\n",
    "            scene.add_brain_region(region_to_plot, color=color, alpha=1, hemisphere=data_cpu.loc[r, 'hem'], silhouette=True)\n",
    "\n",
    "        \n",
    "    plane_1 = scene.atlas.get_plane(pos=i.centerOfMass()+25, plane=\"frontal\", norm=(-1, 0, 0), sx=100, alpha=1, color=\"white\") # Thickness: 150 um\n",
    "    plane_2 = scene.atlas.get_plane(pos=i.centerOfMass()-25, plane=\"frontal\", norm=(1, 0, 0), sx=100, alpha=1, color=\"white\")\n",
    "    scene.slice(plane_1, close_actors=True)\n",
    "    scene.slice(plane_2, close_actors=True)\n",
    "    \n",
    "    \n",
    "    brainrender.settings.SHADER_STYLE = \"cartoon\" #[metallic, plastic, shiny, glossy]\n",
    "    brainrender.settings.ROOT_ALPHA = 0.15\n",
    "    brainrender.settings.ROOT_COLOR  = [1, 1, 1]\n",
    "    brainrender.settings.OFFSCREEN = True\n",
    "    brainrender.settings.SHOW_AXES = False\n",
    "    brainrender.settings.BACKGROUND_COLOR = \"white\"\n",
    "    scene.render(atlas_name='allen_mouse_50um', camera= frontal_camera, zoom=1.5)\n",
    "    if i == cp:\n",
    "        scene.screenshot(name=\"50um_Coro_CPu\", scale = 3)\n",
    "    else:\n",
    "        scene.screenshot(name=\"50um_Coro_SNc\", scale = 3)\n",
    "    scene.close()"
   ]
  },
  {
   "cell_type": "markdown",
   "metadata": {},
   "source": [
    "# Creation of the figure"
   ]
  },
  {
   "cell_type": "code",
   "execution_count": null,
   "metadata": {},
   "outputs": [],
   "source": [
    "import matplotlib.pyplot as plt\n",
    "#Main Axes  V\n",
    "plt.axes([0.1,0.1,1.2,1.2])\n",
    "plt.xticks([]), plt.yticks([])\n",
    "#plt.text(0.1,0.6, '1',ha='center',va='center',size=20,alpha=.5)\n",
    "\n",
    "\n",
    "#Right Axe\n",
    "#plt.axes([0.9,0.15,.35,1.1])\n",
    "#plt.xticks([]), plt.yticks([])\n",
    "#plt.text(0.5,0.5, 'axes([0.6,0.1,.3,.8])',ha='center',va='center',size=16,alpha=.5)\n",
    "\n",
    "#Right - Top part\n",
    "plt.axes([0.9,0.975,.35,0.275])\n",
    "plt.xticks([]), plt.yticks([])\n",
    "#plt.text(0.1,0.6, 'axes([0.1,0.1,.8,.8])',ha='center',va='center',size=20,alpha=.5)\n",
    "\n",
    "#Right - Middle up part\n",
    "plt.axes([0.9,0.7,.35,0.275])\n",
    "plt.xticks([]), plt.yticks([])\n",
    "#plt.text(0.1,0.6, 'axes([0.1,0.1,.8,.8])',ha='center',va='center',size=20,alpha=.5)\n",
    "\n",
    "#Right - Middle Down part\n",
    "plt.axes([0.9,0.425,.35,0.275])\n",
    "plt.xticks([]), plt.yticks([])\n",
    "#plt.text(0.1,0.6, 'axes([0.1,0.1,.8,.8])',ha='center',va='center',size=20,alpha=.5)\n",
    "\n",
    "#Right- Down part\n",
    "plt.axes([0.9,0.150,.35,0.275])\n",
    "plt.xticks([]), plt.yticks([])\n",
    "#plt.text(0.1,0.6, 'axes([0.1,0.1,.8,.8])',ha='center',va='center',size=20,alpha=.5)\n",
    "\n",
    "#LEFT - UP and DOWN axes  V\n",
    "plt.axes([0.15,0.70,0.70,0.55])\n",
    "plt.xticks([]), plt.yticks([])\n",
    "#plt.text(0.1,0.6, 'axes([0.1,0.1,.8,.8])',ha='center',va='center',size=20,alpha=.5)\n",
    "\n",
    "plt.axes([0.15,0.15,0.7,0.55])\n",
    "plt.xticks([]), plt.yticks([])\n",
    "#plt.text(0.1,0.6, 'axes([0.1,0.1,.8,.8])',ha='center',va='center',size=20,alpha=.5)\n",
    "\n",
    "#plt.savefig(\"../figures/axes.png\",dpi=64)\n",
    "plt.show()()"
   ]
  },
  {
   "cell_type": "code",
   "execution_count": 20,
   "metadata": {},
   "outputs": [
    {
     "data": {
      "image/png": "[encoded data removed]"
     },
     "metadata": {},
     "output_type": "display_data"
    }
   ],
   "source": [
    "from pylab import *\n",
    "import matplotlib.gridspec as gridspec\n",
    "import matplotlib.pyplot as plt\n",
    "from PIL import Image\n",
    "import matplotlib.pyplot as plt\n",
    "\n",
    "list_coor = [-1700, 0, +3000, +4040] # Bregma corresponding coordinates\n",
    "image=[]\n",
    "for section in list_coor:\n",
    "    Cor = Image.open(\"../Screenshot_Brainrender/50um_Coro_Breg_{}_mm.png\".format(section/1000))\n",
    "    image.append(Cor)\n",
    "\n",
    "hor = Image.open(\"../Screenshot_Brainrender/50um_Horizontal_CoMassCPu (5).png\")\n",
    "whole = Image.open(\"../Screenshot_Brainrender/50um_Whole (7).png\")\n",
    "\n",
    "G = gridspec.GridSpec(nrows=4, ncols=3,left=0.25)\n",
    "\n",
    "axes_1 = subplot(G[0:2, 0:2])\n",
    "xticks([]), yticks([])\n",
    "#text(0.5,0.5, 'Axes 1',ha='center',va='center',size=24,alpha=.5)\n",
    "plt.imshow(whole)\n",
    "\n",
    "axes_2 = subplot(G[2:4,0:2])\n",
    "xticks([]), yticks([])\n",
    "#text(0.5,0.5, 'Axes 2',ha='center',va='center',size=24,alpha=.5)\n",
    "plt.imshow(hor)\n",
    "\n",
    "axes_3 = subplot(G[0, 2])\n",
    "xticks([]), yticks([])\n",
    "text(0.5,0.5, 'Bregma = -1.7mm',ha='left',va='bottom',size=9,alpha=1)\n",
    "plt.imshow(image[0])\n",
    "\n",
    "axes_4 = subplot(G[1,2])\n",
    "xticks([]), yticks([])\n",
    "text(0.5,0.5, 'Bregma = 0mm',ha='left',va='bottom',size=9,alpha=1)\n",
    "plt.imshow(image[1])\n",
    "\n",
    "axes_5 = subplot(G[2,2])\n",
    "xticks([]), yticks([])\n",
    "text(0.5,0.5, 'Bregma = 3.0mm',ha='left',va='bottom',size=9,alpha=1)\n",
    "plt.imshow(image[2])\n",
    "\n",
    "\n",
    "axes_6 = subplot(G[3,2])\n",
    "xticks([]), yticks([])\n",
    "text(0.5,0.5, 'Bregma = 5.4mm',ha='left',va='bottom',size=9,alpha=1)\n",
    "plt.imshow(image[3])\n",
    "\n",
    "plt.savefig('../Screenshot_Brainrender/Summary_figure.png', dpi=300)\n",
    "plt.savefig('../Screenshot_Brainrender/Summary_figure.pdf', dpi=300)\n",
    "plt.show()"
   ]
  },
  {
   "cell_type": "markdown",
   "metadata": {},
   "source": [
    "# Different MPI and Seeding"
   ]
  },
  {
   "cell_type": "markdown",
   "metadata": {},
   "source": [
    "# a) Seed = CPU"
   ]
  },
  {
   "cell_type": "code",
   "execution_count": 21,
   "metadata": {},
   "outputs": [
    {
     "name": "stderr",
     "output_type": "stream",
     "text": [
      "  0%|          | 0/3 [00:00<?, ?it/s]"
     ]
    },
    {
     "data": {
      "text/html": [
       "<pre style=\"white-space:pre;overflow-x:auto;line-height:normal;font-family:Menlo,'DejaVu Sans Mono',consolas,'Courier New',monospace\">\n",
       "Saving new screenshot at 50um_CPu_MPI1_Breg_-<span style=\"color: #000080; font-weight: bold\">1.</span>7_mm.png\n",
       "\n",
       "</pre>\n"
      ]
     },
     "metadata": {},
     "output_type": "display_data"
    },
    {
     "data": {
      "text/html": [
       "<pre style=\"white-space:pre;overflow-x:auto;line-height:normal;font-family:Menlo,'DejaVu Sans Mono',consolas,'Courier New',monospace\">\n",
       "Saving new screenshot at 50um_CPu_MPI1_Breg_0.0_mm.png\n",
       "\n",
       "</pre>\n"
      ]
     },
     "metadata": {},
     "output_type": "display_data"
    },
    {
     "data": {
      "text/html": [
       "<pre style=\"white-space:pre;overflow-x:auto;line-height:normal;font-family:Menlo,'DejaVu Sans Mono',consolas,'Courier New',monospace\">\n",
       "Saving new screenshot at 50um_CPu_MPI1_Breg_3.0_mm.png\n",
       "\n",
       "</pre>\n"
      ]
     },
     "metadata": {},
     "output_type": "display_data"
    },
    {
     "data": {
      "text/html": [
       "<pre style=\"white-space:pre;overflow-x:auto;line-height:normal;font-family:Menlo,'DejaVu Sans Mono',consolas,'Courier New',monospace\">\n",
       "Saving new screenshot at 50um_CPu_MPI1_Breg_4.04_mm.png\n",
       "\n",
       "</pre>\n"
      ]
     },
     "metadata": {},
     "output_type": "display_data"
    },
    {
     "name": "stderr",
     "output_type": "stream",
     "text": [
      " 33%|███▎      | 1/3 [01:14<02:29, 74.64s/it]"
     ]
    },
    {
     "data": {
      "text/html": [
       "<pre style=\"white-space:pre;overflow-x:auto;line-height:normal;font-family:Menlo,'DejaVu Sans Mono',consolas,'Courier New',monospace\">\n",
       "Saving new screenshot at 50um_CPu_MPI3_Breg_-<span style=\"color: #000080; font-weight: bold\">1.</span>7_mm.png\n",
       "\n",
       "</pre>\n"
      ]
     },
     "metadata": {},
     "output_type": "display_data"
    },
    {
     "data": {
      "text/html": [
       "<pre style=\"white-space:pre;overflow-x:auto;line-height:normal;font-family:Menlo,'DejaVu Sans Mono',consolas,'Courier New',monospace\">\n",
       "Saving new screenshot at 50um_CPu_MPI3_Breg_0.0_mm.png\n",
       "\n",
       "</pre>\n"
      ]
     },
     "metadata": {},
     "output_type": "display_data"
    },
    {
     "data": {
      "text/html": [
       "<pre style=\"white-space:pre;overflow-x:auto;line-height:normal;font-family:Menlo,'DejaVu Sans Mono',consolas,'Courier New',monospace\">\n",
       "Saving new screenshot at 50um_CPu_MPI3_Breg_3.0_mm.png\n",
       "\n",
       "</pre>\n"
      ]
     },
     "metadata": {},
     "output_type": "display_data"
    },
    {
     "data": {
      "text/html": [
       "<pre style=\"white-space:pre;overflow-x:auto;line-height:normal;font-family:Menlo,'DejaVu Sans Mono',consolas,'Courier New',monospace\">\n",
       "Saving new screenshot at 50um_CPu_MPI3_Breg_4.04_mm.png\n",
       "\n",
       "</pre>\n"
      ]
     },
     "metadata": {},
     "output_type": "display_data"
    },
    {
     "name": "stderr",
     "output_type": "stream",
     "text": [
      " 67%|██████▋   | 2/3 [02:27<01:14, 74.04s/it]"
     ]
    },
    {
     "data": {
      "text/html": [
       "<pre style=\"white-space:pre;overflow-x:auto;line-height:normal;font-family:Menlo,'DejaVu Sans Mono',consolas,'Courier New',monospace\">\n",
       "Saving new screenshot at 50um_CPu_MPI6_Breg_-<span style=\"color: #000080; font-weight: bold\">1.</span>7_mm.png\n",
       "\n",
       "</pre>\n"
      ]
     },
     "metadata": {},
     "output_type": "display_data"
    },
    {
     "data": {
      "text/html": [
       "<pre style=\"white-space:pre;overflow-x:auto;line-height:normal;font-family:Menlo,'DejaVu Sans Mono',consolas,'Courier New',monospace\">\n",
       "Saving new screenshot at 50um_CPu_MPI6_Breg_0.0_mm.png\n",
       "\n",
       "</pre>\n"
      ]
     },
     "metadata": {},
     "output_type": "display_data"
    },
    {
     "data": {
      "text/html": [
       "<pre style=\"white-space:pre;overflow-x:auto;line-height:normal;font-family:Menlo,'DejaVu Sans Mono',consolas,'Courier New',monospace\">\n",
       "Saving new screenshot at 50um_CPu_MPI6_Breg_3.0_mm.png\n",
       "\n",
       "</pre>\n"
      ]
     },
     "metadata": {},
     "output_type": "display_data"
    },
    {
     "data": {
      "text/html": [
       "<pre style=\"white-space:pre;overflow-x:auto;line-height:normal;font-family:Menlo,'DejaVu Sans Mono',consolas,'Courier New',monospace\">\n",
       "Saving new screenshot at 50um_CPu_MPI6_Breg_4.04_mm.png\n",
       "\n",
       "</pre>\n"
      ]
     },
     "metadata": {},
     "output_type": "display_data"
    },
    {
     "name": "stderr",
     "output_type": "stream",
     "text": [
      "100%|██████████| 3/3 [03:44<00:00, 74.69s/it]\n"
     ]
    }
   ],
   "source": [
    "from brainrender import Scene, atlas\n",
    "from tqdm import tqdm\n",
    "\n",
    "list_coor = [-1700, 0, +3000, +4040] # Bregma corresponding coordinates\n",
    "timepoints = [1,3,6]\n",
    "for t in tqdm(timepoints):\n",
    "    \n",
    "    for section in list_coor:\n",
    "        bregma = np.array([5400,  # AP    \n",
    "              0,  # DV    \n",
    "              5700,]) # ML\n",
    "\n",
    "        bregma[0] = bregma[0] + section\n",
    "\n",
    "        # Create a brainrender scene\n",
    "        scene = Scene(title=\"-Coronal section Bregma {} mm -50um thickness- Seed = CPu - MPI {}\".format(section/1000,t), inset=False,screenshots_folder=\"../Screenshot_Brainrender/CPu_MPIs\")\n",
    "        frontal_camera = {\n",
    "             'pos': (-19781, 3777, -5832),\n",
    "             'viewup': (0, -1, 0),\n",
    "             'clippingRange': (24465, 26836),\n",
    "            'focalPoint': (5705, 3991, -5691),\n",
    "             'distance': 25487}\n",
    "\n",
    "        # Add brain regions\n",
    "        for r in data_cpu.index:\n",
    "\n",
    "            region_to_plot = data_cpu.loc[r, \"br_regions\"]\n",
    "            color = cmap(data_cpu.loc[r, 'MPI{}'.format(t)])[:3]\n",
    "            alpha =  cmap(data_cpu.loc[r, 'MPI{}'.format(t)])[:3]\n",
    "            scene.add_brain_region(region_to_plot, color=color, alpha=1, hemisphere=data_cpu.loc[r, 'hem'], silhouette=True)\n",
    "\n",
    "\n",
    "        plane_1 = scene.atlas.get_plane(pos=bregma+50, plane=\"frontal\", norm=(-1, 0, 0), alpha=1, color=\"white\") # Thickness: 150 um\n",
    "        plane_2 = scene.atlas.get_plane(pos=bregma-50, plane=\"frontal\", norm=(1, 0, 0), alpha=1, color=\"white\")\n",
    "        scene.slice(plane_1, close_actors=True)\n",
    "        scene.slice(plane_2, close_actors=True)\n",
    "\n",
    "\n",
    "        brainrender.settings.SHADER_STYLE = \"cartoon\" #[metallic, plastic, shiny, glossy]\n",
    "        brainrender.settings.ROOT_ALPHA = 0.15\n",
    "        brainrender.settings.ROOT_COLOR  = [1, 1, 1]\n",
    "        brainrender.settings.OFFSCREEN = True\n",
    "        brainrender.settings.SHOW_AXES = False\n",
    "        brainrender.settings.BACKGROUND_COLOR = \"white\"\n",
    "        scene.render(atlas_name='allen_mouse_50um', camera= frontal_camera, zoom=1.5)\n",
    "        scene.screenshot(name=\"50um_CPu_MPI{}_Breg_{}_mm\".format(t,section/1000), scale = 3)"
   ]
  },
  {
   "cell_type": "markdown",
   "metadata": {},
   "source": [
    "# b) Seed = SNc"
   ]
  },
  {
   "cell_type": "code",
   "execution_count": null,
   "metadata": {},
   "outputs": [],
   "source": [
    "from brainrender import Scene, atlas\n",
    "from tqdm import tqdm\n",
    "\n",
    "list_coor = [-1700, 0, +3000, +4040] # Bregma corresponding coordinates\n",
    "timepoints = [1,3,6]\n",
    "for t in tqdm(timepoints):\n",
    "    \n",
    "    for section in list_coor:\n",
    "        bregma = np.array([5400,  # AP    \n",
    "              0,  # DV    \n",
    "              5700,]) # ML\n",
    "\n",
    "        bregma[0] = bregma[0] + section\n",
    "\n",
    "        # Create a brainrender scene\n",
    "        scene = Scene(title=\"-Coronal section Bregma {} mm -50um thickness- Seed = SN - MPI {}\".format(section/1000,t), inset=False,screenshots_folder=\"../Screenshot_Brainrender/SN_MPIs\")\n",
    "        frontal_camera = {\n",
    "             'pos': (-19781, 3777, -5832),\n",
    "             'viewup': (0, -1, 0),\n",
    "             'clippingRange': (24465, 26836),\n",
    "            'focalPoint': (5705, 3991, -5691),\n",
    "             'distance': 25487}\n",
    "\n",
    "        # Add brain regions\n",
    "        for r in data_sn.index:\n",
    "\n",
    "            region_to_plot = data_sn.loc[r, \"br_regions\"]\n",
    "            color = cmap(data_sn.loc[r, 'MPI{}'.format(t)])[:3]\n",
    "            alpha =  cmap(data_sn.loc[r, 'MPI{}'.format(t)])[:3]\n",
    "            scene.add_brain_region(region_to_plot, color=color, alpha=1, hemisphere=data_sn.loc[r, 'hem'], silhouette=True) #alpha=data_cpu.loc[r, 'MPI{}'.format(t)]\n",
    "\n",
    "\n",
    "        plane_1 = scene.atlas.get_plane(pos=bregma+50, plane=\"frontal\", norm=(-1, 0, 0), alpha=1, color=\"white\") # Thickness: 150 um\n",
    "        plane_2 = scene.atlas.get_plane(pos=bregma-50, plane=\"frontal\", norm=(1, 0, 0), alpha=1, color=\"white\")\n",
    "        scene.slice(plane_1, close_actors=True)\n",
    "        scene.slice(plane_2, close_actors=True)\n",
    "\n",
    "\n",
    "        brainrender.settings.SHADER_STYLE = \"cartoon\" #[metallic, plastic, shiny, glossy]\n",
    "        brainrender.settings.ROOT_ALPHA = 0.15\n",
    "        brainrender.settings.ROOT_COLOR  = [1, 1, 1]\n",
    "        brainrender.settings.OFFSCREEN = False\n",
    "        brainrender.settings.SHOW_AXES = False\n",
    "        brainrender.settings.BACKGROUND_COLOR = \"white\"\n",
    "        scene.render(atlas_name='allen_mouse_50um', camera= frontal_camera, zoom=1.5)\n",
    "        scene.screenshot(name=\"50um_SNc_MPI{}_Breg_{}_mm\".format(t,section/1000), scale = 3)"
   ]
  },
  {
   "cell_type": "code",
   "execution_count": 23,
   "metadata": {},
   "outputs": [
    {
     "data": {
      "text/html": [
       "<div>\n",
       "<style scoped>\n",
       "    .dataframe tbody tr th:only-of-type {\n",
       "        vertical-align: middle;\n",
       "    }\n",
       "\n",
       "    .dataframe tbody tr th {\n",
       "        vertical-align: top;\n",
       "    }\n",
       "\n",
       "    .dataframe thead th {\n",
       "        text-align: right;\n",
       "    }\n",
       "</style>\n",
       "<table border=\"1\" class=\"dataframe\">\n",
       "  <thead>\n",
       "    <tr style=\"text-align: right;\">\n",
       "      <th></th>\n",
       "      <th>Unnamed: 0</th>\n",
       "      <th>MPI1</th>\n",
       "      <th>MPI3</th>\n",
       "      <th>MPI6</th>\n",
       "      <th>regions</th>\n",
       "      <th>br_regions</th>\n",
       "      <th>hem</th>\n",
       "    </tr>\n",
       "  </thead>\n",
       "  <tbody>\n",
       "    <tr>\n",
       "      <th>0</th>\n",
       "      <td>0</td>\n",
       "      <td>0.006276</td>\n",
       "      <td>0.008956</td>\n",
       "      <td>0.464012</td>\n",
       "      <td>iCg</td>\n",
       "      <td>ACA</td>\n",
       "      <td>right</td>\n",
       "    </tr>\n",
       "    <tr>\n",
       "      <th>1</th>\n",
       "      <td>1</td>\n",
       "      <td>0.005459</td>\n",
       "      <td>0.005018</td>\n",
       "      <td>0.209909</td>\n",
       "      <td>iAcb</td>\n",
       "      <td>ACB</td>\n",
       "      <td>right</td>\n",
       "    </tr>\n",
       "    <tr>\n",
       "      <th>2</th>\n",
       "      <td>2</td>\n",
       "      <td>0.000790</td>\n",
       "      <td>0.001940</td>\n",
       "      <td>0.096681</td>\n",
       "      <td>iTC</td>\n",
       "      <td>LHA</td>\n",
       "      <td>right</td>\n",
       "    </tr>\n",
       "    <tr>\n",
       "      <th>3</th>\n",
       "      <td>3</td>\n",
       "      <td>0.006451</td>\n",
       "      <td>0.009770</td>\n",
       "      <td>0.491212</td>\n",
       "      <td>iAI</td>\n",
       "      <td>AId</td>\n",
       "      <td>right</td>\n",
       "    </tr>\n",
       "    <tr>\n",
       "      <th>4</th>\n",
       "      <td>4</td>\n",
       "      <td>0.006004</td>\n",
       "      <td>0.008185</td>\n",
       "      <td>0.422023</td>\n",
       "      <td>iAI-b</td>\n",
       "      <td>GU</td>\n",
       "      <td>right</td>\n",
       "    </tr>\n",
       "    <tr>\n",
       "      <th>...</th>\n",
       "      <td>...</td>\n",
       "      <td>...</td>\n",
       "      <td>...</td>\n",
       "      <td>...</td>\n",
       "      <td>...</td>\n",
       "      <td>...</td>\n",
       "      <td>...</td>\n",
       "    </tr>\n",
       "    <tr>\n",
       "      <th>111</th>\n",
       "      <td>111</td>\n",
       "      <td>0.002261</td>\n",
       "      <td>0.005201</td>\n",
       "      <td>0.278061</td>\n",
       "      <td>cTeA</td>\n",
       "      <td>TEa</td>\n",
       "      <td>left</td>\n",
       "    </tr>\n",
       "    <tr>\n",
       "      <th>112</th>\n",
       "      <td>112</td>\n",
       "      <td>0.004316</td>\n",
       "      <td>0.010534</td>\n",
       "      <td>0.622169</td>\n",
       "      <td>cIns</td>\n",
       "      <td>VISC</td>\n",
       "      <td>left</td>\n",
       "    </tr>\n",
       "    <tr>\n",
       "      <th>113</th>\n",
       "      <td>113</td>\n",
       "      <td>0.000806</td>\n",
       "      <td>0.003196</td>\n",
       "      <td>0.194970</td>\n",
       "      <td>cV</td>\n",
       "      <td>VIS</td>\n",
       "      <td>left</td>\n",
       "    </tr>\n",
       "    <tr>\n",
       "      <th>114</th>\n",
       "      <td>114</td>\n",
       "      <td>0.000442</td>\n",
       "      <td>0.002355</td>\n",
       "      <td>0.168030</td>\n",
       "      <td>cV-b</td>\n",
       "      <td>VISpm</td>\n",
       "      <td>left</td>\n",
       "    </tr>\n",
       "    <tr>\n",
       "      <th>115</th>\n",
       "      <td>115</td>\n",
       "      <td>0.002464</td>\n",
       "      <td>0.002482</td>\n",
       "      <td>0.114631</td>\n",
       "      <td>cVTA</td>\n",
       "      <td>VTA</td>\n",
       "      <td>left</td>\n",
       "    </tr>\n",
       "  </tbody>\n",
       "</table>\n",
       "<p>110 rows × 7 columns</p>\n",
       "</div>"
      ]
     },
     "execution_count": 23,
     "metadata": {},
     "output_type": "execute_result"
    }
   ],
   "source": [
    "data_sn"
   ]
  },
  {
   "cell_type": "code",
   "execution_count": null,
   "metadata": {},
   "outputs": [],
   "source": []
  }
 ],
 "metadata": {
  "kernelspec": {
   "display_name": "brainrender",
   "language": "python",
   "name": "brainrender"
  },
  "language_info": {
   "codemirror_mode": {
    "name": "ipython",
    "version": 3
   },
   "file_extension": ".py",
   "mimetype": "text/x-python",
   "name": "python",
   "nbconvert_exporter": "python",
   "pygments_lexer": "ipython3",
   "version": "3.8.5"
  }
 },
 "nbformat": 4,
 "nbformat_minor": 4
}
