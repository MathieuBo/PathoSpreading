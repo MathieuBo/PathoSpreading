{
 "cells": [
  {
   "cell_type": "code",
   "execution_count": 1,
   "metadata": {},
   "outputs": [],
   "source": [
    "from vedo import embedWindow\n",
    "embedWindow(None)\n",
    "\n",
    "from brainrender import Scene\n",
    "import brainrender\n",
    "import os"
   ]
  },
  {
   "cell_type": "code",
   "execution_count": 2,
   "metadata": {},
   "outputs": [],
   "source": [
    "import pandas as pd\n",
    "import matplotlib.pyplot as plt\n",
    "import numpy as np"
   ]
  },
  {
   "cell_type": "code",
   "execution_count": 3,
   "metadata": {},
   "outputs": [
    {
     "data": {
      "text/html": [
       "<pre style=\"white-space:pre;overflow-x:auto;line-height:normal;font-family:Menlo,'DejaVu Sans Mono',consolas,'Courier New',monospace\"><span style=\"color: #008000\">'C:\\\\Users\\\\thoma\\\\Documents\\\\M1_Neurasmus\\\\NeuroBIM_M1\\\\Internship\\\\GitRepo\\\\PathoSpreading'</span>\n",
       "</pre>\n"
      ]
     },
     "metadata": {},
     "output_type": "display_data"
    }
   ],
   "source": [
    "os.getcwd()"
   ]
  },
  {
   "cell_type": "code",
   "execution_count": 4,
   "metadata": {},
   "outputs": [],
   "source": [
    "data_cpu = pd.read_csv('../output/predicted_pathology.csv')\n",
    "data_sn = pd.read_csv('../output/predicted_pathology_seedSN.csv')"
   ]
  },
  {
   "cell_type": "code",
   "execution_count": 5,
   "metadata": {},
   "outputs": [],
   "source": [
    "reg_names = pd.read_excel('./Data83018/BrainR_ROInames.xlsx')"
   ]
  },
  {
   "cell_type": "code",
   "execution_count": 6,
   "metadata": {},
   "outputs": [
    {
     "data": {
      "text/html": [
       "<div>\n",
       "<style scoped>\n",
       "    .dataframe tbody tr th:only-of-type {\n",
       "        vertical-align: middle;\n",
       "    }\n",
       "\n",
       "    .dataframe tbody tr th {\n",
       "        vertical-align: top;\n",
       "    }\n",
       "\n",
       "    .dataframe thead th {\n",
       "        text-align: right;\n",
       "    }\n",
       "</style>\n",
       "<table border=\"1\" class=\"dataframe\">\n",
       "  <thead>\n",
       "    <tr style=\"text-align: right;\">\n",
       "      <th></th>\n",
       "      <th>Unnamed: 0</th>\n",
       "      <th>MPI1</th>\n",
       "      <th>MPI3</th>\n",
       "      <th>MPI6</th>\n",
       "      <th>regions</th>\n",
       "    </tr>\n",
       "  </thead>\n",
       "  <tbody>\n",
       "    <tr>\n",
       "      <th>0</th>\n",
       "      <td>0</td>\n",
       "      <td>0.285313</td>\n",
       "      <td>0.354758</td>\n",
       "      <td>0.348739</td>\n",
       "      <td>iCg</td>\n",
       "    </tr>\n",
       "    <tr>\n",
       "      <th>1</th>\n",
       "      <td>1</td>\n",
       "      <td>0.012263</td>\n",
       "      <td>0.058409</td>\n",
       "      <td>0.128091</td>\n",
       "      <td>iAcb</td>\n",
       "    </tr>\n",
       "    <tr>\n",
       "      <th>2</th>\n",
       "      <td>2</td>\n",
       "      <td>0.013305</td>\n",
       "      <td>0.053030</td>\n",
       "      <td>0.100022</td>\n",
       "      <td>iTC</td>\n",
       "    </tr>\n",
       "    <tr>\n",
       "      <th>3</th>\n",
       "      <td>3</td>\n",
       "      <td>0.352187</td>\n",
       "      <td>0.395984</td>\n",
       "      <td>0.371742</td>\n",
       "      <td>iAI</td>\n",
       "    </tr>\n",
       "    <tr>\n",
       "      <th>4</th>\n",
       "      <td>4</td>\n",
       "      <td>0.250713</td>\n",
       "      <td>0.312540</td>\n",
       "      <td>0.317882</td>\n",
       "      <td>iAI-b</td>\n",
       "    </tr>\n",
       "  </tbody>\n",
       "</table>\n",
       "</div>"
      ]
     },
     "execution_count": 6,
     "metadata": {},
     "output_type": "execute_result"
    }
   ],
   "source": [
    "data_cpu.head()"
   ]
  },
  {
   "cell_type": "code",
   "execution_count": 7,
   "metadata": {},
   "outputs": [
    {
     "data": {
      "text/html": [
       "<div>\n",
       "<style scoped>\n",
       "    .dataframe tbody tr th:only-of-type {\n",
       "        vertical-align: middle;\n",
       "    }\n",
       "\n",
       "    .dataframe tbody tr th {\n",
       "        vertical-align: top;\n",
       "    }\n",
       "\n",
       "    .dataframe thead th {\n",
       "        text-align: right;\n",
       "    }\n",
       "</style>\n",
       "<table border=\"1\" class=\"dataframe\">\n",
       "  <thead>\n",
       "    <tr style=\"text-align: right;\">\n",
       "      <th></th>\n",
       "      <th>Unnamed: 0</th>\n",
       "      <th>MPI1</th>\n",
       "      <th>MPI3</th>\n",
       "      <th>MPI6</th>\n",
       "      <th>regions</th>\n",
       "    </tr>\n",
       "  </thead>\n",
       "  <tbody>\n",
       "    <tr>\n",
       "      <th>0</th>\n",
       "      <td>0</td>\n",
       "      <td>0.006276</td>\n",
       "      <td>0.008956</td>\n",
       "      <td>0.008896</td>\n",
       "      <td>iCg</td>\n",
       "    </tr>\n",
       "    <tr>\n",
       "      <th>1</th>\n",
       "      <td>1</td>\n",
       "      <td>0.005459</td>\n",
       "      <td>0.005018</td>\n",
       "      <td>0.004851</td>\n",
       "      <td>iAcb</td>\n",
       "    </tr>\n",
       "    <tr>\n",
       "      <th>2</th>\n",
       "      <td>2</td>\n",
       "      <td>0.000790</td>\n",
       "      <td>0.001940</td>\n",
       "      <td>0.003049</td>\n",
       "      <td>iTC</td>\n",
       "    </tr>\n",
       "    <tr>\n",
       "      <th>3</th>\n",
       "      <td>3</td>\n",
       "      <td>0.006451</td>\n",
       "      <td>0.009770</td>\n",
       "      <td>0.009329</td>\n",
       "      <td>iAI</td>\n",
       "    </tr>\n",
       "    <tr>\n",
       "      <th>4</th>\n",
       "      <td>4</td>\n",
       "      <td>0.006004</td>\n",
       "      <td>0.008185</td>\n",
       "      <td>0.008228</td>\n",
       "      <td>iAI-b</td>\n",
       "    </tr>\n",
       "  </tbody>\n",
       "</table>\n",
       "</div>"
      ]
     },
     "execution_count": 7,
     "metadata": {},
     "output_type": "execute_result"
    }
   ],
   "source": [
    "data_sn.head()"
   ]
  },
  {
   "cell_type": "code",
   "execution_count": 8,
   "metadata": {},
   "outputs": [
    {
     "data": {
      "text/html": [
       "<div>\n",
       "<style scoped>\n",
       "    .dataframe tbody tr th:only-of-type {\n",
       "        vertical-align: middle;\n",
       "    }\n",
       "\n",
       "    .dataframe tbody tr th {\n",
       "        vertical-align: top;\n",
       "    }\n",
       "\n",
       "    .dataframe thead th {\n",
       "        text-align: right;\n",
       "    }\n",
       "</style>\n",
       "<table border=\"1\" class=\"dataframe\">\n",
       "  <thead>\n",
       "    <tr style=\"text-align: right;\">\n",
       "      <th></th>\n",
       "      <th>BrainR</th>\n",
       "      <th>ROInames</th>\n",
       "      <th>Side</th>\n",
       "    </tr>\n",
       "  </thead>\n",
       "  <tbody>\n",
       "    <tr>\n",
       "      <th>0</th>\n",
       "      <td>ACA</td>\n",
       "      <td>iCg</td>\n",
       "      <td>ispi</td>\n",
       "    </tr>\n",
       "    <tr>\n",
       "      <th>1</th>\n",
       "      <td>ACB</td>\n",
       "      <td>iAcb</td>\n",
       "      <td>ispi</td>\n",
       "    </tr>\n",
       "    <tr>\n",
       "      <th>2</th>\n",
       "      <td>LHA</td>\n",
       "      <td>iTC</td>\n",
       "      <td>ispi</td>\n",
       "    </tr>\n",
       "    <tr>\n",
       "      <th>3</th>\n",
       "      <td>VMH</td>\n",
       "      <td>iTC</td>\n",
       "      <td>ispi</td>\n",
       "    </tr>\n",
       "    <tr>\n",
       "      <th>4</th>\n",
       "      <td>AHN</td>\n",
       "      <td>iTC</td>\n",
       "      <td>ispi</td>\n",
       "    </tr>\n",
       "  </tbody>\n",
       "</table>\n",
       "</div>"
      ]
     },
     "execution_count": 8,
     "metadata": {},
     "output_type": "execute_result"
    }
   ],
   "source": [
    "reg_names.head()"
   ]
  },
  {
   "cell_type": "markdown",
   "metadata": {},
   "source": [
    "# Matching Predicted Values and BrainRender name - Seed CPu"
   ]
  },
  {
   "cell_type": "code",
   "execution_count": 9,
   "metadata": {},
   "outputs": [],
   "source": [
    "for r in data_cpu.index:\n",
    "    \n",
    "    names = reg_names[reg_names['ROInames'] == data_cpu.loc[r, 'regions']]['BrainR']\n",
    "    \n",
    "    if len(names) > 1:\n",
    "         data_cpu.loc[r, 'br_regions'] = list(names)[0]\n",
    "    elif len(names) == 1:    \n",
    "        data_cpu.loc[r, 'br_regions'] = names.values"
   ]
  },
  {
   "cell_type": "code",
   "execution_count": 10,
   "metadata": {},
   "outputs": [],
   "source": [
    "for r in data_cpu.index:\n",
    "    \n",
    "    if data_cpu.loc[r, 'regions'][0] == 'i':\n",
    "        data_cpu.loc[r, 'hem'] = 'right'\n",
    "    elif data_cpu.loc[r, 'regions'][0] == 'c':\n",
    "        data_cpu.loc[r, 'hem'] = 'left' "
   ]
  },
  {
   "cell_type": "code",
   "execution_count": 11,
   "metadata": {},
   "outputs": [
    {
     "data": {
      "text/html": [
       "<div>\n",
       "<style scoped>\n",
       "    .dataframe tbody tr th:only-of-type {\n",
       "        vertical-align: middle;\n",
       "    }\n",
       "\n",
       "    .dataframe tbody tr th {\n",
       "        vertical-align: top;\n",
       "    }\n",
       "\n",
       "    .dataframe thead th {\n",
       "        text-align: right;\n",
       "    }\n",
       "</style>\n",
       "<table border=\"1\" class=\"dataframe\">\n",
       "  <thead>\n",
       "    <tr style=\"text-align: right;\">\n",
       "      <th></th>\n",
       "      <th>Unnamed: 0</th>\n",
       "      <th>MPI1</th>\n",
       "      <th>MPI3</th>\n",
       "      <th>MPI6</th>\n",
       "      <th>regions</th>\n",
       "      <th>br_regions</th>\n",
       "      <th>hem</th>\n",
       "    </tr>\n",
       "  </thead>\n",
       "  <tbody>\n",
       "    <tr>\n",
       "      <th>0</th>\n",
       "      <td>0</td>\n",
       "      <td>0.285313</td>\n",
       "      <td>0.354758</td>\n",
       "      <td>0.348739</td>\n",
       "      <td>iCg</td>\n",
       "      <td>ACA</td>\n",
       "      <td>right</td>\n",
       "    </tr>\n",
       "    <tr>\n",
       "      <th>1</th>\n",
       "      <td>1</td>\n",
       "      <td>0.012263</td>\n",
       "      <td>0.058409</td>\n",
       "      <td>0.128091</td>\n",
       "      <td>iAcb</td>\n",
       "      <td>ACB</td>\n",
       "      <td>right</td>\n",
       "    </tr>\n",
       "    <tr>\n",
       "      <th>2</th>\n",
       "      <td>2</td>\n",
       "      <td>0.013305</td>\n",
       "      <td>0.053030</td>\n",
       "      <td>0.100022</td>\n",
       "      <td>iTC</td>\n",
       "      <td>LHA</td>\n",
       "      <td>right</td>\n",
       "    </tr>\n",
       "    <tr>\n",
       "      <th>3</th>\n",
       "      <td>3</td>\n",
       "      <td>0.352187</td>\n",
       "      <td>0.395984</td>\n",
       "      <td>0.371742</td>\n",
       "      <td>iAI</td>\n",
       "      <td>AId</td>\n",
       "      <td>right</td>\n",
       "    </tr>\n",
       "    <tr>\n",
       "      <th>4</th>\n",
       "      <td>4</td>\n",
       "      <td>0.250713</td>\n",
       "      <td>0.312540</td>\n",
       "      <td>0.317882</td>\n",
       "      <td>iAI-b</td>\n",
       "      <td>GU</td>\n",
       "      <td>right</td>\n",
       "    </tr>\n",
       "  </tbody>\n",
       "</table>\n",
       "</div>"
      ]
     },
     "execution_count": 11,
     "metadata": {},
     "output_type": "execute_result"
    }
   ],
   "source": [
    "data_cpu.head()"
   ]
  },
  {
   "cell_type": "markdown",
   "metadata": {},
   "source": [
    "# Matching Predicted Values and BrainRender name - Seed SN"
   ]
  },
  {
   "cell_type": "code",
   "execution_count": 12,
   "metadata": {},
   "outputs": [],
   "source": [
    "for r in data_sn.index:\n",
    "    \n",
    "    names = reg_names[reg_names['ROInames'] == data_sn.loc[r, 'regions']]['BrainR']\n",
    "    \n",
    "    if len(names) > 1:\n",
    "         data_sn.loc[r, 'br_regions'] = list(names)[0]\n",
    "    elif len(names) == 1:    \n",
    "        data_sn.loc[r, 'br_regions'] = names.values   "
   ]
  },
  {
   "cell_type": "code",
   "execution_count": 13,
   "metadata": {},
   "outputs": [],
   "source": [
    "for r in data_sn.index:\n",
    "    \n",
    "    if data_sn.loc[r, 'regions'][0] == 'i':\n",
    "        data_sn.loc[r, 'hem'] = 'right'\n",
    "    elif data_sn.loc[r, 'regions'][0] == 'c':\n",
    "        data_sn.loc[r, 'hem'] = 'left'"
   ]
  },
  {
   "cell_type": "code",
   "execution_count": 14,
   "metadata": {},
   "outputs": [
    {
     "data": {
      "text/html": [
       "<div>\n",
       "<style scoped>\n",
       "    .dataframe tbody tr th:only-of-type {\n",
       "        vertical-align: middle;\n",
       "    }\n",
       "\n",
       "    .dataframe tbody tr th {\n",
       "        vertical-align: top;\n",
       "    }\n",
       "\n",
       "    .dataframe thead th {\n",
       "        text-align: right;\n",
       "    }\n",
       "</style>\n",
       "<table border=\"1\" class=\"dataframe\">\n",
       "  <thead>\n",
       "    <tr style=\"text-align: right;\">\n",
       "      <th></th>\n",
       "      <th>Unnamed: 0</th>\n",
       "      <th>MPI1</th>\n",
       "      <th>MPI3</th>\n",
       "      <th>MPI6</th>\n",
       "      <th>regions</th>\n",
       "      <th>br_regions</th>\n",
       "      <th>hem</th>\n",
       "    </tr>\n",
       "  </thead>\n",
       "  <tbody>\n",
       "    <tr>\n",
       "      <th>0</th>\n",
       "      <td>0</td>\n",
       "      <td>0.006276</td>\n",
       "      <td>0.008956</td>\n",
       "      <td>0.008896</td>\n",
       "      <td>iCg</td>\n",
       "      <td>ACA</td>\n",
       "      <td>right</td>\n",
       "    </tr>\n",
       "    <tr>\n",
       "      <th>1</th>\n",
       "      <td>1</td>\n",
       "      <td>0.005459</td>\n",
       "      <td>0.005018</td>\n",
       "      <td>0.004851</td>\n",
       "      <td>iAcb</td>\n",
       "      <td>ACB</td>\n",
       "      <td>right</td>\n",
       "    </tr>\n",
       "    <tr>\n",
       "      <th>2</th>\n",
       "      <td>2</td>\n",
       "      <td>0.000790</td>\n",
       "      <td>0.001940</td>\n",
       "      <td>0.003049</td>\n",
       "      <td>iTC</td>\n",
       "      <td>LHA</td>\n",
       "      <td>right</td>\n",
       "    </tr>\n",
       "    <tr>\n",
       "      <th>3</th>\n",
       "      <td>3</td>\n",
       "      <td>0.006451</td>\n",
       "      <td>0.009770</td>\n",
       "      <td>0.009329</td>\n",
       "      <td>iAI</td>\n",
       "      <td>AId</td>\n",
       "      <td>right</td>\n",
       "    </tr>\n",
       "    <tr>\n",
       "      <th>4</th>\n",
       "      <td>4</td>\n",
       "      <td>0.006004</td>\n",
       "      <td>0.008185</td>\n",
       "      <td>0.008228</td>\n",
       "      <td>iAI-b</td>\n",
       "      <td>GU</td>\n",
       "      <td>right</td>\n",
       "    </tr>\n",
       "  </tbody>\n",
       "</table>\n",
       "</div>"
      ]
     },
     "execution_count": 14,
     "metadata": {},
     "output_type": "execute_result"
    }
   ],
   "source": [
    "data_sn.head()"
   ]
  },
  {
   "cell_type": "code",
   "execution_count": null,
   "metadata": {},
   "outputs": [],
   "source": [
    "# Normalization using MPI6 - Seed CPu\n",
    "data_cpu['MPI6'] = (data_cpu['MPI6'] - np.min(data_cpu['MPI6'])) / (np.max(data_cpu['MPI6']) - np.min(data_cpu['MPI6']))\n",
    "data_cpu['MPI3'] = (data_cpu['MPI3'] - np.min(data_cpu['MPI6'])) / (np.max(data_cpu['MPI6']) - np.min(data_cpu['MPI6']))\n",
    "data_cpu['MPI1'] = (data_cpu['MPI1'] - np.min(data_cpu['MPI6'])) / (np.max(data_cpu['MPI6']) - np.min(data_cpu['MPI6']))"
   ]
  },
  {
   "cell_type": "code",
   "execution_count": null,
   "metadata": {},
   "outputs": [],
   "source": [
    "# Normalization using MPI6 - Seed SN\n",
    "data_sn['MPI6'] = (data_sn['MPI6'] - np.min(data_sn['MPI6'])) / (np.max(data_sn['MPI6']) - np.min(data_sn['MPI6']))\n",
    "data_sn['MPI3'] = (data_sn['MPI3'] - np.min(data_sn['MPI6'])) / (np.max(data_sn['MPI6']) - np.min(data_sn['MPI6']))\n",
    "data_sn['MPI1'] = (data_sn['MPI1'] - np.min(data_sn['MPI6'])) / (np.max(data_sn['MPI6']) - np.min(data_sn['MPI6']))"
   ]
  },
  {
   "cell_type": "code",
   "execution_count": null,
   "metadata": {},
   "outputs": [],
   "source": [
    "data_cpu = data_cpu.dropna()\n",
    "data_sn = data_sn.dropna()"
   ]
  },
  {
   "cell_type": "markdown",
   "metadata": {},
   "source": [
    "# Brain Render - Videos"
   ]
  },
  {
   "cell_type": "code",
   "execution_count": 15,
   "metadata": {},
   "outputs": [],
   "source": [
    "cmap = plt.get_cmap('YlOrRd')"
   ]
  },
  {
   "cell_type": "code",
   "execution_count": 19,
   "metadata": {},
   "outputs": [
    {
     "data": {
      "text/html": [
       "<pre style=\"white-space:pre;overflow-x:auto;line-height:normal;font-family:Menlo,'DejaVu Sans Mono',consolas,'Courier New',monospace\"><span style=\"color: #008000\">b'C:\\\\Users\\\\thoma\\\\Documents\\\\M1_Neurasmus\\\\NeuroBIM_M1\\\\Internship\\\\GitRepo\\\\PathoSpreading'</span>\n",
       "</pre>\n"
      ]
     },
     "metadata": {},
     "output_type": "display_data"
    }
   ],
   "source": [
    "os.getcwdb()"
   ]
  },
  {
   "cell_type": "code",
   "execution_count": 23,
   "metadata": {},
   "outputs": [],
   "source": [
    "# VIDEOS\n",
    "# from brainrender import Scene\n",
    "# from brainrender.video import VideoMaker\n",
    "# from brainrender import Scene, Animation\n",
    "\n",
    "\n",
    "# # Create a scene\n",
    "# scene = Scene(title=\"MPI6_Seed_CPu\", atlas_name='allen_mouse_25um', inset=False, screenshots_folder=None)\n",
    "# for r in data_cpu.index:\n",
    "    \n",
    "#     region_to_plot = data_cpu.loc[r, \"br_regions\"]\n",
    "#     color = cmap(data_cpu.loc[r, 'MPI6'])[:3]\n",
    "#     alpha =  cmap(data_cpu.loc[r, 'MPI6'])[:3]\n",
    "    \n",
    "#     #scene.add_brain_region(region_to_plot, color=color, alpha=data_cpu.loc[r, 'MPI6']) \n",
    "#     scene.add_brain_region(region_to_plot, color=color, alpha=data_cpu.loc[r, 'MPI6'], hemisphere=data_cpu.loc[r, 'hem'], silhouette=None) \n",
    "\n",
    "    \n",
    "# # Make a custom make frame function\n",
    "# def make_frame(scene, frame_number, *args, **kwargs):\n",
    "#     alpha = scene.root.alpha()\n",
    "#     if alpha < 0.5:\n",
    "#         scene.root.alpha(1)\n",
    "#     else:\n",
    "#         scene.root.alpha(0.2)\n",
    "\n",
    "# # Create an instance of video maker\n",
    "# vm = VideoMaker(scene=scene,save_fld=\"../videos\",\n",
    "#         name=\"vid1\",\n",
    "#         fmt=\"mp4\",make_frame_func=make_frame)\n",
    "# # make a video with the custom make frame function\n",
    "# # this just rotates the scene\n",
    "# vm.make_video(elevation=2, duration=2, fps=25)"
   ]
  },
  {
   "cell_type": "code",
   "execution_count": 40,
   "metadata": {},
   "outputs": [],
   "source": [
    "# from brainrender import Scene, Animation    #####NOT WORKING YET\n",
    "# # Create a brainrender scene\n",
    "# scene = Scene(title=\"brain regions\", inset=False)\n",
    "\n",
    "# # Add brain regions\n",
    "# scene.add_brain_region(\"TH\")\n",
    "\n",
    "# anim = Animation(scene, \"../videos\", \"vid3\")\n",
    "\n",
    "# # Specify camera position and zoom at some key frames\n",
    "# # each key frame defines the scene's state after n seconds have passed\n",
    "# anim.add_keyframe(0, camera=\"top\", zoom=1.3)\n",
    "\n",
    "# # Make videos\n",
    "# anim.make_video(duration=3, fps=10)"
   ]
  },
  {
   "cell_type": "markdown",
   "metadata": {},
   "source": [
    "# Brain Render -Scenes"
   ]
  },
  {
   "cell_type": "code",
   "execution_count": 41,
   "metadata": {},
   "outputs": [],
   "source": [
    "from brainrender import Scene\n",
    "from tqdm import tqdm\n",
    "\n",
    "# Create a brainrender scene\n",
    "scene = Scene(title=\"MPI6 Slices CPu\", inset=False,screenshots_folder=\"../videos\")\n",
    "scene_2 = Scene(title=\"MPI6 Slices SNc\", inset=False, screenshots_folder=None)\n",
    "\n",
    "brainrender.settings.SHOW_AXES = False\n",
    "\n",
    "\n",
    "# Add brain regions Scene 1\n",
    "for r in data_cpu.index:\n",
    "    \n",
    "    region_to_plot = data_cpu.loc[r, \"br_regions\"]\n",
    "    color = cmap(data_cpu.loc[r, 'MPI6'])[:3]\n",
    "    alpha =  cmap(data_cpu.loc[r, 'MPI6'])[:3]\n",
    "    \n",
    "    #scene.add_brain_region(region_to_plot, color=color, alpha=data_cpu.loc[r, 'MPI6']) \n",
    "    scene.add_brain_region(region_to_plot, color=color, alpha=data_cpu.loc[r, 'MPI6'], hemisphere=data_cpu.loc[r, 'hem'], silhouette=False) \n",
    "    \n",
    "# Add brain regions Scene 2\n",
    "for r in data_cpu.index:\n",
    "    \n",
    "    region_to_plot = data_cpu.loc[r, \"br_regions\"]\n",
    "    color = cmap(data_cpu.loc[r, 'MPI6'])[:3]\n",
    "    alpha =  cmap(data_cpu.loc[r, 'MPI6'])[:3]\n",
    "    \n",
    "    #scene.add_brain_region(region_to_plot, color=color, alpha=data_cpu.loc[r, 'MPI6']) \n",
    "    scene_2.add_brain_region(region_to_plot, color=color, alpha=data_cpu.loc[r, 'MPI6'], hemisphere=data_cpu.loc[r, 'hem'], silhouette=None) \n",
    "    \n",
    "    \n",
    "\n",
    "#Getting the Region for the section\n",
    "# Slice actors with frontal plane\n",
    "#scene.slice(\"frontal\", cp) #param plane: \"sagittal\", \"horizontal\", or \"frontal\"\n",
    "\n",
    "cp = scene.atlas.get_region('CP')\n",
    "sn = scene.atlas.get_region('SNc')\n",
    "\n",
    "# # Slice with a custom plane\n",
    "plane = scene.atlas.get_plane(pos=cp.centerOfMass(), plane=\"frontal\", alpha=0.5)\n",
    "# plane_2 = scene.atlas.get_plane(pos=sn.centerOfMass(), norm=(1, 1, 0))\n",
    "scene.slice(plane)\n",
    "# scene_2.slice(plane_2)\n",
    "\n",
    "# Render!\n",
    "# custom_camera = {\n",
    "#    'pos': (-27575, 11036, -4986),\n",
    "#      'viewup': (0, -1, 0),\n",
    "#      'clippingRange': (28357, 49545),\n",
    "#     'focalPoint': (9424, 3849, -5688)\n",
    "#     }\n",
    "\n",
    "brainrender.settings.SHADER_STYLE = \"plastic\" #[metallic, plastic, shiny, glossy]\n",
    "brainrender.settings.ROOT_ALPHA = 0.3 \n",
    "brainrender.settings.ROOT_COLOR  = [0.8, 0.8, 0.8]\n",
    "brainrender.settings.OFFSCREEN = True\n",
    "\n",
    "scene.render(atlas_name='allen_mouse_25um', zoom=1.5, silhouette=None)\n",
    "\n",
    "# for i in tqdm(range(0,10)):\n",
    "#     custom_camera = {\n",
    "#    'pos': (-27575, 11036, -4986),\n",
    "#      'viewup': (0, 0, 0),\n",
    "#      'clippingRange': (28357, 49545),\n",
    "#     'focalPoint': (9424, 3849, -5688)\n",
    "#     }\n",
    "#     scene.render(atlas_name='allen_mouse_25um',camera=custom_camera, zoom=1.5, silhouette=None)\n",
    "#     scene.screenshot(name=\"test x_{}\".format(i), scale = 2) #Screenshot, scale=2 corresponds to high resolution\n",
    "    \n",
    "#     frontal_camera = {\n",
    "#         \"pos\": (-19199, -1428, -5763),\n",
    "#         \"viewup\": (0, -1, 0),\n",
    "#         \"clippingRange\": (19531, 40903),\n",
    "#     }\n",
    "#     scene.render(atlas_name='allen_mouse_25um',camera=frontal_camera, zoom=1.5, silhouette=None)\n",
    "#     scene.screenshot(name=\"test y_{}\".format(i), scale = 2) #Screenshot, scale=2 corresponds to high resolution\n",
    "    \n",
    "#scene.render(atlas_name='allen_mouse_25um', zoom=1.5, silhouette=None)\n",
    "#scene.render()\n",
    "#scene_2.render()\n"
   ]
  },
  {
   "cell_type": "code",
   "execution_count": null,
   "metadata": {},
   "outputs": [],
   "source": [
    "# Different Shadering\n",
    "for shader in (\"plastic\", \"cartoon\"):\n",
    "    brainrender.settings.SHADER_STYLE = shader\n",
    "    scene = Scene(title=shader)\n",
    "    scene.render()"
   ]
  },
  {
   "cell_type": "markdown",
   "metadata": {},
   "source": [
    " # Brainrender - Sections & Screenshot"
   ]
  },
  {
   "cell_type": "code",
   "execution_count": null,
   "metadata": {},
   "outputs": [],
   "source": [
    "# Cameras\n",
    "sagittal_camera = {\n",
    "    \"pos\": (6514, -34, 36854),\n",
    "    \"viewup\": (0, -1, 0),\n",
    "    \"clippingRange\": (24098, 49971),\n",
    "}\n",
    "\n",
    "sagittal_camera2 = {\n",
    "    \"pos\": (9782, 1795, -40999),\n",
    "    \"viewup\": (0, -1, 0),\n",
    "    \"clippingRange\": (23256, 51031),\n",
    "}\n",
    "\n",
    "\n",
    "frontal_camera = {\n",
    "    \"pos\": (-19199, -1428, -5763),\n",
    "    \"viewup\": (0, -1, 0),\n",
    "    \"clippingRange\": (19531, 40903),\n",
    "}\n",
    "\n",
    "top_camera = {\n",
    "    \"pos\": (7760, -31645, -5943),\n",
    "    \"viewup\": (-1, 0, 0),\n",
    "    \"clippingRange\": (27262, 45988),\n",
    "}\n",
    "\n",
    "top_side_camera = {\n",
    "    \"pos\": (4405, -31597, -5411),\n",
    "    \"viewup\": (0, 0, -1),\n",
    "    \"clippingRange\": (26892, 46454),\n",
    "}\n",
    "\n",
    "three_quarters_camera = {\n",
    "    \"pos\": (-20169, -7298, 14832),\n",
    "    \"viewup\": (0, -1, 0),\n",
    "    \"clippingRange\": (16955, 58963),\n",
    "}\n",
    "\n",
    "cameras = dict(\n",
    "    sagittal=sagittal_camera,\n",
    "    sagittal2=sagittal_camera2,\n",
    "    frontal=frontal_camera,\n",
    "    top=top_camera,\n",
    "    top_side=top_side_camera,\n",
    "    three_quarters=three_quarters_camera,\n",
    ")\n",
    "\n"
   ]
  },
  {
   "cell_type": "code",
   "execution_count": null,
   "metadata": {},
   "outputs": [
    {
     "data": {
      "text/html": [
       "<pre style=\"white-space:pre;overflow-x:auto;line-height:normal;font-family:Menlo,'DejaVu Sans Mono',consolas,'Courier New',monospace\">\n",
       "Saving new screenshot at Slice.png\n",
       "\n",
       "</pre>\n"
      ]
     },
     "metadata": {},
     "output_type": "display_data"
    }
   ],
   "source": [
    "# Screenshot of sections\n",
    "from brainrender import Scene\n",
    "from tqdm import tqdm\n",
    "\n",
    "\n",
    "# Create a brainrender scene\n",
    "scene = Scene(title=\"\", inset=False,screenshots_folder=\"../videos\")\n",
    "frontal_camera = {\n",
    "     'pos': (-19781, 3777, -5832),\n",
    "     'viewup': (0, -1, 0),\n",
    "     'clippingRange': (24465, 26836),\n",
    "    'focalPoint': (5705, 3991, -5691),\n",
    "     'distance': 25487}\n",
    "\n",
    "# Add brain regions\n",
    "for r in data_cpu.index:\n",
    "    \n",
    "    region_to_plot = data_cpu.loc[r, \"br_regions\"]\n",
    "    color = cmap(data_cpu.loc[r, 'MPI6'])[:3]\n",
    "    alpha =  cmap(data_cpu.loc[r, 'MPI6'])[:3]\n",
    "    scene.add_brain_region(region_to_plot, color=color, alpha=1, hemisphere=data_cpu.loc[r, 'hem'], silhouette=True)\n",
    "\n",
    "    \n",
    "\n",
    "\n",
    "cp = scene.atlas.get_region(\"CP\")\n",
    "\n",
    "# # Slice with a custom plane\n",
    "plane = scene.atlas.get_plane(pos=cp.centerOfMass()-100, plane=\"frontal\", alpha=1, norm=(1, 0, 0), color=\"white\")\n",
    "plane_2 = scene.atlas.get_plane(pos=cp.centerOfMass()+100, plane=\"frontal\", alpha=1, norm=(-1, 0, 0), color=\"white\")\n",
    "# # plane_2 = scene.atlas.get_plane(pos=sn.centerOfMass(), norm=(1, 1, 0))\n",
    "scene.slice(plane, close_actors=True)\n",
    "scene.slice(plane_2)\n",
    "scene.screenshot(name=\"Slice\", scale = 2)\n",
    "\n",
    "#scene.slice(plane_2)\n",
    "\n",
    "# Render!\n",
    "\n",
    "brainrender.settings.SHADER_STYLE = \"cartoon\" #[metallic, plastic, shiny, glossy]\n",
    "brainrender.settings.ROOT_ALPHA = 0\n",
    "brainrender.settings.ROOT_COLOR  = [1, 1, 1]\n",
    "brainrender.settings.OFFSCREEN = False\n",
    "brainrender.settings.SHOW_AXES = True\n",
    "brainrender.settings.BACKGROUND_COLOR = \"White\"\n",
    "scene.render(atlas_name='allen_mouse_25um', camera=frontal_camera, zoom=1)\n",
    "\n",
    "#scene.render(atlas_name='allen_mouse_25um', zoom=1.5, silhouette=None)\n",
    "#scene.render()\n",
    "#scene_2.render()\n"
   ]
  },
  {
   "cell_type": "code",
   "execution_count": null,
   "metadata": {},
   "outputs": [],
   "source": []
  },
  {
   "cell_type": "code",
   "execution_count": null,
   "metadata": {},
   "outputs": [],
   "source": []
  }
 ],
 "metadata": {
  "kernelspec": {
   "display_name": "brainrender",
   "language": "python",
   "name": "brainrender"
  },
  "language_info": {
   "codemirror_mode": {
    "name": "ipython",
    "version": 3
   },
   "file_extension": ".py",
   "mimetype": "text/x-python",
   "name": "python",
   "nbconvert_exporter": "python",
   "pygments_lexer": "ipython3",
   "version": "3.8.5"
  }
 },
 "nbformat": 4,
 "nbformat_minor": 4
}
