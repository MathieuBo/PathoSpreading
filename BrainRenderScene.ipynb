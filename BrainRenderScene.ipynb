{
 "cells": [
  {
   "cell_type": "code",
   "execution_count": 7,
   "metadata": {},
   "outputs": [
    {
     "data": {
      "text/html": [
       "<pre style=\"white-space:pre;overflow-x:auto;line-height:normal;font-family:Menlo,'DejaVu Sans Mono',consolas,'Courier New',monospace\"><span style=\"color: #008000\">'C:\\\\Users\\\\thoma\\\\Documents\\\\M1_Neurasmus\\\\NeuroBIM_M1\\\\Internship\\\\GitRepo\\\\PathoSpreading'</span>\n",
       "</pre>\n"
      ]
     },
     "metadata": {},
     "output_type": "display_data"
    }
   ],
   "source": [
    "from vedo import embedWindow\n",
    "embedWindow(None)\n",
    "\n",
    "from brainrender import Scene\n",
    "import brainrender\n",
    "import os\n",
    "import pandas as pd\n",
    "import matplotlib.pyplot as plt\n",
    "import numpy as np\n",
    "os.getcwd()"
   ]
  },
  {
   "cell_type": "code",
   "execution_count": 4,
   "metadata": {},
   "outputs": [],
   "source": [
    "data_cpu = pd.read_csv('../output/predicted_pathology.csv')\n",
    "data_sn = pd.read_csv('../output/predicted_pathology_seedSN.csv')"
   ]
  },
  {
   "cell_type": "code",
   "execution_count": 5,
   "metadata": {},
   "outputs": [],
   "source": [
    "reg_names = pd.read_excel('./Data83018/BrainR_ROInames.xlsx')"
   ]
  },
  {
   "cell_type": "code",
   "execution_count": 6,
   "metadata": {},
   "outputs": [
    {
     "data": {
      "text/html": [
       "<div>\n",
       "<style scoped>\n",
       "    .dataframe tbody tr th:only-of-type {\n",
       "        vertical-align: middle;\n",
       "    }\n",
       "\n",
       "    .dataframe tbody tr th {\n",
       "        vertical-align: top;\n",
       "    }\n",
       "\n",
       "    .dataframe thead th {\n",
       "        text-align: right;\n",
       "    }\n",
       "</style>\n",
       "<table border=\"1\" class=\"dataframe\">\n",
       "  <thead>\n",
       "    <tr style=\"text-align: right;\">\n",
       "      <th></th>\n",
       "      <th>Unnamed: 0</th>\n",
       "      <th>MPI1</th>\n",
       "      <th>MPI3</th>\n",
       "      <th>MPI6</th>\n",
       "      <th>regions</th>\n",
       "    </tr>\n",
       "  </thead>\n",
       "  <tbody>\n",
       "    <tr>\n",
       "      <th>0</th>\n",
       "      <td>0</td>\n",
       "      <td>0.285313</td>\n",
       "      <td>0.354758</td>\n",
       "      <td>0.348739</td>\n",
       "      <td>iCg</td>\n",
       "    </tr>\n",
       "    <tr>\n",
       "      <th>1</th>\n",
       "      <td>1</td>\n",
       "      <td>0.012263</td>\n",
       "      <td>0.058409</td>\n",
       "      <td>0.128091</td>\n",
       "      <td>iAcb</td>\n",
       "    </tr>\n",
       "    <tr>\n",
       "      <th>2</th>\n",
       "      <td>2</td>\n",
       "      <td>0.013305</td>\n",
       "      <td>0.053030</td>\n",
       "      <td>0.100022</td>\n",
       "      <td>iTC</td>\n",
       "    </tr>\n",
       "    <tr>\n",
       "      <th>3</th>\n",
       "      <td>3</td>\n",
       "      <td>0.352187</td>\n",
       "      <td>0.395984</td>\n",
       "      <td>0.371742</td>\n",
       "      <td>iAI</td>\n",
       "    </tr>\n",
       "    <tr>\n",
       "      <th>4</th>\n",
       "      <td>4</td>\n",
       "      <td>0.250713</td>\n",
       "      <td>0.312540</td>\n",
       "      <td>0.317882</td>\n",
       "      <td>iAI-b</td>\n",
       "    </tr>\n",
       "  </tbody>\n",
       "</table>\n",
       "</div>"
      ]
     },
     "execution_count": 6,
     "metadata": {},
     "output_type": "execute_result"
    }
   ],
   "source": [
    "data_cpu.head()"
   ]
  },
  {
   "cell_type": "code",
   "execution_count": 259,
   "metadata": {},
   "outputs": [
    {
     "data": {
      "text/html": [
       "<div>\n",
       "<style scoped>\n",
       "    .dataframe tbody tr th:only-of-type {\n",
       "        vertical-align: middle;\n",
       "    }\n",
       "\n",
       "    .dataframe tbody tr th {\n",
       "        vertical-align: top;\n",
       "    }\n",
       "\n",
       "    .dataframe thead th {\n",
       "        text-align: right;\n",
       "    }\n",
       "</style>\n",
       "<table border=\"1\" class=\"dataframe\">\n",
       "  <thead>\n",
       "    <tr style=\"text-align: right;\">\n",
       "      <th></th>\n",
       "      <th>Unnamed: 0</th>\n",
       "      <th>MPI1</th>\n",
       "      <th>MPI3</th>\n",
       "      <th>MPI6</th>\n",
       "      <th>regions</th>\n",
       "    </tr>\n",
       "  </thead>\n",
       "  <tbody>\n",
       "    <tr>\n",
       "      <th>0</th>\n",
       "      <td>0</td>\n",
       "      <td>0.008845</td>\n",
       "      <td>0.008603</td>\n",
       "      <td>0.007665</td>\n",
       "      <td>iCg</td>\n",
       "    </tr>\n",
       "    <tr>\n",
       "      <th>1</th>\n",
       "      <td>1</td>\n",
       "      <td>0.005131</td>\n",
       "      <td>0.005171</td>\n",
       "      <td>0.006329</td>\n",
       "      <td>iAcb</td>\n",
       "    </tr>\n",
       "    <tr>\n",
       "      <th>2</th>\n",
       "      <td>2</td>\n",
       "      <td>0.001784</td>\n",
       "      <td>0.003589</td>\n",
       "      <td>0.004973</td>\n",
       "      <td>iTC</td>\n",
       "    </tr>\n",
       "    <tr>\n",
       "      <th>3</th>\n",
       "      <td>3</td>\n",
       "      <td>0.009712</td>\n",
       "      <td>0.008937</td>\n",
       "      <td>0.007834</td>\n",
       "      <td>iAI</td>\n",
       "    </tr>\n",
       "    <tr>\n",
       "      <th>4</th>\n",
       "      <td>4</td>\n",
       "      <td>0.008095</td>\n",
       "      <td>0.008077</td>\n",
       "      <td>0.007498</td>\n",
       "      <td>iAI-b</td>\n",
       "    </tr>\n",
       "  </tbody>\n",
       "</table>\n",
       "</div>"
      ]
     },
     "execution_count": 259,
     "metadata": {},
     "output_type": "execute_result"
    }
   ],
   "source": [
    "data_sn.head()"
   ]
  },
  {
   "cell_type": "code",
   "execution_count": 260,
   "metadata": {},
   "outputs": [
    {
     "data": {
      "text/html": [
       "<div>\n",
       "<style scoped>\n",
       "    .dataframe tbody tr th:only-of-type {\n",
       "        vertical-align: middle;\n",
       "    }\n",
       "\n",
       "    .dataframe tbody tr th {\n",
       "        vertical-align: top;\n",
       "    }\n",
       "\n",
       "    .dataframe thead th {\n",
       "        text-align: right;\n",
       "    }\n",
       "</style>\n",
       "<table border=\"1\" class=\"dataframe\">\n",
       "  <thead>\n",
       "    <tr style=\"text-align: right;\">\n",
       "      <th></th>\n",
       "      <th>BrainR</th>\n",
       "      <th>ROInames</th>\n",
       "      <th>Side</th>\n",
       "    </tr>\n",
       "  </thead>\n",
       "  <tbody>\n",
       "    <tr>\n",
       "      <th>0</th>\n",
       "      <td>ACA</td>\n",
       "      <td>iCg</td>\n",
       "      <td>ispi</td>\n",
       "    </tr>\n",
       "    <tr>\n",
       "      <th>1</th>\n",
       "      <td>ACB</td>\n",
       "      <td>iAcb</td>\n",
       "      <td>ispi</td>\n",
       "    </tr>\n",
       "    <tr>\n",
       "      <th>2</th>\n",
       "      <td>LHA</td>\n",
       "      <td>iTC</td>\n",
       "      <td>ispi</td>\n",
       "    </tr>\n",
       "    <tr>\n",
       "      <th>3</th>\n",
       "      <td>VMH</td>\n",
       "      <td>iTC</td>\n",
       "      <td>ispi</td>\n",
       "    </tr>\n",
       "    <tr>\n",
       "      <th>4</th>\n",
       "      <td>AHN</td>\n",
       "      <td>iTC</td>\n",
       "      <td>ispi</td>\n",
       "    </tr>\n",
       "  </tbody>\n",
       "</table>\n",
       "</div>"
      ]
     },
     "execution_count": 260,
     "metadata": {},
     "output_type": "execute_result"
    }
   ],
   "source": [
    "reg_names.head()"
   ]
  },
  {
   "cell_type": "markdown",
   "metadata": {},
   "source": [
    "# Matching Predicted Values and BrainRender name - Seed CPu"
   ]
  },
  {
   "cell_type": "code",
   "execution_count": 261,
   "metadata": {},
   "outputs": [],
   "source": [
    "for r in data_cpu.index:\n",
    "    \n",
    "    names = reg_names[reg_names['ROInames'] == data_cpu.loc[r, 'regions']]['BrainR']\n",
    "    \n",
    "    if len(names) > 1:\n",
    "         data_cpu.loc[r, 'br_regions'] = list(names)[0]\n",
    "    elif len(names) == 1:    \n",
    "        data_cpu.loc[r, 'br_regions'] = names.values"
   ]
  },
  {
   "cell_type": "code",
   "execution_count": 262,
   "metadata": {},
   "outputs": [],
   "source": [
    "for r in data_cpu.index:\n",
    "    \n",
    "    if data_cpu.loc[r, 'regions'][0] == 'i':\n",
    "        data_cpu.loc[r, 'hem'] = 'right'\n",
    "    elif data_cpu.loc[r, 'regions'][0] == 'c':\n",
    "        data_cpu.loc[r, 'hem'] = 'left' "
   ]
  },
  {
   "cell_type": "code",
   "execution_count": 263,
   "metadata": {},
   "outputs": [
    {
     "data": {
      "text/html": [
       "<div>\n",
       "<style scoped>\n",
       "    .dataframe tbody tr th:only-of-type {\n",
       "        vertical-align: middle;\n",
       "    }\n",
       "\n",
       "    .dataframe tbody tr th {\n",
       "        vertical-align: top;\n",
       "    }\n",
       "\n",
       "    .dataframe thead th {\n",
       "        text-align: right;\n",
       "    }\n",
       "</style>\n",
       "<table border=\"1\" class=\"dataframe\">\n",
       "  <thead>\n",
       "    <tr style=\"text-align: right;\">\n",
       "      <th></th>\n",
       "      <th>Unnamed: 0</th>\n",
       "      <th>MPI1</th>\n",
       "      <th>MPI3</th>\n",
       "      <th>MPI6</th>\n",
       "      <th>regions</th>\n",
       "      <th>br_regions</th>\n",
       "      <th>hem</th>\n",
       "    </tr>\n",
       "  </thead>\n",
       "  <tbody>\n",
       "    <tr>\n",
       "      <th>0</th>\n",
       "      <td>0</td>\n",
       "      <td>0.285313</td>\n",
       "      <td>0.354758</td>\n",
       "      <td>0.348739</td>\n",
       "      <td>iCg</td>\n",
       "      <td>ACA</td>\n",
       "      <td>right</td>\n",
       "    </tr>\n",
       "    <tr>\n",
       "      <th>1</th>\n",
       "      <td>1</td>\n",
       "      <td>0.012263</td>\n",
       "      <td>0.058409</td>\n",
       "      <td>0.128091</td>\n",
       "      <td>iAcb</td>\n",
       "      <td>ACB</td>\n",
       "      <td>right</td>\n",
       "    </tr>\n",
       "    <tr>\n",
       "      <th>2</th>\n",
       "      <td>2</td>\n",
       "      <td>0.013305</td>\n",
       "      <td>0.053030</td>\n",
       "      <td>0.100022</td>\n",
       "      <td>iTC</td>\n",
       "      <td>LHA</td>\n",
       "      <td>right</td>\n",
       "    </tr>\n",
       "    <tr>\n",
       "      <th>3</th>\n",
       "      <td>3</td>\n",
       "      <td>0.352187</td>\n",
       "      <td>0.395984</td>\n",
       "      <td>0.371742</td>\n",
       "      <td>iAI</td>\n",
       "      <td>AId</td>\n",
       "      <td>right</td>\n",
       "    </tr>\n",
       "    <tr>\n",
       "      <th>4</th>\n",
       "      <td>4</td>\n",
       "      <td>0.250713</td>\n",
       "      <td>0.312540</td>\n",
       "      <td>0.317882</td>\n",
       "      <td>iAI-b</td>\n",
       "      <td>GU</td>\n",
       "      <td>right</td>\n",
       "    </tr>\n",
       "  </tbody>\n",
       "</table>\n",
       "</div>"
      ]
     },
     "execution_count": 263,
     "metadata": {},
     "output_type": "execute_result"
    }
   ],
   "source": [
    "data_cpu.head()"
   ]
  },
  {
   "cell_type": "markdown",
   "metadata": {},
   "source": [
    "# Matching Predicted Values and BrainRender name - Seed SN"
   ]
  },
  {
   "cell_type": "code",
   "execution_count": 264,
   "metadata": {},
   "outputs": [],
   "source": [
    "for r in data_sn.index:\n",
    "    \n",
    "    names = reg_names[reg_names['ROInames'] == data_sn.loc[r, 'regions']]['BrainR']\n",
    "    \n",
    "    if len(names) > 1:\n",
    "         data_sn.loc[r, 'br_regions'] = list(names)[0]\n",
    "    elif len(names) == 1:    \n",
    "        data_sn.loc[r, 'br_regions'] = names.values   "
   ]
  },
  {
   "cell_type": "code",
   "execution_count": 265,
   "metadata": {},
   "outputs": [],
   "source": [
    "for r in data_sn.index:\n",
    "    \n",
    "    if data_sn.loc[r, 'regions'][0] == 'i':\n",
    "        data_sn.loc[r, 'hem'] = 'right'\n",
    "    elif data_sn.loc[r, 'regions'][0] == 'c':\n",
    "        data_sn.loc[r, 'hem'] = 'left'"
   ]
  },
  {
   "cell_type": "code",
   "execution_count": 266,
   "metadata": {},
   "outputs": [
    {
     "data": {
      "text/html": [
       "<div>\n",
       "<style scoped>\n",
       "    .dataframe tbody tr th:only-of-type {\n",
       "        vertical-align: middle;\n",
       "    }\n",
       "\n",
       "    .dataframe tbody tr th {\n",
       "        vertical-align: top;\n",
       "    }\n",
       "\n",
       "    .dataframe thead th {\n",
       "        text-align: right;\n",
       "    }\n",
       "</style>\n",
       "<table border=\"1\" class=\"dataframe\">\n",
       "  <thead>\n",
       "    <tr style=\"text-align: right;\">\n",
       "      <th></th>\n",
       "      <th>Unnamed: 0</th>\n",
       "      <th>MPI1</th>\n",
       "      <th>MPI3</th>\n",
       "      <th>MPI6</th>\n",
       "      <th>regions</th>\n",
       "      <th>br_regions</th>\n",
       "      <th>hem</th>\n",
       "    </tr>\n",
       "  </thead>\n",
       "  <tbody>\n",
       "    <tr>\n",
       "      <th>0</th>\n",
       "      <td>0</td>\n",
       "      <td>0.008845</td>\n",
       "      <td>0.008603</td>\n",
       "      <td>0.007665</td>\n",
       "      <td>iCg</td>\n",
       "      <td>ACA</td>\n",
       "      <td>right</td>\n",
       "    </tr>\n",
       "    <tr>\n",
       "      <th>1</th>\n",
       "      <td>1</td>\n",
       "      <td>0.005131</td>\n",
       "      <td>0.005171</td>\n",
       "      <td>0.006329</td>\n",
       "      <td>iAcb</td>\n",
       "      <td>ACB</td>\n",
       "      <td>right</td>\n",
       "    </tr>\n",
       "    <tr>\n",
       "      <th>2</th>\n",
       "      <td>2</td>\n",
       "      <td>0.001784</td>\n",
       "      <td>0.003589</td>\n",
       "      <td>0.004973</td>\n",
       "      <td>iTC</td>\n",
       "      <td>LHA</td>\n",
       "      <td>right</td>\n",
       "    </tr>\n",
       "    <tr>\n",
       "      <th>3</th>\n",
       "      <td>3</td>\n",
       "      <td>0.009712</td>\n",
       "      <td>0.008937</td>\n",
       "      <td>0.007834</td>\n",
       "      <td>iAI</td>\n",
       "      <td>AId</td>\n",
       "      <td>right</td>\n",
       "    </tr>\n",
       "    <tr>\n",
       "      <th>4</th>\n",
       "      <td>4</td>\n",
       "      <td>0.008095</td>\n",
       "      <td>0.008077</td>\n",
       "      <td>0.007498</td>\n",
       "      <td>iAI-b</td>\n",
       "      <td>GU</td>\n",
       "      <td>right</td>\n",
       "    </tr>\n",
       "  </tbody>\n",
       "</table>\n",
       "</div>"
      ]
     },
     "execution_count": 266,
     "metadata": {},
     "output_type": "execute_result"
    }
   ],
   "source": [
    "data_sn.head()"
   ]
  },
  {
   "cell_type": "code",
   "execution_count": 267,
   "metadata": {},
   "outputs": [
    {
     "data": {
      "text/html": [
       "<pre style=\"white-space:pre;overflow-x:auto;line-height:normal;font-family:Menlo,'DejaVu Sans Mono',consolas,'Courier New',monospace\">array<span style=\"font-weight: bold\">([</span><span style=\"color: #000080; font-weight: bold\">0.34873911</span>, <span style=\"color: #000080; font-weight: bold\">0.12809078</span>, <span style=\"color: #000080; font-weight: bold\">0.10002194</span>, <span style=\"color: #000080; font-weight: bold\">0.37174228</span>, <span style=\"color: #000080; font-weight: bold\">0.31788227</span>,\n",
       "       <span style=\"color: #000080; font-weight: bold\">0.35970422</span>, <span style=\"color: #000080; font-weight: bold\">0.28161834</span>, <span style=\"color: #000080; font-weight: bold\">0.25526994</span>, <span style=\"color: #000080; font-weight: bold\">0.34125878</span>, <span style=\"color: #000080; font-weight: bold\">0.34984715</span>,\n",
       "       <span style=\"color: #000080; font-weight: bold\">0.33553329</span>, <span style=\"color: #000080; font-weight: bold\">0.23668824</span>, <span style=\"color: #000080; font-weight: bold\">0.28007435</span>, <span style=\"color: #000080; font-weight: bold\">0.30945153</span>, <span style=\"color: #000080; font-weight: bold\">0.21161572</span>,\n",
       "       <span style=\"color: #000080; font-weight: bold\">0.69877239</span>, <span style=\"color: #000080; font-weight: bold\">0.08518221</span>, <span style=\"color: #000080; font-weight: bold\">0.06991923</span>, <span style=\"color: #000080; font-weight: bold\">0.24223515</span>, <span style=\"color: #000080; font-weight: bold\">0.27198864</span>,\n",
       "       <span style=\"color: #000080; font-weight: bold\">0.26030712</span>, <span style=\"color: #000080; font-weight: bold\">0.23780731</span>, <span style=\"color: #000080; font-weight: bold\">0.24506831</span>, <span style=\"color: #000080; font-weight: bold\">0.07639144</span>, <span style=\"color: #000080; font-weight: bold\">0.35301593</span>,\n",
       "       <span style=\"color: #000080; font-weight: bold\">0.29470571</span>, <span style=\"color: #000080; font-weight: bold\">0.08129546</span>, <span style=\"color: #000080; font-weight: bold\">0.19551747</span>, <span style=\"color: #000080; font-weight: bold\">0.36166208</span>, <span style=\"color: #000080; font-weight: bold\">0.33486466</span>,\n",
       "       <span style=\"color: #000080; font-weight: bold\">0.34904556</span>, <span style=\"color: #000080; font-weight: bold\">0.12158366</span>, <span style=\"color: #000080; font-weight: bold\">0.13971529</span>, <span style=\"color: #000080; font-weight: bold\">0.27771879</span>, <span style=\"color: #000080; font-weight: bold\">0.29693234</span>,\n",
       "       <span style=\"color: #000080; font-weight: bold\">0.38548734</span>, <span style=\"color: #000080; font-weight: bold\">0.06788897</span>, <span style=\"color: #000080; font-weight: bold\">0.2126584</span> , <span style=\"color: #000080; font-weight: bold\">0.29712019</span>, <span style=\"color: #000080; font-weight: bold\">0.25833332</span>,\n",
       "       <span style=\"color: #000080; font-weight: bold\">0.28848628</span>, <span style=\"color: #000080; font-weight: bold\">0.27418668</span>, <span style=\"color: #000080; font-weight: bold\">0.30790499</span>, <span style=\"color: #000080; font-weight: bold\">0.3016481</span> , <span style=\"color: #000080; font-weight: bold\">0.30789239</span>,\n",
       "       <span style=\"color: #000080; font-weight: bold\">0.38198106</span>, <span style=\"color: #000080; font-weight: bold\">0.06669431</span>, <span style=\"color: #000080; font-weight: bold\">0.15889901</span>, <span style=\"color: #000080; font-weight: bold\">0.50030376</span>, <span style=\"color: #000080; font-weight: bold\">0.42326321</span>,\n",
       "       <span style=\"color: #000080; font-weight: bold\">0.4154174</span> , <span style=\"color: #000080; font-weight: bold\">0.39158655</span>, <span style=\"color: #000080; font-weight: bold\">0.06264744</span>, <span style=\"color: #000080; font-weight: bold\">0.393442</span>  , <span style=\"color: #000080; font-weight: bold\">0.19996213</span>,\n",
       "       <span style=\"color: #000080; font-weight: bold\">0.3797313</span> , <span style=\"color: #000080; font-weight: bold\">0.30750056</span>, <span style=\"color: #000080; font-weight: bold\">0.16804132</span>, <span style=\"color: #000080; font-weight: bold\">0.19913414</span>, <span style=\"color: #000080; font-weight: bold\">0.06606487</span>,\n",
       "       <span style=\"color: #000080; font-weight: bold\">0.08322327</span>, <span style=\"color: #000080; font-weight: bold\">0.30208291</span>, <span style=\"color: #000080; font-weight: bold\">0.22037322</span>, <span style=\"color: #000080; font-weight: bold\">0.17870733</span>, <span style=\"color: #000080; font-weight: bold\">0.15840922</span>,\n",
       "       <span style=\"color: #000080; font-weight: bold\">0.06364262</span>, <span style=\"color: #000080; font-weight: bold\">0.21096895</span>, <span style=\"color: #000080; font-weight: bold\">0.19235594</span>, <span style=\"color: #000080; font-weight: bold\">0.18804987</span>, <span style=\"color: #000080; font-weight: bold\">0.14300083</span>,\n",
       "       <span style=\"color: #000080; font-weight: bold\">0.19193909</span>, <span style=\"color: #000080; font-weight: bold\">0.20833525</span>, <span style=\"color: #000080; font-weight: bold\">0.12676738</span>, <span style=\"color: #000080; font-weight: bold\">0.06401318</span>, <span style=\"color: #000080; font-weight: bold\">0.08776089</span>,\n",
       "       <span style=\"color: #000080; font-weight: bold\">0.05819639</span>, <span style=\"color: #000080; font-weight: bold\">0.15433984</span>, <span style=\"color: #000080; font-weight: bold\">0.15576139</span>, <span style=\"color: #000080; font-weight: bold\">0.15116628</span>, <span style=\"color: #000080; font-weight: bold\">0.13206304</span>,\n",
       "       <span style=\"color: #000080; font-weight: bold\">0.14571737</span>, <span style=\"color: #000080; font-weight: bold\">0.06877833</span>, <span style=\"color: #000080; font-weight: bold\">0.18739784</span>, <span style=\"color: #000080; font-weight: bold\">0.15052658</span>, <span style=\"color: #000080; font-weight: bold\">0.06434517</span>,\n",
       "       <span style=\"color: #000080; font-weight: bold\">0.11692731</span>, <span style=\"color: #000080; font-weight: bold\">0.31295446</span>, <span style=\"color: #000080; font-weight: bold\">0.27567554</span>, <span style=\"color: #000080; font-weight: bold\">0.29539858</span>, <span style=\"color: #000080; font-weight: bold\">0.09811252</span>,\n",
       "       <span style=\"color: #000080; font-weight: bold\">0.1515936</span> , <span style=\"color: #000080; font-weight: bold\">0.22629402</span>, <span style=\"color: #000080; font-weight: bold\">0.21552467</span>, <span style=\"color: #000080; font-weight: bold\">0.26905248</span>, <span style=\"color: #000080; font-weight: bold\">0.0564861</span> ,\n",
       "       <span style=\"color: #000080; font-weight: bold\">0.16919706</span>, <span style=\"color: #000080; font-weight: bold\">0.23206079</span>, <span style=\"color: #000080; font-weight: bold\">0.15097844</span>, <span style=\"color: #000080; font-weight: bold\">0.21533654</span>, <span style=\"color: #000080; font-weight: bold\">0.23497615</span>,\n",
       "       <span style=\"color: #000080; font-weight: bold\">0.22063962</span>, <span style=\"color: #000080; font-weight: bold\">0.21172018</span>, <span style=\"color: #000080; font-weight: bold\">0.22064559</span>, <span style=\"color: #000080; font-weight: bold\">0.21451778</span>, <span style=\"color: #000080; font-weight: bold\">0.04240344</span>,\n",
       "       <span style=\"color: #000080; font-weight: bold\">0.09396958</span>, <span style=\"color: #000080; font-weight: bold\">0.06416352</span>, <span style=\"color: #000080; font-weight: bold\">0.24321436</span>, <span style=\"color: #000080; font-weight: bold\">0.26370564</span>, <span style=\"color: #000080; font-weight: bold\">0.19688099</span>,\n",
       "       <span style=\"color: #000080; font-weight: bold\">0.06957802</span>, <span style=\"color: #000080; font-weight: bold\">0.23531845</span>, <span style=\"color: #000080; font-weight: bold\">0.45654302</span>, <span style=\"color: #000080; font-weight: bold\">0.18163226</span>, <span style=\"color: #000080; font-weight: bold\">0.16359905</span>,\n",
       "       <span style=\"color: #000080; font-weight: bold\">0.1197571</span> <span style=\"font-weight: bold\">])</span>\n",
       "</pre>\n"
      ]
     },
     "metadata": {},
     "output_type": "display_data"
    }
   ],
   "source": [
    "data_cpu['MPI6'].values"
   ]
  },
  {
   "cell_type": "markdown",
   "metadata": {},
   "source": [
    "# Normalization of the values"
   ]
  },
  {
   "cell_type": "code",
   "execution_count": 268,
   "metadata": {},
   "outputs": [],
   "source": [
    "# Normalization using MPI6 - Seed CPu\n",
    "max_CPu= np.max(data_cpu['MPI6'])\n",
    "min_CPu = np.min(data_cpu['MPI6'])\n",
    "\n",
    "data_cpu['MPI6'] = (data_cpu['MPI6'] - min_CPu) / (max_CPu - min_CPu)\n",
    "data_cpu['MPI3'] = (data_cpu['MPI3'] - min_CPu) / (max_CPu - min_CPu)\n",
    "data_cpu['MPI1'] = (data_cpu['MPI1'] - min_CPu) / (max_CPu - min_CPu)"
   ]
  },
  {
   "cell_type": "code",
   "execution_count": 269,
   "metadata": {},
   "outputs": [],
   "source": [
    "# Normalization using MPI6 - Seed SN\n",
    "max_SN= np.max(data_sn['MPI6'])\n",
    "min_SN = np.min(data_sn['MPI6'])\n",
    "\n",
    "data_sn['MPI6'] = (data_sn['MPI6'] - min_SN) / (max_SN - min_SN)\n",
    "data_sn['MPI3'] = (data_sn['MPI3'] - min_SN) / (max_SN - min_SN)\n",
    "data_sn['MPI1'] = (data_sn['MPI1'] - min_SN) / (max_SN - min_SN)"
   ]
  },
  {
   "cell_type": "code",
   "execution_count": 270,
   "metadata": {},
   "outputs": [],
   "source": [
    "data_cpu = data_cpu.dropna()\n",
    "data_sn = data_sn.dropna()"
   ]
  },
  {
   "cell_type": "markdown",
   "metadata": {},
   "source": [
    "# Brain Render - Videos"
   ]
  },
  {
   "cell_type": "code",
   "execution_count": 36,
   "metadata": {},
   "outputs": [],
   "source": [
    "cmap = plt.get_cmap('YlOrRd')"
   ]
  },
  {
   "cell_type": "code",
   "execution_count": 23,
   "metadata": {},
   "outputs": [
    {
     "name": "stdout",
     "output_type": "stream",
     "text": [
      "Requirement already satisfied: ffmpeg in c:\\users\\thoma\\anaconda3\\lib\\site-packages (1.4)\n",
      "Note: you may need to restart the kernel to use updated packages.\n"
     ]
    }
   ],
   "source": [
    "pip install ffmpeg"
   ]
  },
  {
   "cell_type": "code",
   "execution_count": 24,
   "metadata": {},
   "outputs": [
    {
     "data": {
      "text/html": [
       "<pre style=\"white-space:pre;overflow-x:auto;line-height:normal;font-family:Menlo,'DejaVu Sans Mono',consolas,'Courier New',monospace\">Generating frames <span style=\"color: #729c1f\">━━━━━━━━━━━━━━━━━━━━━━━━━━━━━━━━━━━━━━━━</span> <span style=\"color: #800080\">100%</span> <span style=\"color: #008080\">0:00:00</span>\n",
       "</pre>\n"
      ]
     },
     "metadata": {},
     "output_type": "display_data"
    },
    {
     "data": {
      "text/html": [
       "<pre style=\"white-space:pre;overflow-x:auto;line-height:normal;font-family:Menlo,'DejaVu Sans Mono',consolas,'Courier New',monospace\"><span style=\"color: #ffe082\">Saving video</span>\n",
       "</pre>\n"
      ]
     },
     "metadata": {},
     "output_type": "display_data"
    },
    {
     "data": {
      "text/html": [
       "<pre style=\"white-space:pre;overflow-x:auto;line-height:normal;font-family:Menlo,'DejaVu Sans Mono',consolas,'Courier New',monospace\"><span style=\"color: #ffa726; font-weight: bold\">ffmpeg returned an error while trying to save video with command:</span>\n",
       "<span style=\"color: #ffa726; font-weight: bold\">    </span><span style=\"color: #ff7043; font-weight: bold\">ffmpeg -hide_banner -loglevel panic -y -r </span><span style=\"color: #ff7043; font-weight: bold\">25</span><span style=\"color: #ff7043; font-weight: bold\"> -start_number </span><span style=\"color: #ff7043; font-weight: bold\">0</span><span style=\"color: #ff7043; font-weight: bold\"> -i </span>\n",
       "<span style=\"color: #ff7043; font-weight: bold\">C:\\Users\\thoma\\AppData\\Local\\Temp\\tmpu1c1h6dz\\%d.png -vcodec libx264 -crf </span><span style=\"color: #ff7043; font-weight: bold\">28</span><span style=\"color: #ff7043; font-weight: bold\"> -pix_fmt yuv420p</span>\n",
       "<span style=\"color: #ff7043; font-weight: bold\">-s 162</span><span style=\"color: #ff7043; font-weight: bold\">0x1050</span><span style=\"color: #ff7043; font-weight: bold\"> test.mp4</span>\n",
       "</pre>\n"
      ]
     },
     "metadata": {},
     "output_type": "display_data"
    },
    {
     "data": {
      "text/html": [
       "<pre style=\"white-space:pre;overflow-x:auto;line-height:normal;font-family:Menlo,'DejaVu Sans Mono',consolas,'Courier New',monospace\"><span style=\"color: #008000\">'..\\\\videos/test.mp4'</span>\n",
       "</pre>\n"
      ]
     },
     "metadata": {},
     "output_type": "display_data"
    }
   ],
   "source": [
    "#VIDEOS\n",
    "from brainrender import Scene\n",
    "from brainrender.video import VideoMaker\n",
    "from brainrender import Scene, Animation\n",
    "import ffmpeg\n",
    "\n",
    "# Create a scene\n",
    "scene = Scene(title=\"MPI6_Seed_CPu\", atlas_name='allen_mouse_25um', inset=False, screenshots_folder=None)\n",
    "for r in data_cpu.index:\n",
    "    \n",
    "    region_to_plot = data_cpu.loc[r, \"br_regions\"]\n",
    "    color = cmap(data_cpu.loc[r, 'MPI6'])[:3]\n",
    "    alpha =  cmap(data_cpu.loc[r, 'MPI6'])[:3]\n",
    "    \n",
    "    #scene.add_brain_region(region_to_plot, color=color, alpha=data_cpu.loc[r, 'MPI6']) \n",
    "    scene.add_brain_region(region_to_plot, color=color, alpha=data_cpu.loc[r, 'MPI6'], hemisphere=data_cpu.loc[r, 'hem'], silhouette=None) \n",
    "\n",
    "    \n",
    "# Make a custom make frame function\n",
    "def make_frame(scene, frame_number, *args, **kwargs):\n",
    "    alpha = scene.root.alpha()\n",
    "    if alpha < 0.5:\n",
    "        scene.root.alpha(1)\n",
    "    else:\n",
    "        scene.root.alpha(0.2)\n",
    "\n",
    "# Create an instance of video maker\n",
    "vm = VideoMaker(scene=scene,save_fld=\"../videos\",\n",
    "        name=\"test\",\n",
    "        fmt=\"mp4\",size=\"1620x1050\",make_frame_func=make_frame)\n",
    "# make a video with the custom make frame function\n",
    "# this just rotates the scene\n",
    "vm.make_video(elevation=2, duration=2, fps=25)"
   ]
  },
  {
   "cell_type": "code",
   "execution_count": 225,
   "metadata": {},
   "outputs": [
    {
     "data": {
      "text/html": [
       "<pre style=\"white-space:pre;overflow-x:auto;line-height:normal;font-family:Menlo,'DejaVu Sans Mono',consolas,'Courier New',monospace\">Generating frames... <span style=\"color: #729c1f\">━━━━━━━━━━━━━━━━━━━━━━━━━━━━━━━━━━━━━━━━</span> <span style=\"color: #800080\">100%</span> <span style=\"color: #008080\">0:00:00</span>\n",
       "</pre>\n"
      ]
     },
     "metadata": {},
     "output_type": "display_data"
    },
    {
     "data": {
      "text/html": [
       "<pre style=\"white-space:pre;overflow-x:auto;line-height:normal;font-family:Menlo,'DejaVu Sans Mono',consolas,'Courier New',monospace\"><span style=\"color: #ffe082\">Saving video</span>\n",
       "</pre>\n"
      ]
     },
     "metadata": {},
     "output_type": "display_data"
    },
    {
     "data": {
      "text/html": [
       "<pre style=\"white-space:pre;overflow-x:auto;line-height:normal;font-family:Menlo,'DejaVu Sans Mono',consolas,'Courier New',monospace\"><span style=\"color: #ffa726; font-weight: bold\">ffmpeg returned an error while trying to save video with command:</span>\n",
       "<span style=\"color: #ffa726; font-weight: bold\">    </span><span style=\"color: #ff7043; font-weight: bold\">ffmpeg -hide_banner -loglevel panic -y -r </span><span style=\"color: #ff7043; font-weight: bold\">10</span><span style=\"color: #ff7043; font-weight: bold\"> -start_number </span><span style=\"color: #ff7043; font-weight: bold\">0</span><span style=\"color: #ff7043; font-weight: bold\"> -i </span>\n",
       "<span style=\"color: #ff7043; font-weight: bold\">C:\\Users\\thoma\\AppData\\Local\\Temp\\tmpy6ysy4zs\\%d.png -vcodec libx264 -crf </span><span style=\"color: #ff7043; font-weight: bold\">28</span><span style=\"color: #ff7043; font-weight: bold\"> -pix_fmt yuv420p</span>\n",
       "<span style=\"color: #ff7043; font-weight: bold\">-s 162</span><span style=\"color: #ff7043; font-weight: bold\">0x1050</span><span style=\"color: #ff7043; font-weight: bold\"> vid3.mp4</span>\n",
       "</pre>\n"
      ]
     },
     "metadata": {},
     "output_type": "display_data"
    },
    {
     "data": {
      "text/html": [
       "<pre style=\"white-space:pre;overflow-x:auto;line-height:normal;font-family:Menlo,'DejaVu Sans Mono',consolas,'Courier New',monospace\"><span style=\"color: #008000\">'..\\\\videos/vid3.mp4'</span>\n",
       "</pre>\n"
      ]
     },
     "metadata": {},
     "output_type": "display_data"
    }
   ],
   "source": [
    "from brainrender import Scene, Animation    #####NOT WORKING YET\n",
    "# Create a brainrender scene\n",
    "scene = Scene(title=\"brain regions\", inset=False)\n",
    "\n",
    "# Add brain regions\n",
    "scene.add_brain_region(\"TH\")\n",
    "\n",
    "anim = Animation(scene, \"../videos\", \"vid3\")\n",
    "\n",
    "# Specify camera position and zoom at some key frames\n",
    "# each key frame defines the scene's state after n seconds have passed\n",
    "anim.add_keyframe(0, camera=\"top\", zoom=1.3)\n",
    "\n",
    "# Make videos\n",
    "anim.make_video(duration=3, fps=10)"
   ]
  },
  {
   "cell_type": "markdown",
   "metadata": {},
   "source": [
    "# Brain Render -Scenes"
   ]
  },
  {
   "cell_type": "code",
   "execution_count": 19,
   "metadata": {},
   "outputs": [
    {
     "data": {
      "text/html": [
       "<pre style=\"white-space:pre;overflow-x:auto;line-height:normal;font-family:Menlo,'DejaVu Sans Mono',consolas,'Courier New',monospace\">\n",
       "Saving new screenshot at brainrender_screenshot_20210304_121059.png\n",
       "\n",
       "</pre>\n"
      ]
     },
     "metadata": {},
     "output_type": "display_data"
    },
    {
     "data": {
      "text/html": [
       "<pre style=\"white-space:pre;overflow-x:auto;line-height:normal;font-family:Menlo,'DejaVu Sans Mono',consolas,'Courier New',monospace\">\n",
       "Saving new screenshot at brainrender_screenshot_20210304_121059.png\n",
       "\n",
       "</pre>\n"
      ]
     },
     "metadata": {},
     "output_type": "display_data"
    },
    {
     "data": {
      "text/html": [
       "<pre style=\"white-space:pre;overflow-x:auto;line-height:normal;font-family:Menlo,'DejaVu Sans Mono',consolas,'Courier New',monospace\">\n",
       "Saving new screenshot at brainrender_screenshot_20210304_121100.png\n",
       "\n",
       "</pre>\n"
      ]
     },
     "metadata": {},
     "output_type": "display_data"
    }
   ],
   "source": [
    "from brainrender import Scene\n",
    "from tqdm import tqdm\n",
    "\n",
    "# Create a brainrender scene\n",
    "scene = Scene(inset=False,screenshots_folder=\"../Screenshot_Brainrender\")\n",
    "brainrender.settings.SHOW_AXES = False\n",
    "\n",
    "\n",
    "# Add brain regions Scene 1\n",
    "for r in data_cpu.index:\n",
    "    \n",
    "    region_to_plot = data_cpu.loc[r, \"br_regions\"]\n",
    "    color = cmap(data_cpu.loc[r, 'MPI6'])[:3]\n",
    "    alpha =  cmap(data_cpu.loc[r, 'MPI6'])[:3]\n",
    "    \n",
    "    #scene.add_brain_region(region_to_plot, color=color, alpha=data_cpu.loc[r, 'MPI6']) \n",
    "    scene.add_brain_region(region_to_plot, color=color, alpha=data_cpu.loc[r, 'MPI6'], hemisphere=data_cpu.loc[r, 'hem'], silhouette=False) #Alpha varies according to values\n",
    "    \n",
    "\n",
    "brainrender.settings.SHADER_STYLE = \"plastic\" #[metallic, plastic, shiny, glossy]\n",
    "brainrender.settings.ROOT_ALPHA = 0.3 \n",
    "brainrender.settings.ROOT_COLOR  = [0.8, 0.8, 0.8]\n",
    "brainrender.settings.OFFSCREEN = False\n",
    "\n",
    "scene.render(atlas_name='allen_mouse_50um', zoom=1.5, silhouette=None)"
   ]
  },
  {
   "cell_type": "code",
   "execution_count": null,
   "metadata": {},
   "outputs": [],
   "source": [
    "# Different Shadering\n",
    "for shader in (\"plastic\", \"cartoon\"):\n",
    "    brainrender.settings.SHADER_STYLE = shader\n",
    "    scene = Scene(title=shader)\n",
    "    scene.render()"
   ]
  },
  {
   "cell_type": "markdown",
   "metadata": {},
   "source": [
    " # Brainrender - Sections & Screenshot"
   ]
  },
  {
   "cell_type": "code",
   "execution_count": null,
   "metadata": {},
   "outputs": [],
   "source": [
    "# Cameras\n",
    "sagittal_camera = {\n",
    "    \"pos\": (6514, -34, 36854),\n",
    "    \"viewup\": (0, -1, 0),\n",
    "    \"clippingRange\": (24098, 49971),\n",
    "}\n",
    "\n",
    "sagittal_camera2 = {\n",
    "    \"pos\": (9782, 1795, -40999),\n",
    "    \"viewup\": (0, -1, 0),\n",
    "    \"clippingRange\": (23256, 51031),\n",
    "}\n",
    "\n",
    "\n",
    "frontal_camera = {\n",
    "    \"pos\": (-19199, -1428, -5763),\n",
    "    \"viewup\": (0, -1, 0),\n",
    "    \"clippingRange\": (19531, 40903),\n",
    "}\n",
    "\n",
    "top_camera = {\n",
    "    \"pos\": (7760, -31645, -5943),\n",
    "    \"viewup\": (-1, 0, 0),\n",
    "    \"clippingRange\": (27262, 45988),\n",
    "}\n",
    "\n",
    "top_side_camera = {\n",
    "    \"pos\": (4405, -31597, -5411),\n",
    "    \"viewup\": (0, 0, -1),\n",
    "    \"clippingRange\": (26892, 46454),\n",
    "}\n",
    "\n",
    "three_quarters_camera = {\n",
    "    \"pos\": (-20169, -7298, 14832),\n",
    "    \"viewup\": (0, -1, 0),\n",
    "    \"clippingRange\": (16955, 58963),\n",
    "}\n",
    "\n",
    "cameras = dict(\n",
    "    sagittal=sagittal_camera,\n",
    "    sagittal2=sagittal_camera2,\n",
    "    frontal=frontal_camera,\n",
    "    top=top_camera,\n",
    "    top_side=top_side_camera,\n",
    "    three_quarters=three_quarters_camera,\n",
    ")\n",
    "\n"
   ]
  },
  {
   "cell_type": "code",
   "execution_count": 21,
   "metadata": {},
   "outputs": [
    {
     "data": {
      "text/html": [
       "<pre style=\"white-space:pre;overflow-x:auto;line-height:normal;font-family:Menlo,'DejaVu Sans Mono',consolas,'Courier New',monospace\">\n",
       "Saving new screenshot at brainrender_screenshot_20210304_121444.png\n",
       "\n",
       "</pre>\n"
      ]
     },
     "metadata": {},
     "output_type": "display_data"
    },
    {
     "data": {
      "text/html": [
       "<pre style=\"white-space:pre;overflow-x:auto;line-height:normal;font-family:Menlo,'DejaVu Sans Mono',consolas,'Courier New',monospace\">\n",
       "Saving new screenshot at brainrender_screenshot_20210304_121447.png\n",
       "\n",
       "</pre>\n"
      ]
     },
     "metadata": {},
     "output_type": "display_data"
    },
    {
     "data": {
      "text/html": [
       "<pre style=\"white-space:pre;overflow-x:auto;line-height:normal;font-family:Menlo,'DejaVu Sans Mono',consolas,'Courier New',monospace\">\n",
       "Saving new screenshot at brainrender_screenshot_20210304_121447.png\n",
       "\n",
       "</pre>\n"
      ]
     },
     "metadata": {},
     "output_type": "display_data"
    }
   ],
   "source": [
    "# Screenshot of Horizontal section\n",
    "#ATLAS 50 um, thickness 150um\n",
    "from brainrender import Scene, atlas\n",
    "from tqdm import tqdm\n",
    "cmap = plt.get_cmap('YlOrRd')\n",
    "\n",
    "scene = Scene(inset=False,screenshots_folder=\"../Screenshot_Brainrender\")\n",
    "top_side_camera = {\n",
    "    \"pos\": (4405, -31597, -5411),\n",
    "    \"viewup\": (0, 0, -1),\n",
    "    \"clippingRange\": (26892, 46454),\n",
    "}\n",
    "\n",
    "# Add brain regions\n",
    "for r in data_cpu.index:\n",
    "\n",
    "    region_to_plot = data_cpu.loc[r, \"br_regions\"]\n",
    "    color = cmap(data_cpu.loc[r, 'MPI6'])[:3]\n",
    "    #alpha =  cmap(data_cpu.loc[r, 'MPI6'])[:3]\n",
    "    scene.add_brain_region(region_to_plot, color=color, alpha=data_cpu.loc[r, 'MPI6'], hemisphere=data_cpu.loc[r, 'hem'], silhouette=True)\n",
    "\n",
    "cp = scene.atlas.get_region(\"CP\")\n",
    "plane = scene.atlas.get_plane(pos=cp.centerOfMass(), plane=\"horizontal\", norm=(0, 1, 0), alpha=1)\n",
    "scene.slice(plane=plane, close_actors=True)\n",
    "\n",
    "\n",
    "brainrender.settings.SHADER_STYLE = \"cartoon\" #[metallic, plastic, shiny, glossy]\n",
    "brainrender.settings.ROOT_ALPHA = 0.15\n",
    "brainrender.settings.ROOT_COLOR  = [0.8, 0.8, 0.8]\n",
    "brainrender.settings.OFFSCREEN = False\n",
    "brainrender.settings.SHOW_AXES = False\n",
    "brainrender.settings.BACKGROUND_COLOR = \"White\"\n",
    "scene.render(atlas_name='allen_mouse_50um', camera=top_side_camera, zoom=1.5)\n",
    "#scene.screenshot(name=\"TESThori\".format(section/1000), scale = 3)\n"
   ]
  },
  {
   "cell_type": "code",
   "execution_count": 20,
   "metadata": {},
   "outputs": [
    {
     "data": {
      "text/html": [
       "<pre style=\"white-space:pre;overflow-x:auto;line-height:normal;font-family:Menlo,'DejaVu Sans Mono',consolas,'Courier New',monospace\">\n",
       "Saving new screenshot at 100um_Coro_Breg_-<span style=\"color: #000080; font-weight: bold\">1.</span>7_mm.png\n",
       "\n",
       "</pre>\n"
      ]
     },
     "metadata": {},
     "output_type": "display_data"
    },
    {
     "data": {
      "text/html": [
       "<pre style=\"white-space:pre;overflow-x:auto;line-height:normal;font-family:Menlo,'DejaVu Sans Mono',consolas,'Courier New',monospace\">\n",
       "Saving new screenshot at 100um_Coro_Breg_0.0_mm.png\n",
       "\n",
       "</pre>\n"
      ]
     },
     "metadata": {},
     "output_type": "display_data"
    },
    {
     "data": {
      "text/html": [
       "<pre style=\"white-space:pre;overflow-x:auto;line-height:normal;font-family:Menlo,'DejaVu Sans Mono',consolas,'Courier New',monospace\">\n",
       "Saving new screenshot at 100um_Coro_Breg_3.0_mm.png\n",
       "\n",
       "</pre>\n"
      ]
     },
     "metadata": {},
     "output_type": "display_data"
    },
    {
     "data": {
      "text/html": [
       "<pre style=\"white-space:pre;overflow-x:auto;line-height:normal;font-family:Menlo,'DejaVu Sans Mono',consolas,'Courier New',monospace\">\n",
       "Saving new screenshot at 100um_Coro_Breg_4.04_mm.png\n",
       "\n",
       "</pre>\n"
      ]
     },
     "metadata": {},
     "output_type": "display_data"
    }
   ],
   "source": [
    "# Screenshot of sections \n",
    "\n",
    "#ATLAS 100 um, thickness 150um\n",
    "from brainrender import Scene, atlas\n",
    "from tqdm import tqdm\n",
    "\n",
    "list_coor = [-1700, 0, +2700, +3000, +4040] # Bregma corresponding coordinates\n",
    "\n",
    "for section in list_coor:\n",
    "    bregma = np.array([5400,  # AP    \n",
    "          0,  # DV    \n",
    "          5700,]) # ML\n",
    "\n",
    "    bregma[0] = bregma[0] + section\n",
    "    \n",
    "    # Create a brainrender scene\n",
    "    scene = Scene(title=\"-Atlas 100 um- Coronal section Bregma {} mm -150um thickness\".format(section/1000), inset=False,screenshots_folder=\"../Screenshot_Brainrender\")\n",
    "    frontal_camera = {\n",
    "         'pos': (-19781, 3777, -5832),\n",
    "         'viewup': (0, -1, 0),\n",
    "         'clippingRange': (24465, 26836),\n",
    "        'focalPoint': (5705, 3991, -5691),\n",
    "         'distance': 25487}\n",
    "\n",
    "    # Add brain regions\n",
    "    for r in data_cpu.index:\n",
    "\n",
    "        region_to_plot = data_cpu.loc[r, \"br_regions\"]\n",
    "        color = cmap(data_cpu.loc[r, 'MPI6'])[:3]\n",
    "        alpha =  cmap(data_cpu.loc[r, 'MPI6'])[:3]\n",
    "        scene.add_brain_region(region_to_plot, color=color, alpha=1, hemisphere=data_cpu.loc[r, 'hem'], silhouette=True)\n",
    "        \n",
    "\n",
    "    plane_1 = scene.atlas.get_plane(pos=bregma+75, plane=\"frontal\", norm=(-1, 0, 0), alpha=1, color=\"white\") # Thickness: 150 um\n",
    "    plane_2 = scene.atlas.get_plane(pos=bregma-75, plane=\"frontal\", norm=(1, 0, 0), alpha=1, color=\"white\")\n",
    "    scene.slice(plane_1, close_actors=True)\n",
    "    scene.slice(plane_2, close_actors=True)\n",
    "    \n",
    "    \n",
    "    brainrender.settings.SHADER_STYLE = \"cartoon\" #[metallic, plastic, shiny, glossy]\n",
    "    brainrender.settings.ROOT_ALPHA = 0.15\n",
    "    scaling_color = 0#(section/1000)\n",
    "    brainrender.settings.ROOT_COLOR  = [1 - scaling_color, 1 - scaling_color, 1 - scaling_color]\n",
    "    brainrender.settings.OFFSCREEN = True\n",
    "    brainrender.settings.SHOW_AXES = False\n",
    "    brainrender.settings.BACKGROUND_COLOR = \"white\"\n",
    "    scene.render(atlas_name='allen_mouse_100um', camera= frontal_camera, zoom=1.5)\n",
    "    scene.screenshot(name=\"100um_Coro_Breg_{}_mm\".format(section/1000), scale = 3)\n",
    "    "
   ]
  },
  {
   "cell_type": "code",
   "execution_count": 24,
   "metadata": {},
   "outputs": [
    {
     "data": {
      "text/html": [
       "<pre style=\"white-space:pre;overflow-x:auto;line-height:normal;font-family:Menlo,'DejaVu Sans Mono',consolas,'Courier New',monospace\">\n",
       "Saving new screenshot at 50um_Coro_Breg_-<span style=\"color: #000080; font-weight: bold\">1.</span>7_mm.png\n",
       "\n",
       "</pre>\n"
      ]
     },
     "metadata": {},
     "output_type": "display_data"
    },
    {
     "data": {
      "text/html": [
       "<pre style=\"white-space:pre;overflow-x:auto;line-height:normal;font-family:Menlo,'DejaVu Sans Mono',consolas,'Courier New',monospace\">\n",
       "Saving new screenshot at 50um_Coro_Breg_0.0_mm.png\n",
       "\n",
       "</pre>\n"
      ]
     },
     "metadata": {},
     "output_type": "display_data"
    },
    {
     "data": {
      "text/html": [
       "<pre style=\"white-space:pre;overflow-x:auto;line-height:normal;font-family:Menlo,'DejaVu Sans Mono',consolas,'Courier New',monospace\">\n",
       "Saving new screenshot at 50um_Coro_Breg_2.7_mm.png\n",
       "\n",
       "</pre>\n"
      ]
     },
     "metadata": {},
     "output_type": "display_data"
    },
    {
     "data": {
      "text/html": [
       "<pre style=\"white-space:pre;overflow-x:auto;line-height:normal;font-family:Menlo,'DejaVu Sans Mono',consolas,'Courier New',monospace\">\n",
       "Saving new screenshot at 50um_Coro_Breg_3.0_mm.png\n",
       "\n",
       "</pre>\n"
      ]
     },
     "metadata": {},
     "output_type": "display_data"
    },
    {
     "data": {
      "text/html": [
       "<pre style=\"white-space:pre;overflow-x:auto;line-height:normal;font-family:Menlo,'DejaVu Sans Mono',consolas,'Courier New',monospace\">\n",
       "Saving new screenshot at 50um_Coro_Breg_4.04_mm.png\n",
       "\n",
       "</pre>\n"
      ]
     },
     "metadata": {},
     "output_type": "display_data"
    }
   ],
   "source": [
    "#ATLAS 50 um, thickness 150um\n",
    "from brainrender import Scene, atlas\n",
    "from tqdm import tqdm\n",
    "\n",
    "list_coor = [-1700, 0, +2700, +3000, +4040] # Bregma corresponding coordinates\n",
    "\n",
    "for section in list_coor:\n",
    "    bregma = np.array([5400,  # AP    \n",
    "          0,  # DV    \n",
    "          5700,]) # ML\n",
    "\n",
    "    bregma[0] = bregma[0] + section\n",
    "    \n",
    "    # Create a brainrender scene\n",
    "    scene = Scene(title=\"-Atlas 50 um- Coronal section Bregma {} mm -150um thickness\".format(section/1000), inset=False,screenshots_folder=\"../Screenshot_Brainrender\")\n",
    "    frontal_camera = {\n",
    "         'pos': (-19781, 3777, -5832),\n",
    "         'viewup': (0, -1, 0),\n",
    "         'clippingRange': (24465, 26836),\n",
    "        'focalPoint': (5705, 3991, -5691),\n",
    "         'distance': 25487}\n",
    "\n",
    "    # Add brain regions\n",
    "    for r in data_cpu.index:\n",
    "\n",
    "        region_to_plot = data_cpu.loc[r, \"br_regions\"]\n",
    "        color = cmap(data_cpu.loc[r, 'MPI6'])[:3]\n",
    "        alpha =  cmap(data_cpu.loc[r, 'MPI6'])[:3]\n",
    "        scene.add_brain_region(region_to_plot, color=color, alpha=1, hemisphere=data_cpu.loc[r, 'hem'], silhouette=True)\n",
    "        \n",
    "\n",
    "    plane_1 = scene.atlas.get_plane(pos=bregma+75, plane=\"frontal\", norm=(-1, 0, 0), alpha=1, color=\"white\") # Thickness: 150 um\n",
    "    plane_2 = scene.atlas.get_plane(pos=bregma-75, plane=\"frontal\", norm=(1, 0, 0), alpha=1, color=\"white\")\n",
    "    scene.slice(plane_1, close_actors=True)\n",
    "    scene.slice(plane_2, close_actors=True)\n",
    "    \n",
    "    \n",
    "    brainrender.settings.SHADER_STYLE = \"cartoon\" #[metallic, plastic, shiny, glossy]\n",
    "    brainrender.settings.ROOT_ALPHA = 0.15\n",
    "    brainrender.settings.ROOT_COLOR  = [1, 1, 1]\n",
    "    brainrender.settings.OFFSCREEN = True\n",
    "    brainrender.settings.SHOW_AXES = False\n",
    "    brainrender.settings.BACKGROUND_COLOR = \"white\"\n",
    "    scene.render(atlas_name='allen_mouse_50um', camera= frontal_camera, zoom=1.5)\n",
    "    scene.screenshot(name=\"50um_Coro_Breg_{}_mm\".format(section/1000), scale = 3)\n",
    "    "
   ]
  },
  {
   "cell_type": "code",
   "execution_count": 22,
   "metadata": {},
   "outputs": [
    {
     "data": {
      "text/html": [
       "<pre style=\"white-space:pre;overflow-x:auto;line-height:normal;font-family:Menlo,'DejaVu Sans Mono',consolas,'Courier New',monospace\">\n",
       "Saving new screenshot at 25um_Coro_Breg_-<span style=\"color: #000080; font-weight: bold\">1.</span>7_mm.png\n",
       "\n",
       "</pre>\n"
      ]
     },
     "metadata": {},
     "output_type": "display_data"
    },
    {
     "data": {
      "text/html": [
       "<pre style=\"white-space:pre;overflow-x:auto;line-height:normal;font-family:Menlo,'DejaVu Sans Mono',consolas,'Courier New',monospace\">\n",
       "Saving new screenshot at 25um_Coro_Breg_0.0_mm.png\n",
       "\n",
       "</pre>\n"
      ]
     },
     "metadata": {},
     "output_type": "display_data"
    },
    {
     "data": {
      "text/html": [
       "<pre style=\"white-space:pre;overflow-x:auto;line-height:normal;font-family:Menlo,'DejaVu Sans Mono',consolas,'Courier New',monospace\">\n",
       "Saving new screenshot at 25um_Coro_Breg_3.0_mm.png\n",
       "\n",
       "</pre>\n"
      ]
     },
     "metadata": {},
     "output_type": "display_data"
    },
    {
     "data": {
      "text/html": [
       "<pre style=\"white-space:pre;overflow-x:auto;line-height:normal;font-family:Menlo,'DejaVu Sans Mono',consolas,'Courier New',monospace\">\n",
       "Saving new screenshot at 25um_Coro_Breg_4.04_mm.png\n",
       "\n",
       "</pre>\n"
      ]
     },
     "metadata": {},
     "output_type": "display_data"
    }
   ],
   "source": [
    "#ATLAS 25 um, thickness 150um\n",
    "from brainrender import Scene, atlas\n",
    "from tqdm import tqdm\n",
    "\n",
    "list_coor = [-1700, 0, +2700, +3000, +4040] # Bregma corresponding coordinates\n",
    "\n",
    "for section in list_coor:\n",
    "    bregma = np.array([5400,  # AP    \n",
    "          0,  # DV    \n",
    "          5700,]) # ML\n",
    "\n",
    "    bregma[0] = bregma[0] + section\n",
    "    \n",
    "    # Create a brainrender scene\n",
    "    scene = Scene(title=\"-Atlas 25 um- Coronal section Bregma {} mm -150um thickness\".format(section/1000), inset=False,screenshots_folder=\"../Screenshot_Brainrender\")\n",
    "    frontal_camera = {\n",
    "         'pos': (-19781, 3777, -5832),\n",
    "         'viewup': (0, -1, 0),\n",
    "         'clippingRange': (24465, 26836),\n",
    "        'focalPoint': (5705, 3991, -5691),\n",
    "         'distance': 25487}\n",
    "\n",
    "    # Add brain regions\n",
    "    for r in data_cpu.index:\n",
    "\n",
    "        region_to_plot = data_cpu.loc[r, \"br_regions\"]\n",
    "        color = cmap(data_cpu.loc[r, 'MPI6'])[:3]\n",
    "        alpha =  cmap(data_cpu.loc[r, 'MPI6'])[:3]\n",
    "        scene.add_brain_region(region_to_plot, color=color, alpha=1, hemisphere=data_cpu.loc[r, 'hem'], silhouette=True)\n",
    "        \n",
    "\n",
    "    plane_1 = scene.atlas.get_plane(pos=bregma+75, plane=\"frontal\", norm=(-1, 0, 0), alpha=1, color=\"white\") # Thickness: 150 um\n",
    "    plane_2 = scene.atlas.get_plane(pos=bregma-75, plane=\"frontal\", norm=(1, 0, 0), alpha=1, color=\"white\")\n",
    "    scene.slice(plane_1, close_actors=True)\n",
    "    scene.slice(plane_2, close_actors=True)\n",
    "    \n",
    "    \n",
    "    brainrender.settings.SHADER_STYLE = \"cartoon\" #[metallic, plastic, shiny, glossy]\n",
    "    brainrender.settings.ROOT_ALPHA = 0.15\n",
    "    brainrender.settings.ROOT_COLOR  = [1,1,1]\n",
    "    brainrender.settings.OFFSCREEN = True\n",
    "    brainrender.settings.SHOW_AXES = False\n",
    "    brainrender.settings.BACKGROUND_COLOR = \"white\"\n",
    "    scene.render(atlas_name='allen_mouse_25um', camera= frontal_camera, zoom=1.5)\n",
    "    scene.screenshot(name=\"25um_Coro_Breg_{}_mm\".format(section/1000), scale = 3)\n",
    "    "
   ]
  },
  {
   "cell_type": "code",
   "execution_count": 23,
   "metadata": {},
   "outputs": [
    {
     "data": {
      "text/html": [
       "<pre style=\"white-space:pre;overflow-x:auto;line-height:normal;font-family:Menlo,'DejaVu Sans Mono',consolas,'Courier New',monospace\">\n",
       "Saving new screenshot at 50um_Coro_CPu.png\n",
       "\n",
       "</pre>\n"
      ]
     },
     "metadata": {},
     "output_type": "display_data"
    },
    {
     "data": {
      "text/html": [
       "<pre style=\"white-space:pre;overflow-x:auto;line-height:normal;font-family:Menlo,'DejaVu Sans Mono',consolas,'Courier New',monospace\">\n",
       "Saving new screenshot at 50um_Coro_SNc.png\n",
       "\n",
       "</pre>\n"
      ]
     },
     "metadata": {},
     "output_type": "display_data"
    }
   ],
   "source": [
    "# Center of mass CPu & SN\n",
    "\n",
    "#ATLAS 50 um, thickness 150um\n",
    "from brainrender import Scene, atlas\n",
    "from tqdm import tqdm\n",
    "scene=Scene(atlas_name='allen_mouse_50um')\n",
    "cp = scene.atlas.get_region(\"CP\")\n",
    "sn = scene.atlas.get_region(\"SNc\")\n",
    "list_reg=[cp,sn]\n",
    "frontal_camera = {\n",
    "     'pos': (-19781, 3777, -5832),\n",
    "     'viewup': (0, -1, 0),\n",
    "     'clippingRange': (24465, 26836),\n",
    "    'focalPoint': (5705, 3991, -5691),\n",
    "     'distance': 25487}\n",
    "\n",
    "for i in list_reg: \n",
    "    if i == cp:\n",
    "        scene = Scene(atlas_name='allen_mouse_50um', title=\"-Atlas 50 um- Coronal section CPu  -50um thickness\", inset=False,screenshots_folder=\"../Screenshot_Brainrender\")\n",
    "        for r in data_cpu.index:\n",
    "            region_to_plot = data_cpu.loc[r, \"br_regions\"]\n",
    "            color = cmap(data_cpu.loc[r, 'MPI6'])[:3]\n",
    "            alpha =  cmap(data_cpu.loc[r, 'MPI6'])[:3]\n",
    "            scene.add_brain_region(region_to_plot, color=color, alpha=1, hemisphere=data_cpu.loc[r, 'hem'], silhouette=True)\n",
    "    else:\n",
    "        scene = Scene(atlas_name='allen_mouse_50um', title=\"-Atlas 50 um- Coronal section SN  -50um thickness\", inset=False,screenshots_folder=\"../Screenshot_Brainrender\")\n",
    "        for r in data_cpu.index:\n",
    "            region_to_plot = data_cpu.loc[r, \"br_regions\"]\n",
    "            color = cmap(data_cpu.loc[r, 'MPI6'])[:3]\n",
    "            alpha =  cmap(data_cpu.loc[r, 'MPI6'])[:3]\n",
    "            scene.add_brain_region(region_to_plot, color=color, alpha=1, hemisphere=data_cpu.loc[r, 'hem'], silhouette=True)\n",
    "\n",
    "        \n",
    "    plane_1 = scene.atlas.get_plane(pos=i.centerOfMass()+25, plane=\"frontal\", norm=(-1, 0, 0), sx=100, alpha=1, color=\"white\") # Thickness: 150 um\n",
    "    plane_2 = scene.atlas.get_plane(pos=i.centerOfMass()-25, plane=\"frontal\", norm=(1, 0, 0), sx=100, alpha=1, color=\"white\")\n",
    "    scene.slice(plane_1, close_actors=True)\n",
    "    scene.slice(plane_2, close_actors=True)\n",
    "    \n",
    "    \n",
    "    brainrender.settings.SHADER_STYLE = \"cartoon\" #[metallic, plastic, shiny, glossy]\n",
    "    brainrender.settings.ROOT_ALPHA = 0.15\n",
    "    brainrender.settings.ROOT_COLOR  = [1, 1, 1]\n",
    "    brainrender.settings.OFFSCREEN = True\n",
    "    brainrender.settings.SHOW_AXES = False\n",
    "    brainrender.settings.BACKGROUND_COLOR = \"white\"\n",
    "    scene.render(atlas_name='allen_mouse_50um', camera= frontal_camera, zoom=1.5)\n",
    "    if i == cp:\n",
    "        scene.screenshot(name=\"50um_Coro_CPu\", scale = 3)\n",
    "    else:\n",
    "        scene.screenshot(name=\"50um_Coro_SNc\", scale = 3)\n",
    "    scene.close()"
   ]
  },
  {
   "cell_type": "markdown",
   "metadata": {},
   "source": [
    "# Creation of the figure"
   ]
  },
  {
   "cell_type": "code",
   "execution_count": null,
   "metadata": {},
   "outputs": [],
   "source": [
    "import matplotlib.pyplot as plt\n",
    "#Main Axes  V\n",
    "plt.axes([0.1,0.1,1.2,1.2])\n",
    "plt.xticks([]), plt.yticks([])\n",
    "#plt.text(0.1,0.6, '1',ha='center',va='center',size=20,alpha=.5)\n",
    "\n",
    "\n",
    "#Right Axe\n",
    "#plt.axes([0.9,0.15,.35,1.1])\n",
    "#plt.xticks([]), plt.yticks([])\n",
    "#plt.text(0.5,0.5, 'axes([0.6,0.1,.3,.8])',ha='center',va='center',size=16,alpha=.5)\n",
    "\n",
    "#Right - Top part\n",
    "plt.axes([0.9,0.975,.35,0.275])\n",
    "plt.xticks([]), plt.yticks([])\n",
    "#plt.text(0.1,0.6, 'axes([0.1,0.1,.8,.8])',ha='center',va='center',size=20,alpha=.5)\n",
    "\n",
    "#Right - Middle up part\n",
    "plt.axes([0.9,0.7,.35,0.275])\n",
    "plt.xticks([]), plt.yticks([])\n",
    "#plt.text(0.1,0.6, 'axes([0.1,0.1,.8,.8])',ha='center',va='center',size=20,alpha=.5)\n",
    "\n",
    "#Right - Middle Down part\n",
    "plt.axes([0.9,0.425,.35,0.275])\n",
    "plt.xticks([]), plt.yticks([])\n",
    "#plt.text(0.1,0.6, 'axes([0.1,0.1,.8,.8])',ha='center',va='center',size=20,alpha=.5)\n",
    "\n",
    "#Right- Down part\n",
    "plt.axes([0.9,0.150,.35,0.275])\n",
    "plt.xticks([]), plt.yticks([])\n",
    "#plt.text(0.1,0.6, 'axes([0.1,0.1,.8,.8])',ha='center',va='center',size=20,alpha=.5)\n",
    "\n",
    "#LEFT - UP and DOWN axes  V\n",
    "plt.axes([0.15,0.70,0.70,0.55])\n",
    "plt.xticks([]), plt.yticks([])\n",
    "#plt.text(0.1,0.6, 'axes([0.1,0.1,.8,.8])',ha='center',va='center',size=20,alpha=.5)\n",
    "\n",
    "plt.axes([0.15,0.15,0.7,0.55])\n",
    "plt.xticks([]), plt.yticks([])\n",
    "#plt.text(0.1,0.6, 'axes([0.1,0.1,.8,.8])',ha='center',va='center',size=20,alpha=.5)\n",
    "\n",
    "#plt.savefig(\"../figures/axes.png\",dpi=64)\n",
    "plt.show()()"
   ]
  },
  {
   "cell_type": "code",
   "execution_count": 25,
   "metadata": {},
   "outputs": [
    {
     "data": {
      "image/png": "[encoded data removed]"
     },
     "metadata": {},
     "output_type": "display_data"
    }
   ],
   "source": [
    "from pylab import *\n",
    "import matplotlib.gridspec as gridspec\n",
    "import matplotlib.pyplot as plt\n",
    "from PIL import Image\n",
    "import matplotlib.pyplot as plt\n",
    "\n",
    "list_coor = [-1700, 0, +2700, +4040] # Bregma corresponding coordinates\n",
    "image=[]\n",
    "for section in list_coor:\n",
    "    Cor = Image.open(\"../Screenshot_Brainrender/50um_Coro_Breg_{}_mm.png\".format(section/1000))\n",
    "    image.append(Cor)\n",
    "\n",
    "hor = Image.open(\"../Screenshot_Brainrender/50um_Horizontal_New.png\")\n",
    "whole = Image.open(\"../Screenshot_Brainrender/50um_Whole_New.png\")\n",
    "\n",
    "G = gridspec.GridSpec(nrows=4, ncols=3,left=0.25)\n",
    "\n",
    "axes_1 = subplot(G[0:2, 0:2])\n",
    "xticks([]), yticks([])\n",
    "#text(0.5,0.5, 'Axes 1',ha='center',va='center',size=24,alpha=.5)\n",
    "plt.imshow(whole)\n",
    "\n",
    "axes_2 = subplot(G[2:4,0:2])\n",
    "xticks([]), yticks([])\n",
    "#text(0.5,0.5, 'Axes 2',ha='center',va='center',size=24,alpha=.5)\n",
    "plt.imshow(hor)\n",
    "\n",
    "axes_3 = subplot(G[0, 2])\n",
    "xticks([]), yticks([])\n",
    "text(0.5,0.5, 'Bregma = 1.7mm',ha='left',va='bottom',size=9,alpha=1)\n",
    "plt.imshow(image[0])\n",
    "\n",
    "axes_4 = subplot(G[1,2])\n",
    "xticks([]), yticks([])\n",
    "text(0.5,0.5, 'Bregma = 0mm',ha='left',va='bottom',size=9,alpha=1)\n",
    "plt.imshow(image[1])\n",
    "\n",
    "axes_5 = subplot(G[2,2])\n",
    "xticks([]), yticks([])\n",
    "text(0.5,0.5, 'Bregma = -2.7mm',ha='left',va='bottom',size=9,alpha=1)\n",
    "plt.imshow(image[2])\n",
    "\n",
    "\n",
    "axes_6 = subplot(G[3,2])\n",
    "xticks([]), yticks([])\n",
    "text(0.5,0.5, 'Bregma = -5.4mm',ha='left',va='bottom',size=9,alpha=1)\n",
    "plt.imshow(image[3])\n",
    "\n",
    "plt.savefig('../Screenshot_Brainrender/Summary_figure.png', dpi=300)\n",
    "plt.savefig('../Screenshot_Brainrender/Summary_figure.pdf', dpi=300)\n",
    "plt.show()"
   ]
  },
  {
   "cell_type": "markdown",
   "metadata": {},
   "source": [
    "# Different MPI and Seeding"
   ]
  },
  {
   "cell_type": "markdown",
   "metadata": {},
   "source": [
    "# a) Seed = CPU"
   ]
  },
  {
   "cell_type": "code",
   "execution_count": 3,
   "metadata": {},
   "outputs": [
    {
     "name": "stderr",
     "output_type": "stream",
     "text": [
      "  0%|          | 0/3 [00:04<?, ?it/s]\n"
     ]
    },
    {
     "ename": "NameError",
     "evalue": "name 'data_cpu' is not defined",
     "output_type": "error",
     "traceback": [
      "\u001b[1;31m---------------------------------------------------------------------------\u001b[0m",
      "\u001b[1;31mNameError\u001b[0m                                 Traceback (most recent call last)",
      "\u001b[1;32m<ipython-input-3-d070cf724641>\u001b[0m in \u001b[0;36m<module>\u001b[1;34m\u001b[0m\n\u001b[0;32m     23\u001b[0m \u001b[1;33m\u001b[0m\u001b[0m\n\u001b[0;32m     24\u001b[0m         \u001b[1;31m# Add brain regions\u001b[0m\u001b[1;33m\u001b[0m\u001b[1;33m\u001b[0m\u001b[1;33m\u001b[0m\u001b[0m\n\u001b[1;32m---> 25\u001b[1;33m         \u001b[1;32mfor\u001b[0m \u001b[0mr\u001b[0m \u001b[1;32min\u001b[0m \u001b[0mdata_cpu\u001b[0m\u001b[1;33m.\u001b[0m\u001b[0mindex\u001b[0m\u001b[1;33m:\u001b[0m\u001b[1;33m\u001b[0m\u001b[1;33m\u001b[0m\u001b[0m\n\u001b[0m\u001b[0;32m     26\u001b[0m \u001b[1;33m\u001b[0m\u001b[0m\n\u001b[0;32m     27\u001b[0m             \u001b[0mregion_to_plot\u001b[0m \u001b[1;33m=\u001b[0m \u001b[0mdata_cpu\u001b[0m\u001b[1;33m.\u001b[0m\u001b[0mloc\u001b[0m\u001b[1;33m[\u001b[0m\u001b[0mr\u001b[0m\u001b[1;33m,\u001b[0m \u001b[1;34m\"br_regions\"\u001b[0m\u001b[1;33m]\u001b[0m\u001b[1;33m\u001b[0m\u001b[1;33m\u001b[0m\u001b[0m\n",
      "\u001b[1;31mNameError\u001b[0m: name 'data_cpu' is not defined"
     ]
    }
   ],
   "source": [
    "from brainrender import Scene, atlas\n",
    "from tqdm import tqdm\n",
    "\n",
    "list_coor = [-1700, 0, +2700, +3000, +4040] # Bregma corresponding coordinates\n",
    "timepoints = [1,3,6]\n",
    "for t in tqdm(timepoints):\n",
    "    \n",
    "    for section in list_coor:\n",
    "        bregma = np.array([5400,  # AP    \n",
    "              0,  # DV    \n",
    "              5700,]) # ML\n",
    "\n",
    "        bregma[0] = bregma[0] + section\n",
    "\n",
    "        # Create a brainrender scene\n",
    "        scene = Scene(title=\"-Coronal section Bregma {} mm -50um thickness- Seed = CPu - MPI {}\".format(section/1000,t), inset=False,screenshots_folder=\"../Screenshot_Brainrender/CPu_MPIs\")\n",
    "        frontal_camera = {\n",
    "             'pos': (-19781, 3777, -5832),\n",
    "             'viewup': (0, -1, 0),\n",
    "             'clippingRange': (24465, 26836),\n",
    "            'focalPoint': (5705, 3991, -5691),\n",
    "             'distance': 25487}\n",
    "\n",
    "        # Add brain regions\n",
    "        for r in data_cpu.index:\n",
    "\n",
    "            region_to_plot = data_cpu.loc[r, \"br_regions\"]\n",
    "            color = cmap(data_cpu.loc[r, 'MPI{}'.format(t)])[:3]\n",
    "            alpha =  cmap(data_cpu.loc[r, 'MPI{}'.format(t)])[:3]\n",
    "            scene.add_brain_region(region_to_plot, color=color, alpha=1, hemisphere=data_cpu.loc[r, 'hem'], silhouette=True)\n",
    "\n",
    "\n",
    "        plane_1 = scene.atlas.get_plane(pos=bregma+50, plane=\"frontal\", norm=(-1, 0, 0), alpha=1, color=\"white\") # Thickness: 150 um\n",
    "        plane_2 = scene.atlas.get_plane(pos=bregma-50, plane=\"frontal\", norm=(1, 0, 0), alpha=1, color=\"white\")\n",
    "        scene.slice(plane_1, close_actors=True)\n",
    "        scene.slice(plane_2, close_actors=True)\n",
    "\n",
    "\n",
    "        brainrender.settings.SHADER_STYLE = \"cartoon\" #[metallic, plastic, shiny, glossy]\n",
    "        brainrender.settings.ROOT_ALPHA = 0.15\n",
    "        brainrender.settings.ROOT_COLOR  = [0.4, 0.4, 0.4]\n",
    "        brainrender.settings.OFFSCREEN = True\n",
    "        brainrender.settings.SHOW_AXES = False\n",
    "        brainrender.settings.BACKGROUND_COLOR = \"white\"\n",
    "        scene.render(atlas_name='allen_mouse_50um', camera= frontal_camera, zoom=1.5)\n",
    "        scene.screenshot(name=\"50um_CPu_MPI{}_Breg_{}_mm\".format(t,section/1000), scale = 3)"
   ]
  },
  {
   "cell_type": "markdown",
   "metadata": {},
   "source": [
    "# b) Seed = SNc"
   ]
  },
  {
   "cell_type": "code",
   "execution_count": 4,
   "metadata": {},
   "outputs": [
    {
     "name": "stderr",
     "output_type": "stream",
     "text": [
      "  0%|          | 0/3 [00:00<?, ?it/s]"
     ]
    },
    {
     "data": {
      "text/html": [
       "<pre style=\"white-space:pre;overflow-x:auto;line-height:normal;font-family:Menlo,'DejaVu Sans Mono',consolas,'Courier New',monospace\">\n",
       "Saving new screenshot at 50um_SNc_MPI1_Breg_-<span style=\"color: #000080; font-weight: bold\">2.</span>1_mm.png\n",
       "\n",
       "</pre>\n"
      ]
     },
     "metadata": {},
     "output_type": "display_data"
    },
    {
     "data": {
      "text/html": [
       "<pre style=\"white-space:pre;overflow-x:auto;line-height:normal;font-family:Menlo,'DejaVu Sans Mono',consolas,'Courier New',monospace\">\n",
       "Saving new screenshot at 50um_SNc_MPI1_Breg_-<span style=\"color: #000080; font-weight: bold\">1.</span>08_mm.png\n",
       "\n",
       "</pre>\n"
      ]
     },
     "metadata": {},
     "output_type": "display_data"
    },
    {
     "data": {
      "text/html": [
       "<pre style=\"white-space:pre;overflow-x:auto;line-height:normal;font-family:Menlo,'DejaVu Sans Mono',consolas,'Courier New',monospace\">\n",
       "Saving new screenshot at 50um_SNc_MPI1_Breg_1.36_mm.png\n",
       "\n",
       "</pre>\n"
      ]
     },
     "metadata": {},
     "output_type": "display_data"
    },
    {
     "data": {
      "text/html": [
       "<pre style=\"white-space:pre;overflow-x:auto;line-height:normal;font-family:Menlo,'DejaVu Sans Mono',consolas,'Courier New',monospace\">\n",
       "Saving new screenshot at 50um_SNc_MPI1_Breg_2.82_mm.png\n",
       "\n",
       "</pre>\n"
      ]
     },
     "metadata": {},
     "output_type": "display_data"
    },
    {
     "data": {
      "text/html": [
       "<pre style=\"white-space:pre;overflow-x:auto;line-height:normal;font-family:Menlo,'DejaVu Sans Mono',consolas,'Courier New',monospace\">\n",
       "Saving new screenshot at 50um_SNc_MPI1_Breg_4.5_mm.png\n",
       "\n",
       "</pre>\n"
      ]
     },
     "metadata": {},
     "output_type": "display_data"
    },
    {
     "name": "stderr",
     "output_type": "stream",
     "text": [
      " 33%|███▎      | 1/3 [01:05<02:11, 65.94s/it]"
     ]
    },
    {
     "data": {
      "text/html": [
       "<pre style=\"white-space:pre;overflow-x:auto;line-height:normal;font-family:Menlo,'DejaVu Sans Mono',consolas,'Courier New',monospace\">\n",
       "Saving new screenshot at 50um_SNc_MPI3_Breg_-<span style=\"color: #000080; font-weight: bold\">2.</span>1_mm.png\n",
       "\n",
       "</pre>\n"
      ]
     },
     "metadata": {},
     "output_type": "display_data"
    },
    {
     "data": {
      "text/html": [
       "<pre style=\"white-space:pre;overflow-x:auto;line-height:normal;font-family:Menlo,'DejaVu Sans Mono',consolas,'Courier New',monospace\">\n",
       "Saving new screenshot at 50um_SNc_MPI3_Breg_-<span style=\"color: #000080; font-weight: bold\">1.</span>08_mm.png\n",
       "\n",
       "</pre>\n"
      ]
     },
     "metadata": {},
     "output_type": "display_data"
    },
    {
     "data": {
      "text/html": [
       "<pre style=\"white-space:pre;overflow-x:auto;line-height:normal;font-family:Menlo,'DejaVu Sans Mono',consolas,'Courier New',monospace\">\n",
       "Saving new screenshot at 50um_SNc_MPI3_Breg_1.36_mm.png\n",
       "\n",
       "</pre>\n"
      ]
     },
     "metadata": {},
     "output_type": "display_data"
    },
    {
     "data": {
      "text/html": [
       "<pre style=\"white-space:pre;overflow-x:auto;line-height:normal;font-family:Menlo,'DejaVu Sans Mono',consolas,'Courier New',monospace\">\n",
       "Saving new screenshot at 50um_SNc_MPI3_Breg_2.82_mm.png\n",
       "\n",
       "</pre>\n"
      ]
     },
     "metadata": {},
     "output_type": "display_data"
    },
    {
     "data": {
      "text/html": [
       "<pre style=\"white-space:pre;overflow-x:auto;line-height:normal;font-family:Menlo,'DejaVu Sans Mono',consolas,'Courier New',monospace\">\n",
       "Saving new screenshot at 50um_SNc_MPI3_Breg_4.5_mm.png\n",
       "\n",
       "</pre>\n"
      ]
     },
     "metadata": {},
     "output_type": "display_data"
    },
    {
     "name": "stderr",
     "output_type": "stream",
     "text": [
      " 67%|██████▋   | 2/3 [02:07<01:04, 64.58s/it]"
     ]
    },
    {
     "data": {
      "text/html": [
       "<pre style=\"white-space:pre;overflow-x:auto;line-height:normal;font-family:Menlo,'DejaVu Sans Mono',consolas,'Courier New',monospace\">\n",
       "Saving new screenshot at 50um_SNc_MPI6_Breg_-<span style=\"color: #000080; font-weight: bold\">2.</span>1_mm.png\n",
       "\n",
       "</pre>\n"
      ]
     },
     "metadata": {},
     "output_type": "display_data"
    },
    {
     "data": {
      "text/html": [
       "<pre style=\"white-space:pre;overflow-x:auto;line-height:normal;font-family:Menlo,'DejaVu Sans Mono',consolas,'Courier New',monospace\">\n",
       "Saving new screenshot at 50um_SNc_MPI6_Breg_-<span style=\"color: #000080; font-weight: bold\">1.</span>08_mm.png\n",
       "\n",
       "</pre>\n"
      ]
     },
     "metadata": {},
     "output_type": "display_data"
    },
    {
     "data": {
      "text/html": [
       "<pre style=\"white-space:pre;overflow-x:auto;line-height:normal;font-family:Menlo,'DejaVu Sans Mono',consolas,'Courier New',monospace\">\n",
       "Saving new screenshot at 50um_SNc_MPI6_Breg_1.36_mm.png\n",
       "\n",
       "</pre>\n"
      ]
     },
     "metadata": {},
     "output_type": "display_data"
    },
    {
     "data": {
      "text/html": [
       "<pre style=\"white-space:pre;overflow-x:auto;line-height:normal;font-family:Menlo,'DejaVu Sans Mono',consolas,'Courier New',monospace\">\n",
       "Saving new screenshot at 50um_SNc_MPI6_Breg_2.82_mm.png\n",
       "\n",
       "</pre>\n"
      ]
     },
     "metadata": {},
     "output_type": "display_data"
    },
    {
     "data": {
      "text/html": [
       "<pre style=\"white-space:pre;overflow-x:auto;line-height:normal;font-family:Menlo,'DejaVu Sans Mono',consolas,'Courier New',monospace\">\n",
       "Saving new screenshot at 50um_SNc_MPI6_Breg_4.5_mm.png\n",
       "\n",
       "</pre>\n"
      ]
     },
     "metadata": {},
     "output_type": "display_data"
    },
    {
     "name": "stderr",
     "output_type": "stream",
     "text": [
      "100%|██████████| 3/3 [03:08<00:00, 62.90s/it]\n"
     ]
    }
   ],
   "source": [
    "from vedo import embedWindow\n",
    "embedWindow(None)\n",
    "from tqdm import tqdm\n",
    "from brainrender import Scene\n",
    "import brainrender\n",
    "import os\n",
    "import pandas as pd\n",
    "import matplotlib.pyplot as plt\n",
    "import numpy as np\n",
    "from PIL import Image\n",
    "\n",
    "cmap = plt.get_cmap('Reds')\n",
    "\n",
    "data_sn = pd.read_csv('../output/predicted_pathology_iSN.csv')\n",
    "reg_names = pd.read_excel('./Data83018/BrainR_ROInames.xlsx')\n",
    "\n",
    "data_sn.head()\n",
    "\n",
    "# Matching with BrainRender\n",
    "for r in data_sn.index:\n",
    "    \n",
    "    names = reg_names[reg_names['ROInames'] == data_sn.loc[r, 'regions']]['BrainR']\n",
    "    \n",
    "    if len(names) > 1:\n",
    "         data_sn.loc[r, 'br_regions'] = list(names)[0]\n",
    "    elif len(names) == 1:    \n",
    "        data_sn.loc[r, 'br_regions'] = names.values\n",
    "        \n",
    "for r in data_sn.index:\n",
    "    \n",
    "    if data_sn.loc[r, 'regions'][0] == 'i':\n",
    "        data_sn.loc[r, 'hem'] = 'right'\n",
    "    elif data_sn.loc[r, 'regions'][0] == 'c':\n",
    "        data_sn.loc[r, 'hem'] = 'left' \n",
    "        \n",
    "# Normalization using Max and Min - Seed Pir\n",
    "max_SN= np.max(data_sn['MPI6'])\n",
    "min_SN = np.min(data_sn['MPI1'])\n",
    "\n",
    "data_sn['MPI6'] = (data_sn['MPI6'] - min_SN) / (max_SN - min_SN)\n",
    "data_sn['MPI3'] = (data_sn['MPI3'] - min_SN) / (max_SN - min_SN)\n",
    "data_sn['MPI1'] = (data_sn['MPI1'] - min_SN) / (max_SN - min_SN)\n",
    "data_sn = data_sn.dropna()\n",
    "\n",
    "data_sn.head()\n",
    "#list_coor = [-1700, 0, +2700, +3000, +4040] # Bregma corresponding coordinates\n",
    "list_coor = [-2100, -1080, +1360, +2820, +4500] # Bregma corresponding coordinates\n",
    "\n",
    "timepoints = [1,3,6]\n",
    "for t in tqdm(timepoints):\n",
    "    \n",
    "    for section in list_coor:\n",
    "        bregma = np.array([5400,  # AP    \n",
    "              0,  # DV    \n",
    "              5700,]) # ML\n",
    "\n",
    "        bregma[0] = bregma[0] + section\n",
    "\n",
    "        # Create a brainrender scene\n",
    "        scene = Scene(inset=False,screenshots_folder=\"../Screenshot_Brainrender/SN_MPIs\")\n",
    "        frontal_camera = {\n",
    "             'pos': (-19781, 3777, -5832),\n",
    "             'viewup': (0, -1, 0),\n",
    "             'clippingRange': (25465, 26836),\n",
    "            'focalPoint': (5705, 3991, -5691),\n",
    "             'distance': 25487}\n",
    "\n",
    "        # Add brain regions\n",
    "        for r in data_sn.index:\n",
    "\n",
    "            region_to_plot = data_sn.loc[r, \"br_regions\"]\n",
    "            color = cmap(data_sn.loc[r, 'MPI{}'.format(t)])[:3]\n",
    "            alpha =  cmap(data_sn.loc[r, 'MPI{}'.format(t)])[:3]\n",
    "            scene.add_brain_region(region_to_plot, color=color, alpha=1, hemisphere=data_sn.loc[r, 'hem'], silhouette=True) #alpha=data_cpu.loc[r, 'MPI{}'.format(t)]\n",
    "\n",
    "\n",
    "        plane_1 = scene.atlas.get_plane(pos=bregma+50, plane=\"frontal\", norm=(-1, 0, 0), alpha=1, color=\"white\") # Thickness: 150 um\n",
    "        plane_2 = scene.atlas.get_plane(pos=bregma-50, plane=\"frontal\", norm=(1, 0, 0), alpha=1, color=\"white\")\n",
    "        scene.slice(plane_1, close_actors=True)\n",
    "        scene.slice(plane_2, close_actors=True)\n",
    "\n",
    "\n",
    "        brainrender.settings.SHADER_STYLE = \"cartoon\" #[metallic, plastic, shiny, glossy]\n",
    "        brainrender.settings.ROOT_ALPHA = 0.15\n",
    "        brainrender.settings.ROOT_COLOR  = [0.4, 0.4, 0.4]\n",
    "        brainrender.settings.OFFSCREEN = True\n",
    "        brainrender.settings.SHOW_AXES = False\n",
    "        brainrender.settings.BACKGROUND_COLOR = \"white\"\n",
    "        scene.render(atlas_name='allen_mouse_50um', camera= frontal_camera, zoom=1.5)\n",
    "        scene.screenshot(name=\"50um_SNc_MPI{}_Breg_{}_mm\".format(t,section/1000), scale = 3)\n",
    "        img_totranspose = Image.open(\"../Screenshot_Brainrender\\SN_MPIs/50um_SNc_MPI{}_Breg_{}_mm.png\".format(t,section/1000))\n",
    "        img_totranspose = img_totranspose.transpose(Image.FLIP_LEFT_RIGHT)\n",
    "        img_totranspose.save(\"../Screenshot_Brainrender\\SN_MPIs/50um_SNc_MPI{}_Breg_{}_mm.png\".format(t,section/1000))\n",
    "#         title=\"-Coronal section Bregma {} mm -50um thickness- Seed = SN - MPI {}\".format(-section/1000,t),\n",
    "        scene.close()"
   ]
  },
  {
   "cell_type": "markdown",
   "metadata": {},
   "source": [
    "# c) Seed = Pir"
   ]
  },
  {
   "cell_type": "code",
   "execution_count": 5,
   "metadata": {},
   "outputs": [
    {
     "name": "stderr",
     "output_type": "stream",
     "text": [
      "  0%|          | 0/3 [00:00<?, ?it/s]"
     ]
    },
    {
     "data": {
      "text/html": [
       "<pre style=\"white-space:pre;overflow-x:auto;line-height:normal;font-family:Menlo,'DejaVu Sans Mono',consolas,'Courier New',monospace\">\n",
       "Saving new screenshot at 50um_Pir_MPI1_Breg_2.1_mm.png\n",
       "\n",
       "</pre>\n"
      ]
     },
     "metadata": {},
     "output_type": "display_data"
    },
    {
     "data": {
      "text/html": [
       "<pre style=\"white-space:pre;overflow-x:auto;line-height:normal;font-family:Menlo,'DejaVu Sans Mono',consolas,'Courier New',monospace\">\n",
       "Saving new screenshot at 50um_Pir_MPI1_Breg_1.08_mm.png\n",
       "\n",
       "</pre>\n"
      ]
     },
     "metadata": {},
     "output_type": "display_data"
    },
    {
     "data": {
      "text/html": [
       "<pre style=\"white-space:pre;overflow-x:auto;line-height:normal;font-family:Menlo,'DejaVu Sans Mono',consolas,'Courier New',monospace\">\n",
       "Saving new screenshot at 50um_Pir_MPI1_Breg_-<span style=\"color: #000080; font-weight: bold\">1.</span>36_mm.png\n",
       "\n",
       "</pre>\n"
      ]
     },
     "metadata": {},
     "output_type": "display_data"
    },
    {
     "data": {
      "text/html": [
       "<pre style=\"white-space:pre;overflow-x:auto;line-height:normal;font-family:Menlo,'DejaVu Sans Mono',consolas,'Courier New',monospace\">\n",
       "Saving new screenshot at 50um_Pir_MPI1_Breg_-<span style=\"color: #000080; font-weight: bold\">2.</span>82_mm.png\n",
       "\n",
       "</pre>\n"
      ]
     },
     "metadata": {},
     "output_type": "display_data"
    },
    {
     "data": {
      "text/html": [
       "<pre style=\"white-space:pre;overflow-x:auto;line-height:normal;font-family:Menlo,'DejaVu Sans Mono',consolas,'Courier New',monospace\">\n",
       "Saving new screenshot at 50um_Pir_MPI1_Breg_-<span style=\"color: #000080; font-weight: bold\">4.</span>5_mm.png\n",
       "\n",
       "</pre>\n"
      ]
     },
     "metadata": {},
     "output_type": "display_data"
    },
    {
     "name": "stderr",
     "output_type": "stream",
     "text": [
      " 33%|███▎      | 1/3 [00:59<01:58, 59.15s/it]"
     ]
    },
    {
     "data": {
      "text/html": [
       "<pre style=\"white-space:pre;overflow-x:auto;line-height:normal;font-family:Menlo,'DejaVu Sans Mono',consolas,'Courier New',monospace\">\n",
       "Saving new screenshot at 50um_Pir_MPI3_Breg_2.1_mm.png\n",
       "\n",
       "</pre>\n"
      ]
     },
     "metadata": {},
     "output_type": "display_data"
    },
    {
     "data": {
      "text/html": [
       "<pre style=\"white-space:pre;overflow-x:auto;line-height:normal;font-family:Menlo,'DejaVu Sans Mono',consolas,'Courier New',monospace\">\n",
       "Saving new screenshot at 50um_Pir_MPI3_Breg_1.08_mm.png\n",
       "\n",
       "</pre>\n"
      ]
     },
     "metadata": {},
     "output_type": "display_data"
    },
    {
     "data": {
      "text/html": [
       "<pre style=\"white-space:pre;overflow-x:auto;line-height:normal;font-family:Menlo,'DejaVu Sans Mono',consolas,'Courier New',monospace\">\n",
       "Saving new screenshot at 50um_Pir_MPI3_Breg_-<span style=\"color: #000080; font-weight: bold\">1.</span>36_mm.png\n",
       "\n",
       "</pre>\n"
      ]
     },
     "metadata": {},
     "output_type": "display_data"
    },
    {
     "data": {
      "text/html": [
       "<pre style=\"white-space:pre;overflow-x:auto;line-height:normal;font-family:Menlo,'DejaVu Sans Mono',consolas,'Courier New',monospace\">\n",
       "Saving new screenshot at 50um_Pir_MPI3_Breg_-<span style=\"color: #000080; font-weight: bold\">2.</span>82_mm.png\n",
       "\n",
       "</pre>\n"
      ]
     },
     "metadata": {},
     "output_type": "display_data"
    },
    {
     "data": {
      "text/html": [
       "<pre style=\"white-space:pre;overflow-x:auto;line-height:normal;font-family:Menlo,'DejaVu Sans Mono',consolas,'Courier New',monospace\">\n",
       "Saving new screenshot at 50um_Pir_MPI3_Breg_-<span style=\"color: #000080; font-weight: bold\">4.</span>5_mm.png\n",
       "\n",
       "</pre>\n"
      ]
     },
     "metadata": {},
     "output_type": "display_data"
    },
    {
     "name": "stderr",
     "output_type": "stream",
     "text": [
      " 67%|██████▋   | 2/3 [02:01<01:00, 60.12s/it]"
     ]
    },
    {
     "data": {
      "text/html": [
       "<pre style=\"white-space:pre;overflow-x:auto;line-height:normal;font-family:Menlo,'DejaVu Sans Mono',consolas,'Courier New',monospace\">\n",
       "Saving new screenshot at 50um_Pir_MPI6_Breg_2.1_mm.png\n",
       "\n",
       "</pre>\n"
      ]
     },
     "metadata": {},
     "output_type": "display_data"
    },
    {
     "data": {
      "text/html": [
       "<pre style=\"white-space:pre;overflow-x:auto;line-height:normal;font-family:Menlo,'DejaVu Sans Mono',consolas,'Courier New',monospace\">\n",
       "Saving new screenshot at 50um_Pir_MPI6_Breg_1.08_mm.png\n",
       "\n",
       "</pre>\n"
      ]
     },
     "metadata": {},
     "output_type": "display_data"
    },
    {
     "data": {
      "text/html": [
       "<pre style=\"white-space:pre;overflow-x:auto;line-height:normal;font-family:Menlo,'DejaVu Sans Mono',consolas,'Courier New',monospace\">\n",
       "Saving new screenshot at 50um_Pir_MPI6_Breg_-<span style=\"color: #000080; font-weight: bold\">1.</span>36_mm.png\n",
       "\n",
       "</pre>\n"
      ]
     },
     "metadata": {},
     "output_type": "display_data"
    },
    {
     "data": {
      "text/html": [
       "<pre style=\"white-space:pre;overflow-x:auto;line-height:normal;font-family:Menlo,'DejaVu Sans Mono',consolas,'Courier New',monospace\">\n",
       "Saving new screenshot at 50um_Pir_MPI6_Breg_-<span style=\"color: #000080; font-weight: bold\">2.</span>82_mm.png\n",
       "\n",
       "</pre>\n"
      ]
     },
     "metadata": {},
     "output_type": "display_data"
    },
    {
     "data": {
      "text/html": [
       "<pre style=\"white-space:pre;overflow-x:auto;line-height:normal;font-family:Menlo,'DejaVu Sans Mono',consolas,'Courier New',monospace\">\n",
       "Saving new screenshot at 50um_Pir_MPI6_Breg_-<span style=\"color: #000080; font-weight: bold\">4.</span>5_mm.png\n",
       "\n",
       "</pre>\n"
      ]
     },
     "metadata": {},
     "output_type": "display_data"
    },
    {
     "name": "stderr",
     "output_type": "stream",
     "text": [
      "100%|██████████| 3/3 [03:02<00:00, 60.69s/it]\n"
     ]
    }
   ],
   "source": [
    "from vedo import embedWindow\n",
    "embedWindow(None)\n",
    "\n",
    "from brainrender import Scene\n",
    "import brainrender\n",
    "import os\n",
    "import pandas as pd\n",
    "import matplotlib.pyplot as plt\n",
    "import numpy as np\n",
    "cmap = plt.get_cmap('Reds')\n",
    "\n",
    "data_pir = pd.read_csv('../output/predicted_pathology_iPir.csv')\n",
    "reg_names = pd.read_excel('./Data83018/BrainR_ROInames.xlsx')\n",
    "\n",
    "data_pir.head()\n",
    "\n",
    "# Matching with BrainRender\n",
    "for r in data_pir.index:\n",
    "    \n",
    "    names = reg_names[reg_names['ROInames'] == data_pir.loc[r, 'regions']]['BrainR']\n",
    "    \n",
    "    if len(names) > 1:\n",
    "         data_pir.loc[r, 'br_regions'] = list(names)[0]\n",
    "    elif len(names) == 1:    \n",
    "        data_pir.loc[r, 'br_regions'] = names.values\n",
    "        \n",
    "for r in data_pir.index:\n",
    "    \n",
    "    if data_pir.loc[r, 'regions'][0] == 'i':\n",
    "        data_pir.loc[r, 'hem'] = 'right'\n",
    "    elif data_pir.loc[r, 'regions'][0] == 'c':\n",
    "        data_pir.loc[r, 'hem'] = 'left' \n",
    "        \n",
    "# Normalization using Max and Min - Seed Pir\n",
    "max_Pir= np.max(data_pir['MPI6'])\n",
    "min_Pir = np.min(data_pir['MPI1'])\n",
    "\n",
    "data_pir['MPI6'] = (data_pir['MPI6'] - min_Pir) / (max_Pir - min_Pir)\n",
    "data_pir['MPI3'] = (data_pir['MPI3'] - min_Pir) / (max_Pir - min_Pir)\n",
    "data_pir['MPI1'] = (data_pir['MPI1'] - min_Pir) / (max_Pir - min_Pir)\n",
    "data_pir = data_pir.dropna()\n",
    "\n",
    "data_pir.head()\n",
    "\n",
    "from brainrender import Scene, atlas\n",
    "from tqdm import tqdm\n",
    "\n",
    "list_coor = [-2100, -1080, +1360, +2820, +4500] # Bregma corresponding coordinates\n",
    "#list_coor = [-1700, 0, +2700, +3000, +4040] # Bregma corresponding coordinates\n",
    "\n",
    "timepoints = [1,3,6]\n",
    "\n",
    "# for r in data_pir.index:\n",
    "#      if data_pir.loc[r, \"br_regions\"] == \"PIR\" and data_pir.loc[r,'hem'] == 'right':\n",
    "#             data_pir = data_pir.drop(r)\n",
    "#             print(\"Dropping Seed\")\n",
    "\n",
    "for t in tqdm(timepoints):\n",
    "    \n",
    "    for section in list_coor:\n",
    "        bregma = np.array([5400,  # AP    \n",
    "              0,  # DV    \n",
    "              5700,]) # ML\n",
    "\n",
    "        bregma[0] = bregma[0] + section\n",
    "\n",
    "        # Create a brainrender scene\n",
    "        scene = Scene(inset=False,screenshots_folder=\"../Screenshot_Brainrender/PIR_MPIs\")\n",
    "        frontal_camera = {\n",
    "             'pos': (-19781, 3777, -5832),\n",
    "             'viewup': (0, -1, 0),\n",
    "             'clippingRange': (24465, 26836),\n",
    "            'focalPoint': (5705, 3991, -5691),\n",
    "             'distance': 25487}\n",
    "\n",
    "        # Add brain regions\n",
    "        for r in data_pir.index:\n",
    "\n",
    "            region_to_plot = data_pir.loc[r, \"br_regions\"]\n",
    "            color = cmap(100*data_pir.loc[r, 'MPI{}'.format(t)])[:3]\n",
    "            alpha =  cmap(data_pir.loc[r, 'MPI{}'.format(t)])[:3]\n",
    "            scene.add_brain_region(region_to_plot, color=color, alpha=1, hemisphere=data_pir.loc[r, 'hem'], silhouette=True) #alpha=data_cpu.loc[r, 'MPI{}'.format(t)]\n",
    "        \n",
    "        #scene.add_brain_region(\"PIR\", color=\"blue\", alpha=1, hemisphere='right', silhouette=True)\n",
    "\n",
    "\n",
    "        plane_1 = scene.atlas.get_plane(pos=bregma+50, plane=\"frontal\", norm=(-1, 0, 0), alpha=1, color=\"white\") # Thickness: 150 um\n",
    "        plane_2 = scene.atlas.get_plane(pos=bregma-50, plane=\"frontal\", norm=(1, 0, 0), alpha=1, color=\"white\")\n",
    "        scene.slice(plane_1, close_actors=True)\n",
    "        scene.slice(plane_2, close_actors=True)\n",
    "\n",
    "\n",
    "        brainrender.settings.SHADER_STYLE = \"cartoon\" #[metallic, plastic, shiny, glossy]\n",
    "        brainrender.settings.ROOT_ALPHA = 0.15\n",
    "        brainrender.settings.ROOT_COLOR  = [0.4, 0.4, 0.4]\n",
    "        brainrender.settings.OFFSCREEN = True\n",
    "        brainrender.settings.SHOW_AXES = False\n",
    "        brainrender.settings.BACKGROUND_COLOR = \"white\"\n",
    "        scene.render(atlas_name='allen_mouse_50um', camera= frontal_camera, zoom=1.5)\n",
    "        scene.screenshot(name=\"50um_Pir_MPI{}_Breg_{}_mm\".format(t,-section/1000), scale = 3)\n",
    "        img_totranspose = Image.open(\"../Screenshot_Brainrender\\PIR_MPIs/50um_Pir_MPI{}_Breg_{}_mm.png\".format(t,-section/1000))\n",
    "        img_totranspose = img_totranspose.transpose(Image.FLIP_LEFT_RIGHT)\n",
    "        img_totranspose.save(\"../Screenshot_Brainrender\\PIR_MPIs/50um_Pir_MPI{}_Breg_{}_mm.png\".format(t,-section/1000))\n",
    "        scene.close()"
   ]
  },
  {
   "cell_type": "code",
   "execution_count": 75,
   "metadata": {},
   "outputs": [
    {
     "data": {
      "text/html": [
       "<pre style=\"white-space:pre;overflow-x:auto;line-height:normal;font-family:Menlo,'DejaVu Sans Mono',consolas,'Courier New',monospace\">\n",
       "Saving new screenshot at brainrender_screenshot_20210304_160946.png\n",
       "\n",
       "</pre>\n"
      ]
     },
     "metadata": {},
     "output_type": "display_data"
    },
    {
     "data": {
      "text/html": [
       "<pre style=\"white-space:pre;overflow-x:auto;line-height:normal;font-family:Menlo,'DejaVu Sans Mono',consolas,'Courier New',monospace\">\n",
       "Saving new screenshot at brainrender_screenshot_20210304_160951.png\n",
       "\n",
       "</pre>\n"
      ]
     },
     "metadata": {},
     "output_type": "display_data"
    }
   ],
   "source": [
    "# Screenshot of Horizontal section\n",
    "#ATLAS 50 um, thickness 150um\n",
    "from brainrender import Scene, atlas\n",
    "from tqdm import tqdm\n",
    "cmap = plt.get_cmap('YlOrRd')\n",
    "\n",
    "scene = Scene(inset=False,screenshots_folder=\"../Screenshot_Brainrender/PIR_MPIs\")\n",
    "top_side_camera = {\n",
    "    \"pos\": (4405, -31597, -5411),\n",
    "    \"viewup\": (0, 0, -1),\n",
    "    \"clippingRange\": (26892, 46454),\n",
    "}\n",
    "\n",
    "# Add brain regions\n",
    "for r in data_pir.index:\n",
    "\n",
    "    region_to_plot = data_pir.loc[r, \"br_regions\"]\n",
    "    color = cmap(data_pir.loc[r, 'MPI6'])[:3]\n",
    "    #alpha =  cmap(data_cpu.loc[r, 'MPI6'])[:3]\n",
    "    scene.add_brain_region(region_to_plot, color=color, alpha=data_pir.loc[r, 'MPI6'], hemisphere=data_pir.loc[r, 'hem'], silhouette=True)\n",
    "\n",
    "cp = scene.atlas.get_region(\"CP\")\n",
    "plane = scene.atlas.get_plane(pos=cp.centerOfMass(), plane=\"horizontal\", norm=(0, 1, 0), alpha=1)\n",
    "scene.slice(plane=plane, close_actors=True)\n",
    "\n",
    "\n",
    "brainrender.settings.SHADER_STYLE = \"cartoon\" #[metallic, plastic, shiny, glossy]\n",
    "brainrender.settings.ROOT_ALPHA = 0.15\n",
    "brainrender.settings.ROOT_COLOR  = [0.8, 0.8, 0.8]\n",
    "brainrender.settings.OFFSCREEN = False\n",
    "brainrender.settings.SHOW_AXES = False\n",
    "brainrender.settings.BACKGROUND_COLOR = \"White\"\n",
    "scene.render(atlas_name='allen_mouse_50um', camera=top_side_camera, zoom=1.5)\n",
    "#scene.screenshot(name=\"TESThori\".format(section/1000), scale = 3)\n"
   ]
  },
  {
   "cell_type": "code",
   "execution_count": 83,
   "metadata": {},
   "outputs": [],
   "source": [
    "from brainrender import Scene\n",
    "from tqdm import tqdm\n",
    "\n",
    "# Create a brainrender scene\n",
    "scene = Scene(inset=False,screenshots_folder=\"../Screenshot_Brainrender/PIR_MPIs\")\n",
    "brainrender.settings.SHOW_AXES = False\n",
    "\n",
    "\n",
    "# Add brain regions Scene 1\n",
    "for r in data_pir.index:\n",
    "    \n",
    "    region_to_plot = data_pir.loc[r, \"br_regions\"]\n",
    "    color = cmap(data_pir.loc[r, 'MPI6'])[:3]\n",
    "    alpha =  cmap(data_pir.loc[r, 'MPI6'])[:3]\n",
    "    \n",
    "    #scene.add_brain_region(region_to_plot, color=color, alpha=data_cpu.loc[r, 'MPI6']) \n",
    "    scene.add_brain_region(region_to_plot, color=color, alpha=0.5, hemisphere=data_pir.loc[r, 'hem'], silhouette=True) #Alpha varies according to values\n",
    "    \n",
    "\n",
    "brainrender.settings.SHADER_STYLE = \"plastic\" #[metallic, plastic, shiny, glossy]\n",
    "brainrender.settings.ROOT_ALPHA = 0.3\n",
    "brainrender.settings.ROOT_COLOR  = [0.8, 0.8, 0.8]\n",
    "brainrender.settings.OFFSCREEN = False\n",
    "\n",
    "scene.render(atlas_name='allen_mouse_50um', zoom=1.5, silhouette=None)"
   ]
  },
  {
   "cell_type": "code",
   "execution_count": 82,
   "metadata": {},
   "outputs": [
    {
     "data": {
      "image/png": "[encoded data removed]"
     },
     "metadata": {},
     "output_type": "display_data"
    }
   ],
   "source": [
    "from pylab import *\n",
    "import matplotlib.gridspec as gridspec\n",
    "import matplotlib.pyplot as plt\n",
    "from PIL import Image\n",
    "import matplotlib.pyplot as plt\n",
    "\n",
    "list_coor = [-1700, 0, +2700, +4040] # Bregma corresponding coordinates\n",
    "image=[]\n",
    "for section in list_coor:\n",
    "    Cor = Image.open(\"../Screenshot_Brainrender/PIR_MPIs/50um_Pir_MPI6_Breg_{}_mm.png\".format(section/1000))\n",
    "    image.append(Cor)\n",
    "\n",
    "hor = Image.open(\"../Screenshot_Brainrender/PIR_MPIs/50_um_Pir.png\")\n",
    "whole = Image.open(\"../Screenshot_Brainrender/PIR_MPIs/50um_whole_Pir.png\")\n",
    "\n",
    "G = gridspec.GridSpec(nrows=4, ncols=3,left=0.25)\n",
    "\n",
    "axes_1 = subplot(G[0:2, 0:2])\n",
    "xticks([]), yticks([])\n",
    "#text(0.5,0.5, 'Axes 1',ha='center',va='center',size=24,alpha=.5)\n",
    "plt.imshow(whole)\n",
    "\n",
    "axes_2 = subplot(G[2:4,0:2])\n",
    "xticks([]), yticks([])\n",
    "#text(0.5,0.5, 'Axes 2',ha='center',va='center',size=24,alpha=.5)\n",
    "plt.imshow(hor)\n",
    "\n",
    "axes_3 = subplot(G[0, 2])\n",
    "xticks([]), yticks([])\n",
    "text(0.5,0.5, 'Bregma = -1.7mm',ha='left',va='bottom',size=9,alpha=1)\n",
    "plt.imshow(image[0])\n",
    "\n",
    "axes_4 = subplot(G[1,2])\n",
    "xticks([]), yticks([])\n",
    "text(0.5,0.5, 'Bregma = 0mm',ha='left',va='bottom',size=9,alpha=1)\n",
    "plt.imshow(image[1])\n",
    "\n",
    "axes_5 = subplot(G[2,2])\n",
    "xticks([]), yticks([])\n",
    "text(0.5,0.5, 'Bregma = 2.7mm',ha='left',va='bottom',size=9,alpha=1)\n",
    "plt.imshow(image[2])\n",
    "\n",
    "\n",
    "axes_6 = subplot(G[3,2])\n",
    "xticks([]), yticks([])\n",
    "text(0.5,0.5, 'Bregma = 5.4mm',ha='left',va='bottom',size=9,alpha=1)\n",
    "plt.imshow(image[3])\n",
    "\n",
    "plt.savefig('../Screenshot_Brainrender/Summary_figure_Pir.png', dpi=300)\n",
    "plt.savefig('../Screenshot_Brainrender/Summary_figure_Pir.pdf', dpi=300)\n",
    "plt.show()"
   ]
  },
  {
   "cell_type": "markdown",
   "metadata": {},
   "source": [
    " # HTML Export - Seed SN"
   ]
  },
  {
   "cell_type": "code",
   "execution_count": 21,
   "metadata": {},
   "outputs": [
    {
     "name": "stderr",
     "output_type": "stream",
     "text": [
      "  0%|          | 0/3 [00:00<?, ?it/s]"
     ]
    },
    {
     "data": {
      "text/html": [
       "<pre style=\"white-space:pre;overflow-x:auto;line-height:normal;font-family:Menlo,'DejaVu Sans Mono',consolas,'Courier New',monospace\">The brainrender scene has been exported for web. The results are saved at \n",
       "..\\html_BrainRender\\50um_SNc_MPI1_Breg_-<span style=\"color: #000080; font-weight: bold\">1.</span>7_mm.html\n",
       "</pre>\n"
      ]
     },
     "metadata": {},
     "output_type": "display_data"
    },
    {
     "data": {
      "text/html": [
       "<pre style=\"white-space:pre;overflow-x:auto;line-height:normal;font-family:Menlo,'DejaVu Sans Mono',consolas,'Courier New',monospace\">The brainrender scene has been exported for web. The results are saved at \n",
       "..\\html_BrainRender\\50um_SNc_MPI1_Breg_0.0_mm.html\n",
       "</pre>\n"
      ]
     },
     "metadata": {},
     "output_type": "display_data"
    },
    {
     "data": {
      "text/html": [
       "<pre style=\"white-space:pre;overflow-x:auto;line-height:normal;font-family:Menlo,'DejaVu Sans Mono',consolas,'Courier New',monospace\">The brainrender scene has been exported for web. The results are saved at \n",
       "..\\html_BrainRender\\50um_SNc_MPI1_Breg_2.7_mm.html\n",
       "</pre>\n"
      ]
     },
     "metadata": {},
     "output_type": "display_data"
    },
    {
     "data": {
      "text/html": [
       "<pre style=\"white-space:pre;overflow-x:auto;line-height:normal;font-family:Menlo,'DejaVu Sans Mono',consolas,'Courier New',monospace\">The brainrender scene has been exported for web. The results are saved at \n",
       "..\\html_BrainRender\\50um_SNc_MPI1_Breg_3.0_mm.html\n",
       "</pre>\n"
      ]
     },
     "metadata": {},
     "output_type": "display_data"
    },
    {
     "data": {
      "text/html": [
       "<pre style=\"white-space:pre;overflow-x:auto;line-height:normal;font-family:Menlo,'DejaVu Sans Mono',consolas,'Courier New',monospace\">The brainrender scene has been exported for web. The results are saved at \n",
       "..\\html_BrainRender\\50um_SNc_MPI1_Breg_4.04_mm.html\n",
       "</pre>\n"
      ]
     },
     "metadata": {},
     "output_type": "display_data"
    },
    {
     "name": "stderr",
     "output_type": "stream",
     "text": [
      " 33%|███▎      | 1/3 [01:03<02:07, 63.92s/it]"
     ]
    },
    {
     "data": {
      "text/html": [
       "<pre style=\"white-space:pre;overflow-x:auto;line-height:normal;font-family:Menlo,'DejaVu Sans Mono',consolas,'Courier New',monospace\">The brainrender scene has been exported for web. The results are saved at \n",
       "..\\html_BrainRender\\50um_SNc_MPI3_Breg_-<span style=\"color: #000080; font-weight: bold\">1.</span>7_mm.html\n",
       "</pre>\n"
      ]
     },
     "metadata": {},
     "output_type": "display_data"
    },
    {
     "data": {
      "text/html": [
       "<pre style=\"white-space:pre;overflow-x:auto;line-height:normal;font-family:Menlo,'DejaVu Sans Mono',consolas,'Courier New',monospace\">The brainrender scene has been exported for web. The results are saved at \n",
       "..\\html_BrainRender\\50um_SNc_MPI3_Breg_0.0_mm.html\n",
       "</pre>\n"
      ]
     },
     "metadata": {},
     "output_type": "display_data"
    },
    {
     "data": {
      "text/html": [
       "<pre style=\"white-space:pre;overflow-x:auto;line-height:normal;font-family:Menlo,'DejaVu Sans Mono',consolas,'Courier New',monospace\">The brainrender scene has been exported for web. The results are saved at \n",
       "..\\html_BrainRender\\50um_SNc_MPI3_Breg_2.7_mm.html\n",
       "</pre>\n"
      ]
     },
     "metadata": {},
     "output_type": "display_data"
    },
    {
     "data": {
      "text/html": [
       "<pre style=\"white-space:pre;overflow-x:auto;line-height:normal;font-family:Menlo,'DejaVu Sans Mono',consolas,'Courier New',monospace\">The brainrender scene has been exported for web. The results are saved at \n",
       "..\\html_BrainRender\\50um_SNc_MPI3_Breg_3.0_mm.html\n",
       "</pre>\n"
      ]
     },
     "metadata": {},
     "output_type": "display_data"
    },
    {
     "data": {
      "text/html": [
       "<pre style=\"white-space:pre;overflow-x:auto;line-height:normal;font-family:Menlo,'DejaVu Sans Mono',consolas,'Courier New',monospace\">The brainrender scene has been exported for web. The results are saved at \n",
       "..\\html_BrainRender\\50um_SNc_MPI3_Breg_4.04_mm.html\n",
       "</pre>\n"
      ]
     },
     "metadata": {},
     "output_type": "display_data"
    },
    {
     "name": "stderr",
     "output_type": "stream",
     "text": [
      " 67%|██████▋   | 2/3 [02:08<01:04, 64.21s/it]"
     ]
    },
    {
     "data": {
      "text/html": [
       "<pre style=\"white-space:pre;overflow-x:auto;line-height:normal;font-family:Menlo,'DejaVu Sans Mono',consolas,'Courier New',monospace\">The brainrender scene has been exported for web. The results are saved at \n",
       "..\\html_BrainRender\\50um_SNc_MPI6_Breg_-<span style=\"color: #000080; font-weight: bold\">1.</span>7_mm.html\n",
       "</pre>\n"
      ]
     },
     "metadata": {},
     "output_type": "display_data"
    },
    {
     "data": {
      "text/html": [
       "<pre style=\"white-space:pre;overflow-x:auto;line-height:normal;font-family:Menlo,'DejaVu Sans Mono',consolas,'Courier New',monospace\">The brainrender scene has been exported for web. The results are saved at \n",
       "..\\html_BrainRender\\50um_SNc_MPI6_Breg_0.0_mm.html\n",
       "</pre>\n"
      ]
     },
     "metadata": {},
     "output_type": "display_data"
    },
    {
     "data": {
      "text/html": [
       "<pre style=\"white-space:pre;overflow-x:auto;line-height:normal;font-family:Menlo,'DejaVu Sans Mono',consolas,'Courier New',monospace\">The brainrender scene has been exported for web. The results are saved at \n",
       "..\\html_BrainRender\\50um_SNc_MPI6_Breg_2.7_mm.html\n",
       "</pre>\n"
      ]
     },
     "metadata": {},
     "output_type": "display_data"
    },
    {
     "data": {
      "text/html": [
       "<pre style=\"white-space:pre;overflow-x:auto;line-height:normal;font-family:Menlo,'DejaVu Sans Mono',consolas,'Courier New',monospace\">The brainrender scene has been exported for web. The results are saved at \n",
       "..\\html_BrainRender\\50um_SNc_MPI6_Breg_3.0_mm.html\n",
       "</pre>\n"
      ]
     },
     "metadata": {},
     "output_type": "display_data"
    },
    {
     "data": {
      "text/html": [
       "<pre style=\"white-space:pre;overflow-x:auto;line-height:normal;font-family:Menlo,'DejaVu Sans Mono',consolas,'Courier New',monospace\">The brainrender scene has been exported for web. The results are saved at \n",
       "..\\html_BrainRender\\50um_SNc_MPI6_Breg_4.04_mm.html\n",
       "</pre>\n"
      ]
     },
     "metadata": {},
     "output_type": "display_data"
    },
    {
     "name": "stderr",
     "output_type": "stream",
     "text": [
      "100%|██████████| 3/3 [03:09<00:00, 63.24s/it]\n"
     ]
    }
   ],
   "source": [
    "from brainrender import Scene, atlas\n",
    "from tqdm import tqdm\n",
    "\n",
    "cmap = plt.get_cmap('YlOrRd')\n",
    "list_coor = [-1700, 0, +2700, +3000, +4040] # Bregma corresponding coordinates\n",
    "timepoints = [1,3,6]\n",
    "\n",
    "data_sn = pd.read_csv('../output/predicted_pathology_seedSN.csv')\n",
    "reg_names = pd.read_excel('./Data83018/BrainR_ROInames.xlsx')\n",
    "for r in data_sn.index:\n",
    "    names = reg_names[reg_names['ROInames'] == data_sn.loc[r, 'regions']]['BrainR']\n",
    "    if len(names) > 1:\n",
    "         data_sn.loc[r, 'br_regions'] = list(names)[0]\n",
    "    elif len(names) == 1:    \n",
    "        data_sn.loc[r, 'br_regions'] = names.values   \n",
    "for r in data_sn.index:\n",
    "    if data_sn.loc[r, 'regions'][0] == 'i':\n",
    "        data_sn.loc[r, 'hem'] = 'right'\n",
    "    elif data_sn.loc[r, 'regions'][0] == 'c':\n",
    "        data_sn.loc[r, 'hem'] = 'left'\n",
    "data_sn = data_sn.dropna()\n",
    "\n",
    "# Normalization using max and min - Seed SN\n",
    "max_SN= np.max(data_sn['MPI6'])\n",
    "min_SN = np.min(data_sn['MPI1'])\n",
    "\n",
    "data_sn['MPI6'] = (data_sn['MPI6'] - min_SN) / (max_SN - min_SN)\n",
    "data_sn['MPI3'] = (data_sn['MPI3'] - min_SN) / (max_SN - min_SN)\n",
    "data_sn['MPI1'] = (data_sn['MPI1'] - min_SN) / (max_SN - min_SN)\n",
    "\n",
    "for t in tqdm(timepoints):\n",
    "    \n",
    "    for section in list_coor:\n",
    "        bregma = np.array([5400,  # AP    \n",
    "              0,  # DV    \n",
    "              5700,]) # ML\n",
    "\n",
    "        bregma[0] = bregma[0] + section\n",
    "\n",
    "        # Create a brainrender scene\n",
    "        scene = Scene(title=\"-Coronal section Bregma {} mm -50um thickness- Seed = SN - MPI {}\".format(section/1000,t), inset=False,screenshots_folder=\"../Screenshot_Brainrender/SN_MPIs\")\n",
    "        frontal_camera = {\n",
    "             'pos': (-19781, 3777, -5832),\n",
    "             'viewup': (0, -1, 0),\n",
    "             'clippingRange': (24465, 26836),\n",
    "            'focalPoint': (5705, 3991, -5691),\n",
    "             'distance': 25487}\n",
    "        \n",
    "\n",
    "        # Add brain regions\n",
    "        for r in data_sn.index:\n",
    "\n",
    "            region_to_plot = data_sn.loc[r, \"br_regions\"]\n",
    "            color = cmap(data_sn.loc[r, 'MPI{}'.format(t)])[:3]\n",
    "            alpha =  cmap(data_sn.loc[r, 'MPI{}'.format(t)])[:3]\n",
    "            scene.add_brain_region(region_to_plot, color=color, alpha=1, hemisphere=data_sn.loc[r, 'hem'], silhouette=True) #alpha=data_cpu.loc[r, 'MPI{}'.format(t)]\n",
    "\n",
    "\n",
    "        plane_1 = scene.atlas.get_plane(pos=bregma+50, plane=\"frontal\", norm=(-1, 0, 0), alpha=1, color=\"white\") # Thickness: 150 um\n",
    "        plane_2 = scene.atlas.get_plane(pos=bregma-50, plane=\"frontal\", norm=(1, 0, 0), alpha=1, color=\"white\")\n",
    "        scene.slice(plane_1, close_actors=True)\n",
    "        scene.slice(plane_2, close_actors=True)\n",
    "\n",
    "\n",
    "        brainrender.settings.SHADER_STYLE = \"plastic\" #[metallic, plastic, shiny, glossy]\n",
    "        brainrender.settings.ROOT_ALPHA = 0.15\n",
    "        brainrender.settings.ROOT_COLOR  = [1, 1, 1]\n",
    "        brainrender.settings.OFFSCREEN = True\n",
    "        brainrender.settings.SHOW_AXES = False\n",
    "        brainrender.settings.BACKGROUND_COLOR = \"white\"\n",
    "        scene.render(atlas_name='allen_mouse_50um', camera= frontal_camera, zoom=1.5)\n",
    "        scene.export('../html_BrainRender/50um_SNc_MPI{}_Breg_{}_mm.html'.format(t,section/1000))"
   ]
  },
  {
   "cell_type": "code",
   "execution_count": 22,
   "metadata": {},
   "outputs": [
    {
     "name": "stdout",
     "output_type": "stream",
     "text": [
      "Dropping Seed\n"
     ]
    },
    {
     "name": "stderr",
     "output_type": "stream",
     "text": [
      "  0%|          | 0/3 [00:00<?, ?it/s]"
     ]
    },
    {
     "data": {
      "text/html": [
       "<pre style=\"white-space:pre;overflow-x:auto;line-height:normal;font-family:Menlo,'DejaVu Sans Mono',consolas,'Courier New',monospace\">The brainrender scene has been exported for web. The results are saved at \n",
       "..\\html_BrainRender\\Horizontal_SN_MPI_1_Atlas_50um.html\n",
       "</pre>\n"
      ]
     },
     "metadata": {},
     "output_type": "display_data"
    },
    {
     "name": "stderr",
     "output_type": "stream",
     "text": [
      " 33%|███▎      | 1/3 [00:17<00:34, 17.29s/it]"
     ]
    },
    {
     "data": {
      "text/html": [
       "<pre style=\"white-space:pre;overflow-x:auto;line-height:normal;font-family:Menlo,'DejaVu Sans Mono',consolas,'Courier New',monospace\">The brainrender scene has been exported for web. The results are saved at \n",
       "..\\html_BrainRender\\Horizontal_SN_MPI_3_Atlas_50um.html\n",
       "</pre>\n"
      ]
     },
     "metadata": {},
     "output_type": "display_data"
    },
    {
     "name": "stderr",
     "output_type": "stream",
     "text": [
      " 67%|██████▋   | 2/3 [00:31<00:16, 16.34s/it]"
     ]
    },
    {
     "data": {
      "text/html": [
       "<pre style=\"white-space:pre;overflow-x:auto;line-height:normal;font-family:Menlo,'DejaVu Sans Mono',consolas,'Courier New',monospace\">The brainrender scene has been exported for web. The results are saved at \n",
       "..\\html_BrainRender\\Horizontal_SN_MPI_6_Atlas_50um.html\n",
       "</pre>\n"
      ]
     },
     "metadata": {},
     "output_type": "display_data"
    },
    {
     "name": "stderr",
     "output_type": "stream",
     "text": [
      "100%|██████████| 3/3 [00:45<00:00, 15.19s/it]\n"
     ]
    }
   ],
   "source": [
    "from brainrender import Scene, atlas\n",
    "from tqdm import tqdm\n",
    "timepoints =[1,3,6]\n",
    "cmap = plt.get_cmap('YlOrRd')\n",
    "\n",
    "top_side_camera = {\n",
    "    \"pos\": (4405, -31597, -5411),\n",
    "    \"viewup\": (0, 0, -1),\n",
    "    \"clippingRange\": (26892, 46454),\n",
    "}\n",
    "\n",
    "data_sn = pd.read_csv('../output/predicted_pathology_seedSN.csv')\n",
    "reg_names = pd.read_excel('./Data83018/BrainR_ROInames.xlsx')\n",
    "for r in data_sn.index:\n",
    "    names = reg_names[reg_names['ROInames'] == data_sn.loc[r, 'regions']]['BrainR']\n",
    "    if len(names) > 1:\n",
    "         data_sn.loc[r, 'br_regions'] = list(names)[0]\n",
    "    elif len(names) == 1:    \n",
    "        data_sn.loc[r, 'br_regions'] = names.values   \n",
    "for r in data_sn.index:\n",
    "    if data_sn.loc[r, 'regions'][0] == 'i':\n",
    "        data_sn.loc[r, 'hem'] = 'right'\n",
    "    elif data_sn.loc[r, 'regions'][0] == 'c':\n",
    "        data_sn.loc[r, 'hem'] = 'left'\n",
    "data_sn = data_sn.dropna()\n",
    "\n",
    "# Normalization using MPI6 - Seed SN\n",
    "max_SN= np.max(data_sn['MPI6'])\n",
    "min_SN = np.min(data_sn['MPI1'])\n",
    "\n",
    "data_sn['MPI6'] = (data_sn['MPI6'] - min_SN) / (max_SN - min_SN)\n",
    "data_sn['MPI3'] = (data_sn['MPI3'] - min_SN) / (max_SN - min_SN)\n",
    "data_sn['MPI1'] = (data_sn['MPI1'] - min_SN) / (max_SN - min_SN)\n",
    "\n",
    "for r in data_sn.index:\n",
    "     if data_sn.loc[r, \"br_regions\"] == \"SNc\" and data_sn.loc[r,'hem'] == 'right':\n",
    "            data_sn = data_sn.drop(r)\n",
    "            print(\"Dropping Seed\")\n",
    "\n",
    "for t in tqdm(timepoints):\n",
    "    scene = Scene(inset=True)\n",
    "    for r in data_sn.index:\n",
    "        region_to_plot = data_sn.loc[r, \"br_regions\"]\n",
    "        color = cmap(data_sn.loc[r, 'MPI{}'.format(t)])[:3]\n",
    "        alpha =  cmap(data_sn.loc[r, 'MPI{}'.format(t)])[:3]\n",
    "        scene.add_brain_region(region_to_plot, color=color, alpha=data_sn.loc[r, 'MPI{}'.format(t)], hemisphere=data_sn.loc[r, 'hem'], silhouette=True)\n",
    "        \n",
    "    scene.add_brain_region(\"SNc\", color=\"blue\", alpha=1, hemisphere='right', silhouette=True)\n",
    "    cp = scene.atlas.get_region(\"CP\")\n",
    "    plane = scene.atlas.get_plane(pos=cp.centerOfMass(), plane=\"horizontal\", norm=(0, 1, 0), alpha=1)\n",
    "    scene.slice(plane=plane, close_actors=True)\n",
    "\n",
    "\n",
    "    brainrender.settings.SHADER_STYLE = \"plastic\" #[metallic, plastic, shiny, glossy]\n",
    "    brainrender.settings.ROOT_ALPHA = 0.15\n",
    "    brainrender.settings.ROOT_COLOR  = [1, 1, 1]\n",
    "    brainrender.settings.OFFSCREEN = True\n",
    "    brainrender.settings.SHOW_AXES = False\n",
    "    brainrender.settings.BACKGROUND_COLOR = \"white\"\n",
    "    scene.render(atlas_name='allen_mouse_50um', camera= top_side_camera, zoom=1.5)\n",
    "    scene.export('../html_BrainRender/Horizontal_SN_MPI_{}_Atlas_50um.html'.format(t))"
   ]
  },
  {
   "cell_type": "code",
   "execution_count": 9,
   "metadata": {},
   "outputs": [
    {
     "name": "stdout",
     "output_type": "stream",
     "text": [
      "Dropping Seed\n"
     ]
    },
    {
     "name": "stderr",
     "output_type": "stream",
     "text": [
      "  0%|          | 0/3 [00:00<?, ?it/s]"
     ]
    },
    {
     "data": {
      "text/html": [
       "<pre style=\"white-space:pre;overflow-x:auto;line-height:normal;font-family:Menlo,'DejaVu Sans Mono',consolas,'Courier New',monospace\">The brainrender scene has been exported for web. The results are saved at \n",
       "..\\html_BrainRender\\Whole_SN_MPI_1_Atlas_50um.html\n",
       "</pre>\n"
      ]
     },
     "metadata": {},
     "output_type": "display_data"
    },
    {
     "name": "stderr",
     "output_type": "stream",
     "text": [
      " 33%|███▎      | 1/3 [00:17<00:35, 17.70s/it]"
     ]
    },
    {
     "data": {
      "text/html": [
       "<pre style=\"white-space:pre;overflow-x:auto;line-height:normal;font-family:Menlo,'DejaVu Sans Mono',consolas,'Courier New',monospace\">The brainrender scene has been exported for web. The results are saved at \n",
       "..\\html_BrainRender\\Whole_SN_MPI_3_Atlas_50um.html\n",
       "</pre>\n"
      ]
     },
     "metadata": {},
     "output_type": "display_data"
    },
    {
     "name": "stderr",
     "output_type": "stream",
     "text": [
      " 67%|██████▋   | 2/3 [00:34<00:17, 17.57s/it]"
     ]
    },
    {
     "data": {
      "text/html": [
       "<pre style=\"white-space:pre;overflow-x:auto;line-height:normal;font-family:Menlo,'DejaVu Sans Mono',consolas,'Courier New',monospace\">The brainrender scene has been exported for web. The results are saved at \n",
       "..\\html_BrainRender\\Whole_SN_MPI_6_Atlas_50um.html\n",
       "</pre>\n"
      ]
     },
     "metadata": {},
     "output_type": "display_data"
    },
    {
     "name": "stderr",
     "output_type": "stream",
     "text": [
      "100%|██████████| 3/3 [00:52<00:00, 17.61s/it]\n"
     ]
    }
   ],
   "source": [
    "from brainrender import Scene, atlas\n",
    "from tqdm import tqdm\n",
    "timepoints =[1,3,6]\n",
    "cmap = plt.get_cmap('YlOrRd')\n",
    "\n",
    "top_side_camera = {\n",
    "    \"pos\": (4405, -31597, -5411),\n",
    "    \"viewup\": (0, 0, -1),\n",
    "    \"clippingRange\": (26892, 46454),\n",
    "}\n",
    "\n",
    "data_sn = pd.read_csv('../output/predicted_pathology_seedSN.csv')\n",
    "reg_names = pd.read_excel('./Data83018/BrainR_ROInames.xlsx')\n",
    "for r in data_sn.index:\n",
    "    names = reg_names[reg_names['ROInames'] == data_sn.loc[r, 'regions']]['BrainR']\n",
    "    if len(names) > 1:\n",
    "         data_sn.loc[r, 'br_regions'] = list(names)[0]\n",
    "    elif len(names) == 1:    \n",
    "        data_sn.loc[r, 'br_regions'] = names.values   \n",
    "for r in data_sn.index:\n",
    "    if data_sn.loc[r, 'regions'][0] == 'i':\n",
    "        data_sn.loc[r, 'hem'] = 'right'\n",
    "    elif data_sn.loc[r, 'regions'][0] == 'c':\n",
    "        data_sn.loc[r, 'hem'] = 'left'\n",
    "data_sn = data_sn.dropna()\n",
    "\n",
    "# Normalization using MPI6 - Seed SN\n",
    "max_SN= np.max(data_sn['MPI6'])\n",
    "min_SN = np.min(data_sn['MPI1'])\n",
    "\n",
    "data_sn['MPI6'] = (data_sn['MPI6'] - min_SN) / (max_SN - min_SN)\n",
    "data_sn['MPI3'] = (data_sn['MPI3'] - min_SN) / (max_SN - min_SN)\n",
    "data_sn['MPI1'] = (data_sn['MPI1'] - min_SN) / (max_SN - min_SN)\n",
    "\n",
    "for r in data_sn.index:\n",
    "     if data_sn.loc[r, \"br_regions\"] == \"SNc\" and data_sn.loc[r,'hem'] == 'right':\n",
    "            data_sn = data_sn.drop(r)\n",
    "            print(\"Dropping Seed\")\n",
    "\n",
    "for t in tqdm(timepoints):\n",
    "    scene = Scene(inset=True)\n",
    "    for r in data_sn.index:\n",
    "        region_to_plot = data_sn.loc[r, \"br_regions\"]\n",
    "        color = cmap(data_sn.loc[r, 'MPI{}'.format(t)])[:3]\n",
    "        alpha =  cmap(data_sn.loc[r, 'MPI{}'.format(t)])[:3]\n",
    "        scene.add_brain_region(region_to_plot, color=color, alpha=data_sn.loc[r, 'MPI{}'.format(t)], hemisphere=data_sn.loc[r, 'hem'], silhouette=True)\n",
    "        \n",
    "    scene.add_brain_region(\"SNc\", color=\"blue\", alpha=1, hemisphere='right', silhouette=True)\n",
    "\n",
    "\n",
    "    brainrender.settings.SHADER_STYLE = \"plastic\" #[metallic, plastic, shiny, glossy]\n",
    "    brainrender.settings.ROOT_ALPHA = 0.1\n",
    "    brainrender.settings.ROOT_COLOR  = [1, 1, 1]\n",
    "    brainrender.settings.OFFSCREEN = True\n",
    "    brainrender.settings.SHOW_AXES = False\n",
    "    brainrender.settings.BACKGROUND_COLOR = \"white\"\n",
    "    scene.render(atlas_name='allen_mouse_50um', camera= top_side_camera, zoom=1.5)\n",
    "    scene.export('../html_BrainRender/Whole_SN_MPI_{}_Atlas_50um.html'.format(t))"
   ]
  },
  {
   "cell_type": "code",
   "execution_count": null,
   "metadata": {},
   "outputs": [],
   "source": []
  }
 ],
 "metadata": {
  "kernelspec": {
   "display_name": "render",
   "language": "python",
   "name": "render"
  },
  "language_info": {
   "codemirror_mode": {
    "name": "ipython",
    "version": 3
   },
   "file_extension": ".py",
   "mimetype": "text/x-python",
   "name": "python",
   "nbconvert_exporter": "python",
   "pygments_lexer": "ipython3",
   "version": "3.7.9"
  }
 },
 "nbformat": 4,
 "nbformat_minor": 4
}
